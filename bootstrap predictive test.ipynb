{
 "cells": [
  {
   "cell_type": "code",
   "execution_count": 34,
   "metadata": {
    "collapsed": false
   },
   "outputs": [],
   "source": [
    "import pandas as pd\n",
    "import numpy as np\n",
    "import matplotlib.pyplot as plt\n",
    "import scipy.optimize as op\n",
    "import emcee\n",
    "import collections\n",
    "%matplotlib inline"
   ]
  },
  {
   "cell_type": "code",
   "execution_count": 6,
   "metadata": {
    "collapsed": true
   },
   "outputs": [],
   "source": [
    "df=pd.read_csv(\"NED26.05.1-D-12.1.0-20160501.csv\",skiprows=12)\n",
    "df=df[np.isnan(df['redshift (z)'])]\n",
    "df=df[np.isfinite(df.err)]"
   ]
  },
  {
   "cell_type": "code",
   "execution_count": 7,
   "metadata": {
    "collapsed": false
   },
   "outputs": [
    {
     "data": {
      "text/plain": [
       "1328280"
      ]
     },
     "execution_count": 7,
     "metadata": {},
     "output_type": "execute_result"
    }
   ],
   "source": [
    "df.size"
   ]
  },
  {
   "cell_type": "code",
   "execution_count": 8,
   "metadata": {
    "collapsed": true
   },
   "outputs": [],
   "source": [
    "df=df[df['D (Mpc)']>35]\n",
    "#df=df[df['D (Mpc)']<500]\n"
   ]
  },
  {
   "cell_type": "code",
   "execution_count": null,
   "metadata": {
    "collapsed": true
   },
   "outputs": [],
   "source": []
  },
  {
   "cell_type": "code",
   "execution_count": 18,
   "metadata": {
    "collapsed": false
   },
   "outputs": [],
   "source": [
    "meth=[]\n",
    "ndat=[]\n",
    "for i in np.unique(df.Method):\n",
    "    df1=df[df.Method==i]\n",
    "    meth+=[i]\n",
    "    ndat+=[df1.shape[0]]\n",
    "listcut=np.unique(df1['Galaxy ID'])"
   ]
  },
  {
   "cell_type": "code",
   "execution_count": 19,
   "metadata": {
    "collapsed": false
   },
   "outputs": [
    {
     "data": {
      "text/html": [
       "<div>\n",
       "<table border=\"1\" class=\"dataframe\">\n",
       "  <thead>\n",
       "    <tr style=\"text-align: right;\">\n",
       "      <th></th>\n",
       "      <th>method</th>\n",
       "      <th>nrows</th>\n",
       "    </tr>\n",
       "  </thead>\n",
       "  <tbody>\n",
       "    <tr>\n",
       "      <th>0</th>\n",
       "      <td>AGN time lag</td>\n",
       "      <td>25</td>\n",
       "    </tr>\n",
       "    <tr>\n",
       "      <th>1</th>\n",
       "      <td>BL Lac Luminosity</td>\n",
       "      <td>14</td>\n",
       "    </tr>\n",
       "    <tr>\n",
       "      <th>2</th>\n",
       "      <td>Black Hole</td>\n",
       "      <td>14</td>\n",
       "    </tr>\n",
       "    <tr>\n",
       "      <th>3</th>\n",
       "      <td>CMD</td>\n",
       "      <td>3</td>\n",
       "    </tr>\n",
       "    <tr>\n",
       "      <th>4</th>\n",
       "      <td>Cepheids</td>\n",
       "      <td>4</td>\n",
       "    </tr>\n",
       "  </tbody>\n",
       "</table>\n",
       "</div>"
      ],
      "text/plain": [
       "              method  nrows\n",
       "0       AGN time lag     25\n",
       "1  BL Lac Luminosity     14\n",
       "2         Black Hole     14\n",
       "3                CMD      3\n",
       "4           Cepheids      4"
      ]
     },
     "execution_count": 19,
     "metadata": {},
     "output_type": "execute_result"
    }
   ],
   "source": [
    "info=pd.DataFrame({'method':meth,'nrows':ndat})\n",
    "info.head()"
   ]
  },
  {
   "cell_type": "code",
   "execution_count": 31,
   "metadata": {
    "collapsed": false
   },
   "outputs": [],
   "source": [
    "namelist=list(df1['Galaxy ID']) # list of galaxies\n",
    "counter=collections.Counter(namelist) # count measurements p. galaxy\n",
    "# select galaxies with a minimum number of measurements\n",
    "ulist=[]\n",
    "nmeas=10\n",
    "for i in counter.keys():\n",
    "    if counter[i]>nmeas:\n",
    "        ulist+=[i]\n",
    "dfs=df1[np.in1d(df1['Galaxy ID'],ulist)] # short dataframe"
   ]
  },
  {
   "cell_type": "code",
   "execution_count": 38,
   "metadata": {
    "collapsed": false
   },
   "outputs": [],
   "source": []
  },
  {
   "cell_type": "code",
   "execution_count": 44,
   "metadata": {
    "collapsed": false
   },
   "outputs": [],
   "source": []
  },
  {
   "cell_type": "code",
   "execution_count": 50,
   "metadata": {
    "collapsed": false
   },
   "outputs": [],
   "source": [
    "\n",
    "\n"
   ]
  },
  {
   "cell_type": "code",
   "execution_count": 51,
   "metadata": {
    "collapsed": false
   },
   "outputs": [
    {
     "data": {
      "text/plain": [
       "436    347\n",
       "437    348\n",
       "438    349\n",
       "439    350\n",
       "440    351\n",
       "441    352\n",
       "442    353\n",
       "443    354\n",
       "444    355\n",
       "445    356\n",
       "446    357\n",
       "447    358\n",
       "448    359\n",
       "449    360\n",
       "450    361\n",
       "451    362\n",
       "452    363\n",
       "453    364\n",
       "454    365\n",
       "Name: D, dtype: int64"
      ]
     },
     "execution_count": 51,
     "metadata": {},
     "output_type": "execute_result"
    }
   ],
   "source": [
    "10**dummy.D"
   ]
  },
  {
   "cell_type": "code",
   "execution_count": 160,
   "metadata": {
    "collapsed": true
   },
   "outputs": [],
   "source": [
    "disterr=0.461*dfs['D (Mpc)']*dfs.err "
   ]
  },
  {
   "cell_type": "code",
   "execution_count": 22,
   "metadata": {
    "collapsed": false
   },
   "outputs": [
    {
     "data": {
      "text/plain": [
       "'2MASX J00511665-2156048'"
      ]
     },
     "execution_count": 22,
     "metadata": {},
     "output_type": "execute_result"
    }
   ],
   "source": [
    "i=listcut[10]\n",
    "i"
   ]
  },
  {
   "cell_type": "markdown",
   "metadata": {},
   "source": [
    "        errlist[k,0]=em # Number of measurements for each galaxy\n",
    "        errlist[k,1]=np.mean(booterr) # Percentiles of the combined distance distributions (50, 84, 16):\n",
    "        errlist[k,2]=(np.percentile(booterr, 84)-np.percentile(booterr, 16))\n",
    "        errlist[k,3]=dumerr.mean() # average reported error (Delta)\n",
    "        errlist[k,4]=dummy['D (Mpc)'].mean() # average reported distance (D)\n",
    "        errlist[k,5]=np.linalg.norm(dumerr/dummy['D (Mpc)'])*(dummy['D (Mpc)'].mean()) # rms error (D)\n",
    "        errlist[k,6]=np.mean(bootmean)/1e6 # rms error (D)"
   ]
  },
  {
   "cell_type": "code",
   "execution_count": null,
   "metadata": {
    "collapsed": true
   },
   "outputs": [],
   "source": []
  },
  {
   "cell_type": "code",
   "execution_count": 176,
   "metadata": {
    "collapsed": false,
    "scrolled": true
   },
   "outputs": [],
   "source": [
    "nbins=1000 # \n",
    "em=[] # 0\n",
    "bootp50=[] #1\n",
    "bootsig=[] #2\n",
    "derr=[] #3\n",
    "dmean=[] #4\n",
    "rmserr=[] #5\n",
    "for i in ulist:\n",
    "    dfilter=np.in1d(dfs['Galaxy ID'],i)\n",
    "    dummy=dfs[dfilter]\n",
    "    em+=[len(dummy)]\n",
    "    tli=[]\n",
    "    for km,ke in zip(dummy['m-M'],dummy['err']):\n",
    "        tli+=[list(10**(np.random.normal(km,ke,nbins)/5.+1))]\n",
    "    booterr=np.percentile(tli, 84,axis=0)/1e6-np.percentile(tli, 16,axis=0)/1e6\n",
    "    #bootmean=np.mean(tli,axis=0) # rms -- is it useful?\n",
    "    dumerr=disterr[dfilter]\n",
    "    derr+=[dumerr.mean()] # average reported error (Delta) -- is it useful?\n",
    "    bootp50+=[np.mean(booterr)]\n",
    "    bootsig+=[(np.percentile(booterr, 84)-np.percentile(booterr, 16))]\n",
    "    dmean+=[dummy['D (Mpc)'].mean()] # average reported distance (D)\n",
    "#    rmserr+=[np.linalg.norm(dumerr/dummy['D (Mpc)'])*dmean] # rms error (D)\n",
    "#drms=np.mean(bootmean)/1e6 # rms error (D)"
   ]
  },
  {
   "cell_type": "code",
   "execution_count": 172,
   "metadata": {
    "collapsed": false
   },
   "outputs": [
    {
     "data": {
      "text/plain": [
       "565"
      ]
     },
     "execution_count": 172,
     "metadata": {},
     "output_type": "execute_result"
    }
   ],
   "source": [
    "len(bootsig)"
   ]
  },
  {
   "cell_type": "code",
   "execution_count": null,
   "metadata": {
    "collapsed": true
   },
   "outputs": [],
   "source": []
  },
  {
   "cell_type": "code",
   "execution_count": null,
   "metadata": {
    "collapsed": true
   },
   "outputs": [],
   "source": []
  },
  {
   "cell_type": "code",
   "execution_count": 159,
   "metadata": {
    "collapsed": false
   },
   "outputs": [
    {
     "data": {
      "text/plain": [
       "array([ 85946271.68911541,  77804310.90120584,  82226671.57987948, ...,\n",
       "        87784807.50177482,  83617733.45212033,  85059023.21462564])"
      ]
     },
     "execution_count": 159,
     "metadata": {},
     "output_type": "execute_result"
    }
   ],
   "source": [
    "bootmean"
   ]
  },
  {
   "cell_type": "code",
   "execution_count": 154,
   "metadata": {
    "collapsed": false
   },
   "outputs": [
    {
     "data": {
      "text/plain": [
       "33.77563206355557"
      ]
     },
     "execution_count": 154,
     "metadata": {},
     "output_type": "execute_result"
    }
   ],
   "source": [
    "booterr.mean()"
   ]
  },
  {
   "cell_type": "code",
   "execution_count": 97,
   "metadata": {
    "collapsed": false,
    "scrolled": true
   },
   "outputs": [],
   "source": [
    "tli=np.array(tli) # is this useful? "
   ]
  },
  {
   "cell_type": "code",
   "execution_count": 105,
   "metadata": {
    "collapsed": false
   },
   "outputs": [],
   "source": []
  },
  {
   "cell_type": "code",
   "execution_count": 86,
   "metadata": {
    "collapsed": false
   },
   "outputs": [
    {
     "data": {
      "text/plain": [
       "19"
      ]
     },
     "execution_count": 86,
     "metadata": {},
     "output_type": "execute_result"
    }
   ],
   "source": [
    "len(dummy)"
   ]
  },
  {
   "cell_type": "code",
   "execution_count": null,
   "metadata": {
    "collapsed": true
   },
   "outputs": [],
   "source": [
    "%%time\n",
    "errlist=np.zeros((len(listcut),7))\n",
    "k=0\n",
    "ncutoff=15\n",
    "nbins=1 # resolution for the generated distributions\n",
    "nreal=1000\n",
    "for i in listcut:\n",
    "    dfilter=(df1['Galaxy ID']==i)\n",
    "    if(len(df1[dfilter])>ncutoff): # Select galaxies which have more than n measurements\n",
    "        \n",
    "        dummy=df1[dfilter]\n",
    "        booterr=np.zeros(nreal)\n",
    "        bootmean=np.zeros(nreal)\n",
    "        for l in range(nreal):\n",
    "            data=np.array([])\n",
    "            for i in dummy.D:\n",
    "                otherfilter=dummy.D==i\n",
    "                # generate distance distribution for each distance modulus/ distance modulus error measurement\n",
    "                AA=10**(np.random.normal(dummy['m-M'][otherfilter],dummy['err'][otherfilter],nbins)/5.+1)\n",
    "                data=np.hstack((data,AA))            \n",
    "            booterr[l]=np.percentile(data, 84)/1e6-np.percentile(data, 16)/1e6\n",
    "            bootmean[l]=np.mean(data)\n",
    "        dumerr=disterr[dfilter]\n",
    "#        print np.mean(booterr),(np.percentile(booterr, 84)-np.percentile(booterr, 16)),dumerr.mean(),np.linalg.norm(dumerr/dummy['D (Mpc)'])*(dummy['D (Mpc)'].mean())\n",
    "\n",
    "        em=len(df1[dfilter])\n",
    "#        r = gmm.fit(data[:, np.newaxis])\n",
    "        # Distances in Mpc\n",
    "#        errlist[k,0]=r.means_[0, 0]/1e6 # Centroid of the GMM-fitted distribution\n",
    "        errlist[k,0]=em # Number of measurements for each galaxy\n",
    "#        errlist[k,2]=np.sqrt(r.covars_[0, 0])/1e6 # Variance of the GMM-fitted distribution\n",
    "        errlist[k,1]=np.mean(booterr) # Percentiles of the combined distance distributions (50, 84, 16):\n",
    "        errlist[k,2]=(np.percentile(booterr, 84)-np.percentile(booterr, 16))\n",
    "        errlist[k,3]=dumerr.mean() # average reported error (Delta)\n",
    "        errlist[k,4]=dummy['D (Mpc)'].mean() # average reported distance (D)\n",
    "        errlist[k,5]=np.linalg.norm(dumerr/dummy['D (Mpc)'])*(dummy['D (Mpc)'].mean()) # rms error (D)\n",
    "        errlist[k,6]=np.mean(bootmean)/1e6 # rms error (D)\n",
    "    k+=1"
   ]
  },
  {
   "cell_type": "code",
   "execution_count": 82,
   "metadata": {
    "collapsed": false
   },
   "outputs": [
    {
     "name": "stdout",
     "output_type": "stream",
     "text": [
      "CPU times: user 2h 51min 24s, sys: 1.19 s, total: 2h 51min 25s\n",
      "Wall time: 2h 51min 40s\n"
     ]
    }
   ],
   "source": [
    "%%time\n",
    "nbins=1 # resolution for the generated distributions\n",
    "nreal=100\n",
    "\n",
    "for lk in range(100):\n",
    "    errlist=np.zeros((len(listcho),4))\n",
    "    k=0\n",
    "    for i in listcho:\n",
    "        dfilter=(df1['Galaxy ID']==i)\n",
    "        glen=dfilter.sum()\n",
    "        boolar=np.ones(glen).astype(bool)\n",
    "        boolar[np.random.random_integers(glen)-1]=False\n",
    "        dummy=df1[dfilter][boolar]\n",
    "        booterr=np.zeros(nreal)\n",
    "        bootmean=np.zeros(nreal)\n",
    "        for l in range(nreal):\n",
    "            data=np.array([])\n",
    "            for i in dummy.D:\n",
    "                otherfilter=(dummy.D==i)\n",
    "                # generate distance distribution for each distance modulus/ distance modulus error measurement\n",
    "                AA=10**(np.random.normal(dummy['m-M'][otherfilter],dummy['err'][otherfilter],nbins)/5.+1)\n",
    "                data=np.hstack((data,AA))            \n",
    "            booterr[l]=np.percentile(data, 84)/1e6-np.percentile(data, 16)/1e6\n",
    "            bootmean[l]=np.mean(data)\n",
    "        dumerr=disterr[dfilter]\n",
    "    #        print np.mean(booterr),(np.percentile(booterr, 84)-np.percentile(booterr, 16)),dumerr.mean(),np.linalg.norm(dumerr/dummy['D (Mpc)'])*(dummy['D (Mpc)'].mean())\n",
    "\n",
    "        em=len(df1[dfilter][boolar])\n",
    "        # Distances in Mpc\n",
    "        errlist[k,0]=em # Number of measurements for each galaxy\n",
    "        errlist[k,1]=np.mean(booterr) # Percentiles of the combined distance distributions (50, 84, 16):\n",
    "        errlist[k,2]=(np.percentile(booterr, 84)-np.percentile(booterr, 16))\n",
    "        errlist[k,3]=np.mean(bootmean)/1e6 # rms error (D)\n",
    "        k+=1\n",
    "    x=errlist[(errlist[:,0]!=0)][:,3]\n",
    "    y=errlist[(errlist[:,0]!=0)][:,1]\n",
    "    yerr=errlist[(errlist[:,0]!=0)][:,2]\n",
    "    ydel=yerr\n",
    "    # discrepancy test\n",
    "    # This block uses the emcee MCMC sampler to estimate the posterior probability\n",
    "    # 1. Guess the starting places for the walkers from a maximum likelihood fit\n",
    "    nll = lambda *args: -lnlike(*args)\n",
    "    argum=(x, y,yerr,ydel)\n",
    "    result = op.minimize(nll, [1,1,1,1,1,1], args=argum)\n",
    "    m_ml, b_ml,n_ml,f_ml,o_ml,g_ml= result[\"x\"]\n",
    "    ndim, nwalkers = len(result[\"x\"]), 100\n",
    "    pos = [result[\"x\"] + 1e-4*np.random.randn(ndim) for i in range(nwalkers)]\n",
    "    sampler = emcee.EnsembleSampler(nwalkers, ndim, lnprob, args=argum) \n",
    "    # 2. Let the walkers walk 1000 steps (10000 will do the trick as well)\n",
    "    sampler.run_mcmc(pos, 1000);\n",
    "    # Here we remove the burn-in steps, which we estimate to be around 100\n",
    "    # This can be estimated by calculating the autocorrelation time (see below)\n",
    "    samples = sampler.chain[:, 100:, :].reshape((-1, ndim)) \n",
    "    discobs=[]\n",
    "    discsim=[]\n",
    "    nrealiz=10000\n",
    "    for m,b,n,f,o,g in samples[np.random.randint(len(samples), size=nrealiz)]: # draw Theta_i from posterior predictive, do this 5000 times\n",
    "        AAA=samples[np.random.randint(len(samples), size=len(x))]\n",
    "        y_sim=AAA[:,0]*x+AAA[:,1]+AAA[:,2]*ydel*x+AAA[:,3]*ydel+AAA[:,4]*ydel**2+AAA[:,5]*x**2 # create a synthetic dataset\n",
    "        yexp=m*x+b+n*ydel*x+f*ydel+o*ydel**2+g*x**2 # calculate expected values from Theta_i\n",
    "    # Calculate discrepancies using the Freeman-Tukey statistic\n",
    "        discobs.append(((np.sqrt(y)-np.sqrt(yexp))**2).sum())\n",
    "        discsim.append(((np.sqrt(y_sim)-np.sqrt(yexp))**2).sum())\n",
    "    discobs=np.asarray(discobs)\n",
    "    discsim=np.asarray(discsim)\n",
    "    dtest.append((discobs<discsim).sum()*1./len(discobs))"
   ]
  },
  {
   "cell_type": "code",
   "execution_count": 16,
   "metadata": {
    "collapsed": false,
    "scrolled": true
   },
   "outputs": [
    {
     "name": "stdout",
     "output_type": "stream",
     "text": [
      "CPU times: user 16.1 s, sys: 0 ns, total: 16.1 s\n",
      "Wall time: 16.1 s\n"
     ]
    }
   ],
   "source": [
    "%%time\n",
    "ncutoff=12\n",
    "listcho=[]\n",
    "for i in listcut:\n",
    "    dfilter=(df1['Galaxy ID']==i)\n",
    "    if(len(df1[dfilter])>ncutoff): # Select galaxies which have more than n measurements\n",
    "        listcho.append(i)\n"
   ]
  },
  {
   "cell_type": "code",
   "execution_count": null,
   "metadata": {
    "collapsed": true
   },
   "outputs": [],
   "source": [
    "dtest=[]"
   ]
  },
  {
   "cell_type": "code",
   "execution_count": 59,
   "metadata": {
    "collapsed": true
   },
   "outputs": [],
   "source": [
    "# Likelihood\n",
    "def lnlike(theta, x, y,yerr,ydel):\n",
    "    m ,b,n,f,o,g = theta\n",
    "    model = m * x +b+n*ydel*x+f*ydel+o*ydel**2+g*x**2 # model equation\n",
    "    inv_sigma2 = 1.0/((yerr)**2) # weighted by the GMM-fitted sigma\n",
    "    return -0.5*(np.sum((y-model)**2*inv_sigma2 - np.log(2*np.pi*inv_sigma2))) \n",
    "# Priors\n",
    "def lnprior(theta):\n",
    "    m, b,n,f,o,g = theta\n",
    "    if -2 < m < 2 and -20 < b < 20 and  -1 < n < 1 and -10 < f < 10 and -10 < o < 10 and -10 < g < 10:\n",
    "        return 0.0\n",
    "    return -np.inf\n",
    "# Posterior probability\n",
    "def lnprob(theta, x, y,yerr,ydel):\n",
    "    lp = lnprior(theta)\n",
    "    if not np.isfinite(lp):\n",
    "        return -np.inf\n",
    "    return lp + lnlike(theta, x, y,yerr,ydel)"
   ]
  },
  {
   "cell_type": "code",
   "execution_count": 83,
   "metadata": {
    "collapsed": false
   },
   "outputs": [
    {
     "data": {
      "text/plain": [
       "[0.0385,\n",
       " 0.034500000000000003,\n",
       " 0.068900000000000003,\n",
       " 0.0246,\n",
       " 0.14180000000000001,\n",
       " 0.11210000000000001,\n",
       " 0.046699999999999998,\n",
       " 0.048500000000000001,\n",
       " 0.053800000000000001,\n",
       " 0.051200000000000002,\n",
       " 0.023599999999999999,\n",
       " 0.074300000000000005,\n",
       " 0.055199999999999999,\n",
       " 0.020299999999999999,\n",
       " 0.069900000000000004,\n",
       " 0.1106,\n",
       " 0.030099999999999998,\n",
       " 0.043200000000000002,\n",
       " 0.050999999999999997,\n",
       " 0.059400000000000001,\n",
       " 0.063,\n",
       " 0.042799999999999998,\n",
       " 0.056599999999999998,\n",
       " 0.041599999999999998,\n",
       " 0.039300000000000002,\n",
       " 0.047300000000000002,\n",
       " 0.058299999999999998,\n",
       " 0.038800000000000001,\n",
       " 0.050500000000000003,\n",
       " 0.051400000000000001,\n",
       " 0.043900000000000002,\n",
       " 0.030800000000000001,\n",
       " 0.016899999999999998,\n",
       " 0.0252,\n",
       " 0.050799999999999998,\n",
       " 0.073300000000000004,\n",
       " 0.1198,\n",
       " 0.051499999999999997,\n",
       " 0.025600000000000001,\n",
       " 0.0287,\n",
       " 0.056599999999999998,\n",
       " 0.066000000000000003,\n",
       " 0.029100000000000001,\n",
       " 0.054800000000000001,\n",
       " 0.085400000000000004,\n",
       " 0.045499999999999999,\n",
       " 0.01,\n",
       " 0.1028,\n",
       " 0.071400000000000005,\n",
       " 0.081900000000000001,\n",
       " 0.0361,\n",
       " 0.014999999999999999,\n",
       " 0.055599999999999997,\n",
       " 0.0327,\n",
       " 0.055,\n",
       " 0.10920000000000001,\n",
       " 0.047800000000000002,\n",
       " 0.070699999999999999,\n",
       " 0.049399999999999999,\n",
       " 0.0424,\n",
       " 0.17430000000000001,\n",
       " 0.015699999999999999,\n",
       " 0.044499999999999998,\n",
       " 0.1022,\n",
       " 0.019099999999999999,\n",
       " 0.025899999999999999,\n",
       " 0.080399999999999999,\n",
       " 0.033399999999999999,\n",
       " 0.070699999999999999,\n",
       " 0.020799999999999999,\n",
       " 0.0161,\n",
       " 0.0521,\n",
       " 0.028500000000000001,\n",
       " 0.035499999999999997,\n",
       " 0.1545,\n",
       " 0.0378,\n",
       " 0.17069999999999999,\n",
       " 0.053400000000000003,\n",
       " 0.0235,\n",
       " 0.0083999999999999995,\n",
       " 0.121,\n",
       " 0.040000000000000001,\n",
       " 0.054600000000000003,\n",
       " 0.0224,\n",
       " 0.020299999999999999,\n",
       " 0.099299999999999999,\n",
       " 0.042299999999999997,\n",
       " 0.033799999999999997,\n",
       " 0.044400000000000002,\n",
       " 0.031399999999999997,\n",
       " 0.073800000000000004,\n",
       " 0.088400000000000006,\n",
       " 0.053900000000000003,\n",
       " 0.0516,\n",
       " 0.035200000000000002,\n",
       " 0.0516,\n",
       " 0.015100000000000001,\n",
       " 0.079500000000000001,\n",
       " 0.045900000000000003,\n",
       " 0.042900000000000001,\n",
       " 0.048099999999999997,\n",
       " 0.035799999999999998,\n",
       " 0.13830000000000001,\n",
       " 0.073800000000000004,\n",
       " 0.065500000000000003,\n",
       " 0.0235,\n",
       " 0.031199999999999999,\n",
       " 0.083099999999999993,\n",
       " 0.0625,\n",
       " 0.034200000000000001]"
      ]
     },
     "execution_count": 83,
     "metadata": {},
     "output_type": "execute_result"
    }
   ],
   "source": [
    "dtest"
   ]
  },
  {
   "cell_type": "code",
   "execution_count": 84,
   "metadata": {
    "collapsed": true
   },
   "outputs": [],
   "source": [
    "this=np.asarray(dtest)"
   ]
  },
  {
   "cell_type": "code",
   "execution_count": 85,
   "metadata": {
    "collapsed": false
   },
   "outputs": [
    {
     "data": {
      "text/plain": [
       "(array([ 16.,  24.,  36.,  15.,   6.,   3.,   5.,   1.,   2.,   2.]),\n",
       " array([ 0.0084 ,  0.02499,  0.04158,  0.05817,  0.07476,  0.09135,\n",
       "         0.10794,  0.12453,  0.14112,  0.15771,  0.1743 ]),\n",
       " <a list of 10 Patch objects>)"
      ]
     },
     "execution_count": 85,
     "metadata": {},
     "output_type": "execute_result"
    },
    {
     "data": {
      "image/png": "[encoded data removed]",
      "text/plain": [
       "<matplotlib.figure.Figure at 0x7f0a75bc2610>"
      ]
     },
     "metadata": {},
     "output_type": "display_data"
    }
   ],
   "source": [
    "plt.hist(this)"
   ]
  },
  {
   "cell_type": "code",
   "execution_count": 81,
   "metadata": {
    "collapsed": false
   },
   "outputs": [
    {
     "data": {
      "text/plain": [
       "array([ 12.,  13.,  14.,  15.,  16.,  17.,  18.,  19.,  20.,  21.,  22.])"
      ]
     },
     "execution_count": 81,
     "metadata": {},
     "output_type": "execute_result"
    }
   ],
   "source": [
    "np.unique(errlist[:,0])"
   ]
  },
  {
   "cell_type": "code",
   "execution_count": 87,
   "metadata": {
    "collapsed": false
   },
   "outputs": [
    {
     "data": {
      "text/plain": [
       "16"
      ]
     },
     "execution_count": 87,
     "metadata": {},
     "output_type": "execute_result"
    }
   ],
   "source": [
    "(this<0.025).sum()"
   ]
  },
  {
   "cell_type": "code",
   "execution_count": 88,
   "metadata": {
    "collapsed": false
   },
   "outputs": [
    {
     "data": {
      "text/plain": [
       "110"
      ]
     },
     "execution_count": 88,
     "metadata": {},
     "output_type": "execute_result"
    }
   ],
   "source": [
    "len(this)"
   ]
  },
  {
   "cell_type": "code",
   "execution_count": 90,
   "metadata": {
    "collapsed": false
   },
   "outputs": [
    {
     "data": {
      "text/plain": [
       "0.14545454545454545"
      ]
     },
     "execution_count": 90,
     "metadata": {},
     "output_type": "execute_result"
    }
   ],
   "source": [
    "16./110"
   ]
  },
  {
   "cell_type": "code",
   "execution_count": 94,
   "metadata": {
    "collapsed": false
   },
   "outputs": [
    {
     "data": {
      "text/plain": [
       "337.33050556056185"
      ]
     },
     "execution_count": 94,
     "metadata": {},
     "output_type": "execute_result"
    }
   ],
   "source": [
    "-(np.log(this)).sum()"
   ]
  },
  {
   "cell_type": "code",
   "execution_count": 95,
   "metadata": {
    "collapsed": false
   },
   "outputs": [
    {
     "data": {
      "text/plain": [
       "0.99999940412493504"
      ]
     },
     "execution_count": 95,
     "metadata": {},
     "output_type": "execute_result"
    }
   ],
   "source": [
    " stats.chi2.cdf(337.33, 2*110.)"
   ]
  },
  {
   "cell_type": "code",
   "execution_count": null,
   "metadata": {
    "collapsed": true
   },
   "outputs": [],
   "source": []
  }
 ],
 "metadata": {
  "kernelspec": {
   "display_name": "Python 3",
   "language": "python",
   "name": "python3"
  },
  "language_info": {
   "codemirror_mode": {
    "name": "ipython",
    "version": 3
   },
   "file_extension": ".py",
   "mimetype": "text/x-python",
   "name": "python",
   "nbconvert_exporter": "python",
   "pygments_lexer": "ipython3",
   "version": "3.6.1"
  }
 },
 "nbformat": 4,
 "nbformat_minor": 0
}
