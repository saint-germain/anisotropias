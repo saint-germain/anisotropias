{
 "cells": [
  {
   "cell_type": "code",
   "execution_count": 1,
   "metadata": {
    "collapsed": false
   },
   "outputs": [
    {
     "name": "stderr",
     "output_type": "stream",
     "text": [
      "/usr/local/lib/python2.7/dist-packages/IPython/html.py:14: ShimWarning: The `IPython.html` package has been deprecated. You should import from `notebook` instead. `IPython.html.widgets` has moved to `ipywidgets`.\n",
      "  \"`IPython.html.widgets` has moved to `ipywidgets`.\", ShimWarning)\n"
     ]
    }
   ],
   "source": [
    "import pandas as pd\n",
    "import numpy as np\n",
    "import matplotlib.pyplot as plt\n",
    "import scipy.optimize as op\n",
    "import emcee\n",
    "%matplotlib inline"
   ]
  },
  {
   "cell_type": "code",
   "execution_count": 4,
   "metadata": {
    "collapsed": false
   },
   "outputs": [
    {
     "name": "stdout",
     "output_type": "stream",
     "text": [
      "AGN time lag (24, 15)\n",
      "Black Hole (12, 15)\n",
      "CMD (3, 15)\n",
      "Cepheids (4, 15)\n",
      "D-Sigma (815, 15)\n",
      "Dwarf Galaxy Diameter (6, 15)\n",
      "FP (11038, 15)\n",
      "Faber-Jackson (527, 15)\n",
      "GCLF (36, 15)\n",
      "GeV TeV ratio (3, 15)\n",
      "H I + optical distribution (1, 15)\n",
      "HII region diameter (1, 15)\n",
      "IRAS (2089, 15)\n",
      "Maser (6, 15)\n",
      "Ring Diameter (71, 15)\n",
      "SBF (236, 15)\n",
      "SGRB (5, 15)\n",
      "SNII optical (319, 15)\n",
      "SNII radio (6, 15)\n",
      "SNIa (1988, 15)\n",
      "SZ effect (5, 15)\n",
      "Sosies (129, 15)\n",
      "Tertiary (92, 15)\n",
      "Tully est (264, 15)\n",
      "Tully-Fisher (36718, 15)\n"
     ]
    }
   ],
   "source": [
    "df=pd.read_csv(\"NED26.05.1-D-12.1.0-20160501.csv\",skiprows=12)\n",
    "df=df[np.isnan(df['redshift (z)'])]\n",
    "df=df[df['D (Mpc)']<500]\n",
    "df=df[np.isfinite(df.err)]\n",
    "df=df[df['D (Mpc)']>35]\n",
    "for i in np.unique(df.Method):\n",
    "    df1=df[df.Method==i]\n",
    "    print i,df1.shape\n",
    "listcut=np.unique(df1['Galaxy ID'])"
   ]
  },
  {
   "cell_type": "code",
   "execution_count": 59,
   "metadata": {
    "collapsed": true
   },
   "outputs": [],
   "source": [
    "# Likelihood\n",
    "def lnlike(theta, x, y,yerr,ydel):\n",
    "    m ,b,n,f,o,g = theta\n",
    "    model = m * x +b+n*ydel*x+f*ydel+o*ydel**2+g*x**2 # model equation\n",
    "    inv_sigma2 = 1.0/((yerr)**2) # weighted by the GMM-fitted sigma\n",
    "    return -0.5*(np.sum((y-model)**2*inv_sigma2 - np.log(2*np.pi*inv_sigma2))) \n",
    "# Priors\n",
    "def lnprior(theta):\n",
    "    m, b,n,f,o,g = theta\n",
    "    if -2 < m < 2 and -20 < b < 20 and  -1 < n < 1 and -10 < f < 10 and -10 < o < 10 and -10 < g < 10:\n",
    "        return 0.0\n",
    "    return -np.inf\n",
    "# Posterior probability\n",
    "def lnprob(theta, x, y,yerr,ydel):\n",
    "    lp = lnprior(theta)\n",
    "    if not np.isfinite(lp):\n",
    "        return -np.inf\n",
    "    return lp + lnlike(theta, x, y,yerr,ydel)"
   ]
  },
  {
   "cell_type": "code",
   "execution_count": 16,
   "metadata": {
    "collapsed": false,
    "scrolled": true
   },
   "outputs": [
    {
     "name": "stdout",
     "output_type": "stream",
     "text": [
      "CPU times: user 16.1 s, sys: 0 ns, total: 16.1 s\n",
      "Wall time: 16.1 s\n"
     ]
    }
   ],
   "source": [
    "%%time\n",
    "ncutoff=12\n",
    "listcho=[]\n",
    "for i in listcut:\n",
    "    dfilter=(df1['Galaxy ID']==i)\n",
    "    if(len(df1[dfilter])>ncutoff): # Select galaxies which have more than n measurements\n",
    "        listcho.append(i)\n"
   ]
  },
  {
   "cell_type": "code",
   "execution_count": null,
   "metadata": {
    "collapsed": true
   },
   "outputs": [],
   "source": [
    "dtest=[]"
   ]
  },
  {
   "cell_type": "code",
   "execution_count": null,
   "metadata": {
    "collapsed": false
   },
   "outputs": [],
   "source": [
    "%%time\n",
    "nbins=1 # resolution for the generated distributions\n",
    "nreal=100\n",
    "\n",
    "for lk in range(100):\n",
    "    errlist=np.zeros((len(listcho),4))\n",
    "    k=0\n",
    "    for i in listcho:\n",
    "        dfilter=(df1['Galaxy ID']==i)\n",
    "        glen=dfilter.sum()\n",
    "        boolar=np.ones(glen).astype(bool)\n",
    "        boolar[np.random.random_integers(glen)-1]=False\n",
    "        dummy=df1[dfilter][boolar]\n",
    "        booterr=np.zeros(nreal)\n",
    "        bootmean=np.zeros(nreal)\n",
    "        for l in range(nreal):\n",
    "            data=np.array([])\n",
    "            for i in dummy.D:\n",
    "                otherfilter=(dummy.D==i)\n",
    "                # generate distance distribution for each distance modulus/ distance modulus error measurement\n",
    "                AA=10**(np.random.normal(dummy['m-M'][otherfilter],dummy['err'][otherfilter],nbins)/5.+1)\n",
    "                data=np.hstack((data,AA))            \n",
    "            booterr[l]=np.percentile(data, 84)/1e6-np.percentile(data, 16)/1e6\n",
    "            bootmean[l]=np.mean(data)\n",
    "        dumerr=disterr[dfilter]\n",
    "    #        print np.mean(booterr),(np.percentile(booterr, 84)-np.percentile(booterr, 16)),dumerr.mean(),np.linalg.norm(dumerr/dummy['D (Mpc)'])*(dummy['D (Mpc)'].mean())\n",
    "\n",
    "        em=len(df1[dfilter][boolar])\n",
    "        # Distances in Mpc\n",
    "        errlist[k,0]=em # Number of measurements for each galaxy\n",
    "        errlist[k,1]=np.mean(booterr) # Percentiles of the combined distance distributions (50, 84, 16):\n",
    "        errlist[k,2]=(np.percentile(booterr, 84)-np.percentile(booterr, 16))\n",
    "        errlist[k,3]=np.mean(bootmean)/1e6 # rms error (D)\n",
    "        k+=1\n",
    "    x=errlist[(errlist[:,0]!=0)][:,3]\n",
    "    y=errlist[(errlist[:,0]!=0)][:,1]\n",
    "    yerr=errlist[(errlist[:,0]!=0)][:,2]\n",
    "    ydel=yerr\n",
    "    # discrepancy test\n",
    "    # This block uses the emcee MCMC sampler to estimate the posterior probability\n",
    "    # 1. Guess the starting places for the walkers from a maximum likelihood fit\n",
    "    nll = lambda *args: -lnlike(*args)\n",
    "    argum=(x, y,yerr,ydel)\n",
    "    result = op.minimize(nll, [1,1,1,1,1,1], args=argum)\n",
    "    m_ml, b_ml,n_ml,f_ml,o_ml,g_ml= result[\"x\"]\n",
    "    ndim, nwalkers = len(result[\"x\"]), 100\n",
    "    pos = [result[\"x\"] + 1e-4*np.random.randn(ndim) for i in range(nwalkers)]\n",
    "    sampler = emcee.EnsembleSampler(nwalkers, ndim, lnprob, args=argum) \n",
    "    # 2. Let the walkers walk 1000 steps (10000 will do the trick as well)\n",
    "    sampler.run_mcmc(pos, 1000);\n",
    "    # Here we remove the burn-in steps, which we estimate to be around 100\n",
    "    # This can be estimated by calculating the autocorrelation time (see below)\n",
    "    samples = sampler.chain[:, 100:, :].reshape((-1, ndim)) \n",
    "    discobs=[]\n",
    "    discsim=[]\n",
    "    nrealiz=10000\n",
    "    for m,b,n,f,o,g in samples[np.random.randint(len(samples), size=nrealiz)]: # draw Theta_i from posterior predictive, do this 5000 times\n",
    "        AAA=samples[np.random.randint(len(samples), size=len(x))]\n",
    "        y_sim=AAA[:,0]*x+AAA[:,1]+AAA[:,2]*ydel*x+AAA[:,3]*ydel+AAA[:,4]*ydel**2+AAA[:,5]*x**2 # create a synthetic dataset\n",
    "        yexp=m*x+b+n*ydel*x+f*ydel+o*ydel**2+g*x**2 # calculate expected values from Theta_i\n",
    "    # Calculate discrepancies using the Freeman-Tukey statistic\n",
    "        discobs.append(((np.sqrt(y)-np.sqrt(yexp))**2).sum())\n",
    "        discsim.append(((np.sqrt(y_sim)-np.sqrt(yexp))**2).sum())\n",
    "    discobs=np.asarray(discobs)\n",
    "    discsim=np.asarray(discsim)\n",
    "    dtest.append((discobs<discsim).sum()*1./len(discobs))"
   ]
  },
  {
   "cell_type": "code",
   "execution_count": 76,
   "metadata": {
    "collapsed": false
   },
   "outputs": [
    {
     "data": {
      "text/plain": [
       "[0.0385,\n",
       " 0.034500000000000003,\n",
       " 0.068900000000000003,\n",
       " 0.0246,\n",
       " 0.14180000000000001,\n",
       " 0.11210000000000001,\n",
       " 0.046699999999999998,\n",
       " 0.048500000000000001,\n",
       " 0.053800000000000001,\n",
       " 0.051200000000000002]"
      ]
     },
     "execution_count": 76,
     "metadata": {},
     "output_type": "execute_result"
    }
   ],
   "source": [
    "dtest"
   ]
  },
  {
   "cell_type": "code",
   "execution_count": 77,
   "metadata": {
    "collapsed": true
   },
   "outputs": [],
   "source": [
    "this=np.asarray(dtest)"
   ]
  },
  {
   "cell_type": "code",
   "execution_count": 78,
   "metadata": {
    "collapsed": false
   },
   "outputs": [
    {
     "data": {
      "text/plain": [
       "(array([ 2.,  2.,  3.,  1.,  0.,  0.,  0.,  1.,  0.,  1.]),\n",
       " array([ 0.0246 ,  0.03632,  0.04804,  0.05976,  0.07148,  0.0832 ,\n",
       "         0.09492,  0.10664,  0.11836,  0.13008,  0.1418 ]),\n",
       " <a list of 10 Patch objects>)"
      ]
     },
     "execution_count": 78,
     "metadata": {},
     "output_type": "execute_result"
    },
    {
     "data": {
      "image/png": "[encoded data removed]",
      "text/plain": [
       "<matplotlib.figure.Figure at 0x7f0a76185f50>"
      ]
     },
     "metadata": {},
     "output_type": "display_data"
    }
   ],
   "source": [
    "plt.hist(this)"
   ]
  },
  {
   "cell_type": "code",
   "execution_count": 81,
   "metadata": {
    "collapsed": false
   },
   "outputs": [
    {
     "data": {
      "text/plain": [
       "array([ 12.,  13.,  14.,  15.,  16.,  17.,  18.,  19.,  20.,  21.,  22.])"
      ]
     },
     "execution_count": 81,
     "metadata": {},
     "output_type": "execute_result"
    }
   ],
   "source": [
    "np.unique(errlist[:,0])"
   ]
  },
  {
   "cell_type": "code",
   "execution_count": null,
   "metadata": {
    "collapsed": true
   },
   "outputs": [],
   "source": []
  }
 ],
 "metadata": {
  "kernelspec": {
   "display_name": "Python 2",
   "language": "python",
   "name": "python2"
  },
  "language_info": {
   "codemirror_mode": {
    "name": "ipython",
    "version": 2
   },
   "file_extension": ".py",
   "mimetype": "text/x-python",
   "name": "python",
   "nbconvert_exporter": "python",
   "pygments_lexer": "ipython2",
   "version": "2.7.6"
  }
 },
 "nbformat": 4,
 "nbformat_minor": 0
}
