{
 "cells": [
  {
   "cell_type": "code",
   "execution_count": null,
   "metadata": {
    "collapsed": true
   },
   "outputs": [],
   "source": [
    "import pandas as pd\n",
    "import numpy as np\n",
    "import matplotlib.pyplot as plt\n",
    "import scipy.optimize as op\n",
    "import emcee\n",
    "import scipy.stats as ss\n",
    "import collections\n",
    "import corner\n",
    "import seaborn as sns\n",
    "import random\n",
    "pd.options.mode.chained_assignment = None\n",
    "%matplotlib inline"
   ]
  },
  {
   "cell_type": "code",
   "execution_count": 5,
   "metadata": {
    "collapsed": true
   },
   "outputs": [],
   "source": [
    "import pandas as pd\n",
    "import numpy as np\n",
    "import collections\n"
   ]
  },
  {
   "cell_type": "code",
   "execution_count": 6,
   "metadata": {
    "collapsed": true
   },
   "outputs": [],
   "source": [
    "df=pd.read_csv(\"NED27.09.1-D-14.2.0-20170929.csv\",skiprows=12)\n",
    "df=df[np.isnan(df['redshift (z)'])] # only measurements without redshift data are useful here"
   ]
  },
  {
   "cell_type": "code",
   "execution_count": 7,
   "metadata": {
    "collapsed": true
   },
   "outputs": [],
   "source": [
    "def selectdata(mymethod,df):\n",
    "    dfa=df[~np.isfinite(df.err)] # database of non reported errors\n",
    "    df1=df[np.isfinite(df.err)] # remove measurements that do not report an error\n",
    "# Create a dataframe with methods and number of occurrences\n",
    "    counterM=collections.Counter(list(df1.Method)) # count measurements p. method\n",
    "    dfmeth=(pd.DataFrame.from_dict(counterM,orient=\"index\").reset_index()).rename(columns={'index':'method', 0:'count'})\n",
    "    dfmeth=dfmeth.sort_values(by='count',ascending=False) # need to rewrite?\n",
    "# Select a method for analysis\n",
    "    df1=df1[df1.Method==mymethod] # choose a method\n",
    "    namelist=list(df1['Galaxy ID']) # list of galaxies\n",
    "    counter=collections.Counter(namelist) # count measurements per galaxy\n",
    "# Select galaxies with a minimum number of measurements\n",
    "    ulist=[]\n",
    "    ulist2=[]\n",
    "    nmeas=1\n",
    "    for i in counter.keys():\n",
    "        if counter[i]>nmeas:\n",
    "            ulist+=[i] # all galaxies with more than n_meas measurements\n",
    "        if counter[i]>=1:\n",
    "            ulist2+=[i] # all galaxies with at least one measurement w/a reported error\n",
    "    print('No. of Galaxies with reported errors is %i' % len(ulist2) )\n",
    "    print('No. of Galaxies with more than %i measurements is %i' % (nmeas,len(ulist)) )\n",
    "# Create database for bootstrap, remove unnecessary columns\n",
    "    dfs=df1[np.in1d(df1['Galaxy ID'],ulist)] # dataframe with galaxies with more than nmeas measurements\n",
    "    colu=list(df.columns)\n",
    "    for i in ['Galaxy ID', 'm-M', 'err', 'D (Mpc)']:\n",
    "        colu.remove(i)\n",
    "    dfs.drop(colu, inplace=True, axis=1)\n",
    "# Create database for non-reported errors\n",
    "    df1a=dfa[dfa.Method==mymethod] # all measurements without reported errors\n",
    "    elist=list(np.unique(df1a['Galaxy ID'])) # list of galaxies with measurements without reported errors\n",
    "    dmeana=[]\n",
    "    for i in elist:\n",
    "        dfilter=np.in1d(df1a['Galaxy ID'],i)\n",
    "        dummy=df1a[dfilter]\n",
    "        dmeana+=[dummy['D (Mpc)'].mean()] # average reported distance (D), no need for weighted... there are no weights\n",
    "    filtr=~np.in1d(elist,ulist2)\n",
    "    nulista=np.asarray(elist)[filtr] # list of galaxies without reported errors\n",
    "    dista=np.asarray(dmeana)[filtr] # mean distance of galaxies without reported errors\n",
    "    print('No. of Galaxies without reported errors is %i' % len(nulista) )\n",
    "    return ulist,dfs,nulista,dista,dfmeth,len(nulista),len(ulist),len(ulist2)"
   ]
  },
  {
   "cell_type": "code",
   "execution_count": 8,
   "metadata": {
    "collapsed": false
   },
   "outputs": [
    {
     "name": "stdout",
     "output_type": "stream",
     "text": [
      "No. of Galaxies with reported errors is 11376\n",
      "No. of Galaxies with more than 1 measurements is 9100\n"
     ]
    },
    {
     "name": "stderr",
     "output_type": "stream",
     "text": [
      "/home/ecci/miniconda3/envs/py3/lib/python3.6/site-packages/ipykernel_launcher.py:28: SettingWithCopyWarning: \n",
      "A value is trying to be set on a copy of a slice from a DataFrame\n",
      "\n",
      "See the caveats in the documentation: http://pandas.pydata.org/pandas-docs/stable/indexing.html#indexing-view-versus-copy\n"
     ]
    },
    {
     "name": "stdout",
     "output_type": "stream",
     "text": [
      "No. of Galaxies without reported errors is 818\n"
     ]
    }
   ],
   "source": [
    "mymethod='Tully-Fisher'\n",
    "ulist,dfs,nulista,dista,dfmeth,*mma=selectdata(mymethod,df)"
   ]
  },
  {
   "cell_type": "code",
   "execution_count": 9,
   "metadata": {
    "collapsed": false
   },
   "outputs": [
    {
     "data": {
      "text/html": [
       "<div>\n",
       "<table border=\"1\" class=\"dataframe\">\n",
       "  <thead>\n",
       "    <tr style=\"text-align: right;\">\n",
       "      <th></th>\n",
       "      <th>method</th>\n",
       "      <th>count</th>\n",
       "    </tr>\n",
       "  </thead>\n",
       "  <tbody>\n",
       "    <tr>\n",
       "      <th>0</th>\n",
       "      <td>FP</td>\n",
       "      <td>130633</td>\n",
       "    </tr>\n",
       "    <tr>\n",
       "      <th>1</th>\n",
       "      <td>Tully-Fisher</td>\n",
       "      <td>56397</td>\n",
       "    </tr>\n",
       "    <tr>\n",
       "      <th>22</th>\n",
       "      <td>RR Lyrae</td>\n",
       "      <td>46152</td>\n",
       "    </tr>\n",
       "    <tr>\n",
       "      <th>7</th>\n",
       "      <td>Cepheids</td>\n",
       "      <td>20065</td>\n",
       "    </tr>\n",
       "    <tr>\n",
       "      <th>2</th>\n",
       "      <td>SNIa</td>\n",
       "      <td>8306</td>\n",
       "    </tr>\n",
       "  </tbody>\n",
       "</table>\n",
       "</div>"
      ],
      "text/plain": [
       "          method   count\n",
       "0             FP  130633\n",
       "1   Tully-Fisher   56397\n",
       "22      RR Lyrae   46152\n",
       "7       Cepheids   20065\n",
       "2           SNIa    8306"
      ]
     },
     "execution_count": 9,
     "metadata": {},
     "output_type": "execute_result"
    }
   ],
   "source": [
    "dfmeth.head()"
   ]
  },
  {
   "cell_type": "markdown",
   "metadata": {},
   "source": [
    "# Method Selection (can be skipped)\n",
    "\n",
    "We look for the methods for which:\n",
    "\n",
    "- The fraction of error-not-reported galaxies to useful measurements (no. of galaxies with n_meas>1) is greater than 5\n",
    "- The number of galaxies with n_meas>1 is greater than 20.\n",
    "\n",
    "These methods are in need of error prediction models."
   ]
  },
  {
   "cell_type": "code",
   "execution_count": 10,
   "metadata": {
    "collapsed": false,
    "scrolled": true
   },
   "outputs": [
    {
     "name": "stdout",
     "output_type": "stream",
     "text": [
      "No. of Galaxies with reported errors is 129054\n",
      "No. of Galaxies with more than 1 measurements is 1218\n"
     ]
    },
    {
     "name": "stderr",
     "output_type": "stream",
     "text": [
      "/home/ecci/miniconda3/envs/py3/lib/python3.6/site-packages/ipykernel_launcher.py:28: SettingWithCopyWarning: \n",
      "A value is trying to be set on a copy of a slice from a DataFrame\n",
      "\n",
      "See the caveats in the documentation: http://pandas.pydata.org/pandas-docs/stable/indexing.html#indexing-view-versus-copy\n"
     ]
    },
    {
     "name": "stdout",
     "output_type": "stream",
     "text": [
      "No. of Galaxies without reported errors is 25\n",
      "No. of Galaxies with reported errors is 11376\n",
      "No. of Galaxies with more than 1 measurements is 9100\n",
      "No. of Galaxies without reported errors is 818\n",
      "No. of Galaxies with reported errors is 22930\n",
      "No. of Galaxies with more than 1 measurements is 40\n",
      "No. of Galaxies without reported errors is 54\n",
      "No. of Galaxies with reported errors is 9239\n",
      "No. of Galaxies with more than 1 measurements is 100\n",
      "No. of Galaxies without reported errors is 5\n",
      "No. of Galaxies with reported errors is 2714\n",
      "No. of Galaxies with more than 1 measurements is 2296\n",
      "No. of Galaxies without reported errors is 37\n",
      "No. of Galaxies with reported errors is 2438\n",
      "No. of Galaxies with more than 1 measurements is 404\n",
      "No. of Galaxies without reported errors is 0\n",
      "No. of Galaxies with reported errors is 562\n",
      "No. of Galaxies with more than 1 measurements is 548\n",
      "No. of Galaxies without reported errors is 2\n",
      "No. of Galaxies with reported errors is 547\n",
      "No. of Galaxies with more than 1 measurements is 433\n",
      "No. of Galaxies without reported errors is 1\n",
      "No. of Galaxies with reported errors is 462\n",
      "No. of Galaxies with more than 1 measurements is 308\n",
      "No. of Galaxies without reported errors is 22\n",
      "No. of Galaxies with reported errors is 1431\n",
      "No. of Galaxies with more than 1 measurements is 3\n",
      "No. of Galaxies without reported errors is 0\n",
      "No. of Galaxies with reported errors is 425\n",
      "No. of Galaxies with more than 1 measurements is 424\n",
      "No. of Galaxies without reported errors is 7\n",
      "No. of Galaxies with reported errors is 405\n",
      "No. of Galaxies with more than 1 measurements is 113\n",
      "No. of Galaxies without reported errors is 105\n",
      "No. of Galaxies with reported errors is 190\n",
      "No. of Galaxies with more than 1 measurements is 155\n",
      "No. of Galaxies without reported errors is 2\n",
      "No. of Galaxies with reported errors is 210\n",
      "No. of Galaxies with more than 1 measurements is 176\n",
      "No. of Galaxies without reported errors is 4\n",
      "No. of Galaxies with reported errors is 287\n",
      "No. of Galaxies with more than 1 measurements is 0\n",
      "No. of Galaxies without reported errors is 61\n",
      "No. of Galaxies with reported errors is 281\n",
      "No. of Galaxies with more than 1 measurements is 1\n",
      "No. of Galaxies without reported errors is 1\n",
      "No. of Galaxies with reported errors is 58\n",
      "No. of Galaxies with more than 1 measurements is 47\n",
      "No. of Galaxies without reported errors is 46\n",
      "No. of Galaxies with reported errors is 38\n",
      "No. of Galaxies with more than 1 measurements is 23\n",
      "No. of Galaxies without reported errors is 12\n",
      "No. of Galaxies with reported errors is 165\n",
      "No. of Galaxies with more than 1 measurements is 47\n",
      "No. of Galaxies without reported errors is 0\n",
      "No. of Galaxies with reported errors is 69\n",
      "No. of Galaxies with more than 1 measurements is 45\n",
      "No. of Galaxies without reported errors is 8\n",
      "No. of Galaxies with reported errors is 40\n",
      "No. of Galaxies with more than 1 measurements is 38\n",
      "No. of Galaxies without reported errors is 10\n",
      "No. of Galaxies with reported errors is 82\n",
      "No. of Galaxies with more than 1 measurements is 21\n",
      "No. of Galaxies without reported errors is 92\n",
      "No. of Galaxies with reported errors is 100\n",
      "No. of Galaxies with more than 1 measurements is 1\n",
      "No. of Galaxies without reported errors is 7\n",
      "No. of Galaxies with reported errors is 50\n",
      "No. of Galaxies with more than 1 measurements is 21\n",
      "No. of Galaxies without reported errors is 9\n",
      "No. of Galaxies with reported errors is 95\n",
      "No. of Galaxies with more than 1 measurements is 0\n",
      "No. of Galaxies without reported errors is 11\n",
      "No. of Galaxies with reported errors is 49\n",
      "No. of Galaxies with more than 1 measurements is 15\n",
      "No. of Galaxies without reported errors is 1\n",
      "No. of Galaxies with reported errors is 51\n",
      "No. of Galaxies with more than 1 measurements is 7\n",
      "No. of Galaxies without reported errors is 3\n",
      "No. of Galaxies with reported errors is 46\n",
      "No. of Galaxies with more than 1 measurements is 13\n",
      "No. of Galaxies without reported errors is 79\n",
      "No. of Galaxies with reported errors is 31\n",
      "No. of Galaxies with more than 1 measurements is 19\n",
      "No. of Galaxies without reported errors is 13\n",
      "No. of Galaxies with reported errors is 15\n",
      "No. of Galaxies with more than 1 measurements is 6\n",
      "No. of Galaxies without reported errors is 3\n",
      "No. of Galaxies with reported errors is 12\n",
      "No. of Galaxies with more than 1 measurements is 6\n",
      "No. of Galaxies without reported errors is 3\n",
      "No. of Galaxies with reported errors is 20\n",
      "No. of Galaxies with more than 1 measurements is 11\n",
      "No. of Galaxies without reported errors is 0\n",
      "No. of Galaxies with reported errors is 24\n",
      "No. of Galaxies with more than 1 measurements is 4\n",
      "No. of Galaxies without reported errors is 1\n",
      "No. of Galaxies with reported errors is 13\n",
      "No. of Galaxies with more than 1 measurements is 3\n",
      "No. of Galaxies without reported errors is 1\n",
      "No. of Galaxies with reported errors is 10\n",
      "No. of Galaxies with more than 1 measurements is 6\n",
      "No. of Galaxies without reported errors is 1\n",
      "No. of Galaxies with reported errors is 24\n",
      "No. of Galaxies with more than 1 measurements is 0\n",
      "No. of Galaxies without reported errors is 2\n",
      "No. of Galaxies with reported errors is 17\n",
      "No. of Galaxies with more than 1 measurements is 2\n",
      "No. of Galaxies without reported errors is 51\n",
      "No. of Galaxies with reported errors is 17\n",
      "No. of Galaxies with more than 1 measurements is 0\n",
      "No. of Galaxies without reported errors is 0\n",
      "No. of Galaxies with reported errors is 7\n",
      "No. of Galaxies with more than 1 measurements is 5\n",
      "No. of Galaxies without reported errors is 1\n",
      "No. of Galaxies with reported errors is 4\n",
      "No. of Galaxies with more than 1 measurements is 2\n",
      "No. of Galaxies without reported errors is 1\n",
      "No. of Galaxies with reported errors is 5\n",
      "No. of Galaxies with more than 1 measurements is 5\n",
      "No. of Galaxies without reported errors is 0\n",
      "No. of Galaxies with reported errors is 6\n",
      "No. of Galaxies with more than 1 measurements is 2\n",
      "No. of Galaxies without reported errors is 0\n",
      "No. of Galaxies with reported errors is 9\n",
      "No. of Galaxies with more than 1 measurements is 0\n",
      "No. of Galaxies without reported errors is 27\n",
      "No. of Galaxies with reported errors is 7\n",
      "No. of Galaxies with more than 1 measurements is 0\n",
      "No. of Galaxies without reported errors is 4\n",
      "No. of Galaxies with reported errors is 4\n",
      "No. of Galaxies with more than 1 measurements is 2\n",
      "No. of Galaxies without reported errors is 2\n",
      "No. of Galaxies with reported errors is 4\n",
      "No. of Galaxies with more than 1 measurements is 1\n",
      "No. of Galaxies without reported errors is 4\n",
      "No. of Galaxies with reported errors is 2\n",
      "No. of Galaxies with more than 1 measurements is 1\n",
      "No. of Galaxies without reported errors is 3\n",
      "No. of Galaxies with reported errors is 1\n",
      "No. of Galaxies with more than 1 measurements is 1\n",
      "No. of Galaxies without reported errors is 0\n",
      "No. of Galaxies with reported errors is 2\n",
      "No. of Galaxies with more than 1 measurements is 2\n",
      "No. of Galaxies without reported errors is 4\n",
      "No. of Galaxies with reported errors is 2\n",
      "No. of Galaxies with more than 1 measurements is 2\n",
      "No. of Galaxies without reported errors is 2\n",
      "No. of Galaxies with reported errors is 1\n",
      "No. of Galaxies with more than 1 measurements is 1\n",
      "No. of Galaxies without reported errors is 8\n",
      "No. of Galaxies with reported errors is 2\n",
      "No. of Galaxies with more than 1 measurements is 1\n",
      "No. of Galaxies without reported errors is 1\n",
      "No. of Galaxies with reported errors is 2\n",
      "No. of Galaxies with more than 1 measurements is 1\n",
      "No. of Galaxies without reported errors is 0\n",
      "No. of Galaxies with reported errors is 3\n",
      "No. of Galaxies with more than 1 measurements is 0\n",
      "No. of Galaxies without reported errors is 2\n",
      "No. of Galaxies with reported errors is 2\n",
      "No. of Galaxies with more than 1 measurements is 0\n",
      "No. of Galaxies without reported errors is 18\n",
      "No. of Galaxies with reported errors is 1\n",
      "No. of Galaxies with more than 1 measurements is 1\n",
      "No. of Galaxies without reported errors is 0\n",
      "No. of Galaxies with reported errors is 2\n",
      "No. of Galaxies with more than 1 measurements is 0\n",
      "No. of Galaxies without reported errors is 0\n",
      "No. of Galaxies with reported errors is 2\n",
      "No. of Galaxies with more than 1 measurements is 0\n",
      "No. of Galaxies without reported errors is 0\n",
      "No. of Galaxies with reported errors is 1\n",
      "No. of Galaxies with more than 1 measurements is 0\n",
      "No. of Galaxies without reported errors is 0\n",
      "No. of Galaxies with reported errors is 1\n",
      "No. of Galaxies with more than 1 measurements is 0\n",
      "No. of Galaxies without reported errors is 0\n",
      "No. of Galaxies with reported errors is 1\n",
      "No. of Galaxies with more than 1 measurements is 0\n",
      "No. of Galaxies without reported errors is 5\n",
      "No. of Galaxies with reported errors is 1\n",
      "No. of Galaxies with more than 1 measurements is 0\n",
      "No. of Galaxies without reported errors is 0\n",
      "No. of Galaxies with reported errors is 1\n",
      "No. of Galaxies with more than 1 measurements is 0\n",
      "No. of Galaxies without reported errors is 0\n",
      "No. of Galaxies with reported errors is 1\n",
      "No. of Galaxies with more than 1 measurements is 0\n",
      "No. of Galaxies without reported errors is 0\n",
      "No. of Galaxies with reported errors is 1\n",
      "No. of Galaxies with more than 1 measurements is 0\n",
      "No. of Galaxies without reported errors is 0\n"
     ]
    }
   ],
   "source": [
    "meas=[]\n",
    "for i in dfmeth.method:\n",
    "    ulist,dfs,nulista,dista,dfmeth,*mma=selectdata(i,df);\n",
    "    meas+=[mma]"
   ]
  },
  {
   "cell_type": "code",
   "execution_count": 11,
   "metadata": {
    "collapsed": true
   },
   "outputs": [],
   "source": [
    "meas=np.array(meas)\n",
    "dfmeth['empty']=meas[:,0]\n",
    "dfmeth['useful']=meas[:,1]\n",
    "dfmeth['total']=meas[:,2]\n",
    "dfmeth['e/u']=dfmeth['empty']/dfmeth['useful']*100\n",
    "dfmeth['e/t']=dfmeth['empty']/dfmeth['total']*100"
   ]
  },
  {
   "cell_type": "code",
   "execution_count": 12,
   "metadata": {
    "collapsed": false
   },
   "outputs": [
    {
     "data": {
      "text/html": [
       "<div>\n",
       "<table border=\"1\" class=\"dataframe\">\n",
       "  <thead>\n",
       "    <tr style=\"text-align: right;\">\n",
       "      <th></th>\n",
       "      <th>method</th>\n",
       "      <th>count</th>\n",
       "      <th>empty</th>\n",
       "      <th>useful</th>\n",
       "      <th>total</th>\n",
       "      <th>e/u</th>\n",
       "      <th>e/t</th>\n",
       "    </tr>\n",
       "  </thead>\n",
       "  <tbody>\n",
       "    <tr>\n",
       "      <th>1</th>\n",
       "      <td>Tully-Fisher</td>\n",
       "      <td>56397</td>\n",
       "      <td>818</td>\n",
       "      <td>9100</td>\n",
       "      <td>11376</td>\n",
       "      <td>8.989011</td>\n",
       "      <td>7.190577</td>\n",
       "    </tr>\n",
       "    <tr>\n",
       "      <th>22</th>\n",
       "      <td>RR Lyrae</td>\n",
       "      <td>46152</td>\n",
       "      <td>54</td>\n",
       "      <td>40</td>\n",
       "      <td>22930</td>\n",
       "      <td>135.000000</td>\n",
       "      <td>0.235499</td>\n",
       "    </tr>\n",
       "    <tr>\n",
       "      <th>11</th>\n",
       "      <td>TRGB</td>\n",
       "      <td>1710</td>\n",
       "      <td>22</td>\n",
       "      <td>308</td>\n",
       "      <td>462</td>\n",
       "      <td>7.142857</td>\n",
       "      <td>4.761905</td>\n",
       "    </tr>\n",
       "    <tr>\n",
       "      <th>8</th>\n",
       "      <td>CMD</td>\n",
       "      <td>1209</td>\n",
       "      <td>105</td>\n",
       "      <td>113</td>\n",
       "      <td>405</td>\n",
       "      <td>92.920354</td>\n",
       "      <td>25.925926</td>\n",
       "    </tr>\n",
       "    <tr>\n",
       "      <th>38</th>\n",
       "      <td>Eclipsing Binary</td>\n",
       "      <td>256</td>\n",
       "      <td>46</td>\n",
       "      <td>47</td>\n",
       "      <td>58</td>\n",
       "      <td>97.872340</td>\n",
       "      <td>79.310345</td>\n",
       "    </tr>\n",
       "    <tr>\n",
       "      <th>33</th>\n",
       "      <td>Red Clump</td>\n",
       "      <td>230</td>\n",
       "      <td>12</td>\n",
       "      <td>23</td>\n",
       "      <td>38</td>\n",
       "      <td>52.173913</td>\n",
       "      <td>31.578947</td>\n",
       "    </tr>\n",
       "    <tr>\n",
       "      <th>10</th>\n",
       "      <td>PNLF</td>\n",
       "      <td>198</td>\n",
       "      <td>8</td>\n",
       "      <td>45</td>\n",
       "      <td>69</td>\n",
       "      <td>17.777778</td>\n",
       "      <td>11.594203</td>\n",
       "    </tr>\n",
       "    <tr>\n",
       "      <th>23</th>\n",
       "      <td>SZ effect</td>\n",
       "      <td>137</td>\n",
       "      <td>10</td>\n",
       "      <td>38</td>\n",
       "      <td>40</td>\n",
       "      <td>26.315789</td>\n",
       "      <td>25.000000</td>\n",
       "    </tr>\n",
       "    <tr>\n",
       "      <th>6</th>\n",
       "      <td>Brightest Stars</td>\n",
       "      <td>128</td>\n",
       "      <td>92</td>\n",
       "      <td>21</td>\n",
       "      <td>82</td>\n",
       "      <td>438.095238</td>\n",
       "      <td>112.195122</td>\n",
       "    </tr>\n",
       "    <tr>\n",
       "      <th>29</th>\n",
       "      <td>Horizontal Branch</td>\n",
       "      <td>96</td>\n",
       "      <td>9</td>\n",
       "      <td>21</td>\n",
       "      <td>50</td>\n",
       "      <td>42.857143</td>\n",
       "      <td>18.000000</td>\n",
       "    </tr>\n",
       "  </tbody>\n",
       "</table>\n",
       "</div>"
      ],
      "text/plain": [
       "               method  count  empty  useful  total         e/u         e/t\n",
       "1        Tully-Fisher  56397    818    9100  11376    8.989011    7.190577\n",
       "22           RR Lyrae  46152     54      40  22930  135.000000    0.235499\n",
       "11               TRGB   1710     22     308    462    7.142857    4.761905\n",
       "8                 CMD   1209    105     113    405   92.920354   25.925926\n",
       "38   Eclipsing Binary    256     46      47     58   97.872340   79.310345\n",
       "33          Red Clump    230     12      23     38   52.173913   31.578947\n",
       "10               PNLF    198      8      45     69   17.777778   11.594203\n",
       "23          SZ effect    137     10      38     40   26.315789   25.000000\n",
       "6     Brightest Stars    128     92      21     82  438.095238  112.195122\n",
       "29  Horizontal Branch     96      9      21     50   42.857143   18.000000"
      ]
     },
     "execution_count": 12,
     "metadata": {},
     "output_type": "execute_result"
    }
   ],
   "source": [
    "dfmeth[(dfmeth['e/u']>5)&(dfmeth['useful']>20)]"
   ]
  },
  {
   "cell_type": "code",
   "execution_count": 13,
   "metadata": {
    "collapsed": false
   },
   "outputs": [
    {
     "name": "stdout",
     "output_type": "stream",
     "text": [
      "No. of Galaxies with reported errors is 11376\n",
      "No. of Galaxies with more than 1 measurements is 9100\n"
     ]
    },
    {
     "name": "stderr",
     "output_type": "stream",
     "text": [
      "/home/ecci/miniconda3/envs/py3/lib/python3.6/site-packages/ipykernel_launcher.py:28: SettingWithCopyWarning: \n",
      "A value is trying to be set on a copy of a slice from a DataFrame\n",
      "\n",
      "See the caveats in the documentation: http://pandas.pydata.org/pandas-docs/stable/indexing.html#indexing-view-versus-copy\n"
     ]
    },
    {
     "name": "stdout",
     "output_type": "stream",
     "text": [
      "No. of Galaxies without reported errors is 818\n"
     ]
    }
   ],
   "source": [
    "# number of galaxies with no reported errors for this method\n",
    "mymethod='Tully-Fisher'\n",
    "ulist,dfs,nulista,dista,dfmeth,*mma=selectdata(mymethod,df)"
   ]
  },
  {
   "cell_type": "code",
   "execution_count": 18,
   "metadata": {
    "collapsed": false,
    "scrolled": true
   },
   "outputs": [
    {
     "data": {
      "text/plain": [
       "[818, 9100, 11376]"
      ]
     },
     "execution_count": 18,
     "metadata": {},
     "output_type": "execute_result"
    }
   ],
   "source": [
    "mma"
   ]
  },
  {
   "cell_type": "code",
   "execution_count": null,
   "metadata": {
    "collapsed": true
   },
   "outputs": [],
   "source": [
    "# en nulista estan las que no tienen error"
   ]
  },
  {
   "cell_type": "code",
   "execution_count": 24,
   "metadata": {
    "collapsed": false
   },
   "outputs": [
    {
     "data": {
      "text/html": [
       "<div>\n",
       "<table border=\"1\" class=\"dataframe\">\n",
       "  <thead>\n",
       "    <tr style=\"text-align: right;\">\n",
       "      <th></th>\n",
       "      <th>Exclusion Code</th>\n",
       "      <th>D</th>\n",
       "      <th>G</th>\n",
       "      <th>Galaxy ID</th>\n",
       "      <th>m-M</th>\n",
       "      <th>err</th>\n",
       "      <th>D (Mpc)</th>\n",
       "      <th>Method</th>\n",
       "      <th>REFCODE</th>\n",
       "      <th>SN ID</th>\n",
       "      <th>redshift (z)</th>\n",
       "      <th>Hubble const.</th>\n",
       "      <th>Adopted LMC modulus</th>\n",
       "      <th>Date (Yr. - 1980)</th>\n",
       "      <th>Notes</th>\n",
       "    </tr>\n",
       "  </thead>\n",
       "  <tbody>\n",
       "    <tr>\n",
       "      <th>119742</th>\n",
       "      <td>NaN</td>\n",
       "      <td>78254</td>\n",
       "      <td>16337</td>\n",
       "      <td>2MASX J07300813-2201060</td>\n",
       "      <td>30.23</td>\n",
       "      <td>NaN</td>\n",
       "      <td>11.1</td>\n",
       "      <td>Tully-Fisher</td>\n",
       "      <td>2000AJ....120.1876H</td>\n",
       "      <td>NaN</td>\n",
       "      <td>NaN</td>\n",
       "      <td>NaN</td>\n",
       "      <td>NaN</td>\n",
       "      <td>20</td>\n",
       "      <td>NaN</td>\n",
       "    </tr>\n",
       "  </tbody>\n",
       "</table>\n",
       "</div>"
      ],
      "text/plain": [
       "       Exclusion Code      D      G                Galaxy ID    m-M  err  \\\n",
       "119742            NaN  78254  16337  2MASX J07300813-2201060  30.23  NaN   \n",
       "\n",
       "        D (Mpc)        Method              REFCODE SN ID  redshift (z)  \\\n",
       "119742     11.1  Tully-Fisher  2000AJ....120.1876H   NaN           NaN   \n",
       "\n",
       "        Hubble const.  Adopted LMC modulus  Date (Yr. - 1980) Notes  \n",
       "119742            NaN                  NaN                 20   NaN  "
      ]
     },
     "execution_count": 24,
     "metadata": {},
     "output_type": "execute_result"
    }
   ],
   "source": [
    "df[df['Galaxy ID']==nulista"
   ]
  },
  {
   "cell_type": "code",
   "execution_count": 28,
   "metadata": {
    "collapsed": false
   },
   "outputs": [],
   "source": [
    "dfempty=df[np.in1d(df['Galaxy ID'],nulista)]"
   ]
  },
  {
   "cell_type": "code",
   "execution_count": 35,
   "metadata": {
    "collapsed": false
   },
   "outputs": [],
   "source": [
    "counter=collections.Counter(dfempty['Galaxy ID'])"
   ]
  },
  {
   "cell_type": "code",
   "execution_count": 63,
   "metadata": {
    "collapsed": false
   },
   "outputs": [],
   "source": [
    "dfempme=pd.DataFrame(list(counter.items()),columns=['gal','meas'])"
   ]
  },
  {
   "cell_type": "code",
   "execution_count": 66,
   "metadata": {
    "collapsed": false
   },
   "outputs": [
    {
     "data": {
      "text/plain": [
       "357"
      ]
     },
     "execution_count": 66,
     "metadata": {},
     "output_type": "execute_result"
    }
   ],
   "source": [
    "(dfempme.meas==1).sum() # number of single-measurement TF reported distances without error"
   ]
  },
  {
   "cell_type": "code",
   "execution_count": null,
   "metadata": {
    "collapsed": true
   },
   "outputs": [],
   "source": []
  }
 ],
 "metadata": {
  "kernelspec": {
   "display_name": "Python 3",
   "language": "python",
   "name": "python3"
  },
  "language_info": {
   "codemirror_mode": {
    "name": "ipython",
    "version": 3
   },
   "file_extension": ".py",
   "mimetype": "text/x-python",
   "name": "python",
   "nbconvert_exporter": "python",
   "pygments_lexer": "ipython3",
   "version": "3.6.1"
  }
 },
 "nbformat": 4,
 "nbformat_minor": 0
}
