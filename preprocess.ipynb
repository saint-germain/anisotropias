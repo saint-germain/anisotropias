{
 "cells": [
  {
   "cell_type": "code",
   "execution_count": 1,
   "metadata": {
    "collapsed": true
   },
   "outputs": [],
   "source": [
    "import pandas as pd\n",
    "import numpy as np\n",
    "import collections\n",
    "import matplotlib.pyplot as plt\n",
    "%matplotlib inline"
   ]
  },
  {
   "cell_type": "code",
   "execution_count": 6,
   "metadata": {
    "collapsed": true
   },
   "outputs": [],
   "source": [
    "df=pd.read_csv(\"NED27.09.1-D-14.2.0-20170929.csv\",skiprows=12)\n",
    "df=df[np.isnan(df['redshift (z)'])] # only measurements without redshift data are useful here"
   ]
  },
  {
   "cell_type": "code",
   "execution_count": 7,
   "metadata": {
    "collapsed": true
   },
   "outputs": [],
   "source": [
    "def selectdata(mymethod,df):\n",
    "    dfa=df[~np.isfinite(df.err)] # database of non reported errors\n",
    "    df1=df[np.isfinite(df.err)] # remove measurements that do not report an error\n",
    "    df1=df1[df1.err!=0] # remove measurements that report an error as zero ¬¬\n",
    "\n",
    "# Create a dataframe with methods and number of occurrences\n",
    "    counterM=collections.Counter(list(df1.Method)) # count measurements p. method\n",
    "    dfmeth=(pd.DataFrame.from_dict(counterM,orient=\"index\").reset_index()).rename(columns={'index':'method', 0:'count'})\n",
    "    dfmeth=dfmeth.sort_values(by='count',ascending=False) # need to rewrite?\n",
    "# Select a method for analysis\n",
    "    df1=df1[df1.Method==mymethod] # choose a method\n",
    "    namelist=list(df1['Galaxy ID']) # list of galaxies\n",
    "    counter=collections.Counter(namelist) # count measurements per galaxy\n",
    "# Select galaxies with a minimum number of measurements\n",
    "    ulist=[]\n",
    "    ulist2=[]\n",
    "    nmeas=1\n",
    "    for i in counter.keys():\n",
    "        if counter[i]>nmeas:\n",
    "            ulist+=[i] # all galaxies with more than n_meas measurements\n",
    "        if counter[i]>=1:\n",
    "            ulist2+=[i] # all galaxies with at least one measurement w/a reported error\n",
    "    print('No. of Galaxies with reported errors is %i' % len(ulist2) )\n",
    "    print('No. of Galaxies with more than %i measurements is %i' % (nmeas,len(ulist)) )\n",
    "# Create database for bootstrap, remove unnecessary columns\n",
    "    dfs=df1[np.in1d(df1['Galaxy ID'],ulist)] # dataframe with galaxies with more than nmeas measurements\n",
    "    colu=list(df.columns)\n",
    "    for i in ['Galaxy ID', 'm-M', 'err', 'D (Mpc)']:\n",
    "        colu.remove(i)\n",
    "    dfs.drop(colu, inplace=True, axis=1)\n",
    "# Create database for non-reported errors\n",
    "    df1a=dfa[dfa.Method==mymethod] # all measurements without reported errors\n",
    "    elist=list(np.unique(df1a['Galaxy ID'])) # list of galaxies with measurements without reported errors\n",
    "    dmeana=[]\n",
    "    for i in elist:\n",
    "        dfilter=np.in1d(df1a['Galaxy ID'],i)\n",
    "        dummy=df1a[dfilter]\n",
    "        dmeana+=[dummy['D (Mpc)'].mean()] # average reported distance (D), no need for weighted... there are no weights\n",
    "    filtr=~np.in1d(elist,ulist2)\n",
    "    nulista=np.asarray(elist)[filtr] # list of galaxies without reported errors\n",
    "    dista=np.asarray(dmeana)[filtr] # mean distance of galaxies without reported errors\n",
    "    print('No. of Galaxies without reported errors is %i' % len(nulista) )\n",
    "    return ulist,dfs,nulista,dista,dfmeth,len(nulista),len(ulist),len(ulist2)"
   ]
  },
  {
   "cell_type": "code",
   "execution_count": 8,
   "metadata": {
    "collapsed": false
   },
   "outputs": [
    {
     "name": "stdout",
     "output_type": "stream",
     "text": [
      "No. of Galaxies with reported errors is 11376\n",
      "No. of Galaxies with more than 1 measurements is 9100\n"
     ]
    },
    {
     "name": "stderr",
     "output_type": "stream",
     "text": [
      "/home/ecci/miniconda3/envs/py3/lib/python3.6/site-packages/ipykernel_launcher.py:28: SettingWithCopyWarning: \n",
      "A value is trying to be set on a copy of a slice from a DataFrame\n",
      "\n",
      "See the caveats in the documentation: http://pandas.pydata.org/pandas-docs/stable/indexing.html#indexing-view-versus-copy\n"
     ]
    },
    {
     "name": "stdout",
     "output_type": "stream",
     "text": [
      "No. of Galaxies without reported errors is 818\n"
     ]
    }
   ],
   "source": [
    "mymethod='Tully-Fisher'\n",
    "ulist,dfs,nulista,dista,dfmeth,*mma=selectdata(mymethod,df)"
   ]
  },
  {
   "cell_type": "code",
   "execution_count": 9,
   "metadata": {
    "collapsed": false
   },
   "outputs": [
    {
     "data": {
      "text/html": [
       "<div>\n",
       "<table border=\"1\" class=\"dataframe\">\n",
       "  <thead>\n",
       "    <tr style=\"text-align: right;\">\n",
       "      <th></th>\n",
       "      <th>method</th>\n",
       "      <th>count</th>\n",
       "    </tr>\n",
       "  </thead>\n",
       "  <tbody>\n",
       "    <tr>\n",
       "      <th>0</th>\n",
       "      <td>FP</td>\n",
       "      <td>130633</td>\n",
       "    </tr>\n",
       "    <tr>\n",
       "      <th>1</th>\n",
       "      <td>Tully-Fisher</td>\n",
       "      <td>56397</td>\n",
       "    </tr>\n",
       "    <tr>\n",
       "      <th>22</th>\n",
       "      <td>RR Lyrae</td>\n",
       "      <td>46152</td>\n",
       "    </tr>\n",
       "    <tr>\n",
       "      <th>7</th>\n",
       "      <td>Cepheids</td>\n",
       "      <td>20065</td>\n",
       "    </tr>\n",
       "    <tr>\n",
       "      <th>2</th>\n",
       "      <td>SNIa</td>\n",
       "      <td>8306</td>\n",
       "    </tr>\n",
       "  </tbody>\n",
       "</table>\n",
       "</div>"
      ],
      "text/plain": [
       "          method   count\n",
       "0             FP  130633\n",
       "1   Tully-Fisher   56397\n",
       "22      RR Lyrae   46152\n",
       "7       Cepheids   20065\n",
       "2           SNIa    8306"
      ]
     },
     "execution_count": 9,
     "metadata": {},
     "output_type": "execute_result"
    }
   ],
   "source": [
    "dfmeth.head()"
   ]
  },
  {
   "cell_type": "markdown",
   "metadata": {},
   "source": [
    "# Method Selection (can be skipped)\n",
    "\n",
    "We look for the methods for which:\n",
    "\n",
    "- The fraction of error-not-reported galaxies to useful measurements (no. of galaxies with n_meas>1) is greater than 5\n",
    "- The number of galaxies with n_meas>1 is greater than 20.\n",
    "\n",
    "These methods are in need of error prediction models."
   ]
  },
  {
   "cell_type": "code",
   "execution_count": 10,
   "metadata": {
    "collapsed": false,
    "scrolled": true
   },
   "outputs": [
    {
     "name": "stdout",
     "output_type": "stream",
     "text": [
      "No. of Galaxies with reported errors is 129054\n",
      "No. of Galaxies with more than 1 measurements is 1218\n"
     ]
    },
    {
     "name": "stderr",
     "output_type": "stream",
     "text": [
      "/home/ecci/miniconda3/envs/py3/lib/python3.6/site-packages/ipykernel_launcher.py:28: SettingWithCopyWarning: \n",
      "A value is trying to be set on a copy of a slice from a DataFrame\n",
      "\n",
      "See the caveats in the documentation: http://pandas.pydata.org/pandas-docs/stable/indexing.html#indexing-view-versus-copy\n"
     ]
    },
    {
     "name": "stdout",
     "output_type": "stream",
     "text": [
      "No. of Galaxies without reported errors is 25\n",
      "No. of Galaxies with reported errors is 11376\n",
      "No. of Galaxies with more than 1 measurements is 9100\n",
      "No. of Galaxies without reported errors is 818\n",
      "No. of Galaxies with reported errors is 22930\n",
      "No. of Galaxies with more than 1 measurements is 40\n",
      "No. of Galaxies without reported errors is 54\n",
      "No. of Galaxies with reported errors is 9239\n",
      "No. of Galaxies with more than 1 measurements is 100\n",
      "No. of Galaxies without reported errors is 5\n",
      "No. of Galaxies with reported errors is 2714\n",
      "No. of Galaxies with more than 1 measurements is 2296\n",
      "No. of Galaxies without reported errors is 37\n",
      "No. of Galaxies with reported errors is 2438\n",
      "No. of Galaxies with more than 1 measurements is 404\n",
      "No. of Galaxies without reported errors is 0\n",
      "No. of Galaxies with reported errors is 562\n",
      "No. of Galaxies with more than 1 measurements is 548\n",
      "No. of Galaxies without reported errors is 2\n",
      "No. of Galaxies with reported errors is 547\n",
      "No. of Galaxies with more than 1 measurements is 433\n",
      "No. of Galaxies without reported errors is 1\n",
      "No. of Galaxies with reported errors is 462\n",
      "No. of Galaxies with more than 1 measurements is 308\n",
      "No. of Galaxies without reported errors is 22\n",
      "No. of Galaxies with reported errors is 1431\n",
      "No. of Galaxies with more than 1 measurements is 3\n",
      "No. of Galaxies without reported errors is 0\n",
      "No. of Galaxies with reported errors is 425\n",
      "No. of Galaxies with more than 1 measurements is 424\n",
      "No. of Galaxies without reported errors is 7\n",
      "No. of Galaxies with reported errors is 405\n",
      "No. of Galaxies with more than 1 measurements is 113\n",
      "No. of Galaxies without reported errors is 105\n",
      "No. of Galaxies with reported errors is 190\n",
      "No. of Galaxies with more than 1 measurements is 155\n",
      "No. of Galaxies without reported errors is 2\n",
      "No. of Galaxies with reported errors is 210\n",
      "No. of Galaxies with more than 1 measurements is 176\n",
      "No. of Galaxies without reported errors is 4\n",
      "No. of Galaxies with reported errors is 287\n",
      "No. of Galaxies with more than 1 measurements is 0\n",
      "No. of Galaxies without reported errors is 61\n",
      "No. of Galaxies with reported errors is 281\n",
      "No. of Galaxies with more than 1 measurements is 1\n",
      "No. of Galaxies without reported errors is 1\n",
      "No. of Galaxies with reported errors is 58\n",
      "No. of Galaxies with more than 1 measurements is 47\n",
      "No. of Galaxies without reported errors is 46\n",
      "No. of Galaxies with reported errors is 38\n",
      "No. of Galaxies with more than 1 measurements is 23\n",
      "No. of Galaxies without reported errors is 12\n",
      "No. of Galaxies with reported errors is 165\n",
      "No. of Galaxies with more than 1 measurements is 47\n",
      "No. of Galaxies without reported errors is 0\n",
      "No. of Galaxies with reported errors is 69\n",
      "No. of Galaxies with more than 1 measurements is 45\n",
      "No. of Galaxies without reported errors is 8\n",
      "No. of Galaxies with reported errors is 40\n",
      "No. of Galaxies with more than 1 measurements is 38\n",
      "No. of Galaxies without reported errors is 10\n",
      "No. of Galaxies with reported errors is 82\n",
      "No. of Galaxies with more than 1 measurements is 21\n",
      "No. of Galaxies without reported errors is 92\n",
      "No. of Galaxies with reported errors is 100\n",
      "No. of Galaxies with more than 1 measurements is 1\n",
      "No. of Galaxies without reported errors is 7\n",
      "No. of Galaxies with reported errors is 50\n",
      "No. of Galaxies with more than 1 measurements is 21\n",
      "No. of Galaxies without reported errors is 9\n",
      "No. of Galaxies with reported errors is 95\n",
      "No. of Galaxies with more than 1 measurements is 0\n",
      "No. of Galaxies without reported errors is 11\n",
      "No. of Galaxies with reported errors is 49\n",
      "No. of Galaxies with more than 1 measurements is 15\n",
      "No. of Galaxies without reported errors is 1\n",
      "No. of Galaxies with reported errors is 51\n",
      "No. of Galaxies with more than 1 measurements is 7\n",
      "No. of Galaxies without reported errors is 3\n",
      "No. of Galaxies with reported errors is 46\n",
      "No. of Galaxies with more than 1 measurements is 13\n",
      "No. of Galaxies without reported errors is 79\n",
      "No. of Galaxies with reported errors is 31\n",
      "No. of Galaxies with more than 1 measurements is 19\n",
      "No. of Galaxies without reported errors is 13\n",
      "No. of Galaxies with reported errors is 15\n",
      "No. of Galaxies with more than 1 measurements is 6\n",
      "No. of Galaxies without reported errors is 3\n",
      "No. of Galaxies with reported errors is 12\n",
      "No. of Galaxies with more than 1 measurements is 6\n",
      "No. of Galaxies without reported errors is 3\n",
      "No. of Galaxies with reported errors is 20\n",
      "No. of Galaxies with more than 1 measurements is 11\n",
      "No. of Galaxies without reported errors is 0\n",
      "No. of Galaxies with reported errors is 24\n",
      "No. of Galaxies with more than 1 measurements is 4\n",
      "No. of Galaxies without reported errors is 1\n",
      "No. of Galaxies with reported errors is 13\n",
      "No. of Galaxies with more than 1 measurements is 3\n",
      "No. of Galaxies without reported errors is 1\n",
      "No. of Galaxies with reported errors is 10\n",
      "No. of Galaxies with more than 1 measurements is 6\n",
      "No. of Galaxies without reported errors is 1\n",
      "No. of Galaxies with reported errors is 24\n",
      "No. of Galaxies with more than 1 measurements is 0\n",
      "No. of Galaxies without reported errors is 2\n",
      "No. of Galaxies with reported errors is 17\n",
      "No. of Galaxies with more than 1 measurements is 2\n",
      "No. of Galaxies without reported errors is 51\n",
      "No. of Galaxies with reported errors is 17\n",
      "No. of Galaxies with more than 1 measurements is 0\n",
      "No. of Galaxies without reported errors is 0\n",
      "No. of Galaxies with reported errors is 7\n",
      "No. of Galaxies with more than 1 measurements is 5\n",
      "No. of Galaxies without reported errors is 1\n",
      "No. of Galaxies with reported errors is 4\n",
      "No. of Galaxies with more than 1 measurements is 2\n",
      "No. of Galaxies without reported errors is 1\n",
      "No. of Galaxies with reported errors is 5\n",
      "No. of Galaxies with more than 1 measurements is 5\n",
      "No. of Galaxies without reported errors is 0\n",
      "No. of Galaxies with reported errors is 6\n",
      "No. of Galaxies with more than 1 measurements is 2\n",
      "No. of Galaxies without reported errors is 0\n",
      "No. of Galaxies with reported errors is 9\n",
      "No. of Galaxies with more than 1 measurements is 0\n",
      "No. of Galaxies without reported errors is 27\n",
      "No. of Galaxies with reported errors is 7\n",
      "No. of Galaxies with more than 1 measurements is 0\n",
      "No. of Galaxies without reported errors is 4\n",
      "No. of Galaxies with reported errors is 4\n",
      "No. of Galaxies with more than 1 measurements is 2\n",
      "No. of Galaxies without reported errors is 2\n",
      "No. of Galaxies with reported errors is 4\n",
      "No. of Galaxies with more than 1 measurements is 1\n",
      "No. of Galaxies without reported errors is 4\n",
      "No. of Galaxies with reported errors is 2\n",
      "No. of Galaxies with more than 1 measurements is 1\n",
      "No. of Galaxies without reported errors is 3\n",
      "No. of Galaxies with reported errors is 1\n",
      "No. of Galaxies with more than 1 measurements is 1\n",
      "No. of Galaxies without reported errors is 0\n",
      "No. of Galaxies with reported errors is 2\n",
      "No. of Galaxies with more than 1 measurements is 2\n",
      "No. of Galaxies without reported errors is 4\n",
      "No. of Galaxies with reported errors is 2\n",
      "No. of Galaxies with more than 1 measurements is 2\n",
      "No. of Galaxies without reported errors is 2\n",
      "No. of Galaxies with reported errors is 1\n",
      "No. of Galaxies with more than 1 measurements is 1\n",
      "No. of Galaxies without reported errors is 8\n",
      "No. of Galaxies with reported errors is 2\n",
      "No. of Galaxies with more than 1 measurements is 1\n",
      "No. of Galaxies without reported errors is 1\n",
      "No. of Galaxies with reported errors is 2\n",
      "No. of Galaxies with more than 1 measurements is 1\n",
      "No. of Galaxies without reported errors is 0\n",
      "No. of Galaxies with reported errors is 3\n",
      "No. of Galaxies with more than 1 measurements is 0\n",
      "No. of Galaxies without reported errors is 2\n",
      "No. of Galaxies with reported errors is 2\n",
      "No. of Galaxies with more than 1 measurements is 0\n",
      "No. of Galaxies without reported errors is 18\n",
      "No. of Galaxies with reported errors is 1\n",
      "No. of Galaxies with more than 1 measurements is 1\n",
      "No. of Galaxies without reported errors is 0\n",
      "No. of Galaxies with reported errors is 2\n",
      "No. of Galaxies with more than 1 measurements is 0\n",
      "No. of Galaxies without reported errors is 0\n",
      "No. of Galaxies with reported errors is 2\n",
      "No. of Galaxies with more than 1 measurements is 0\n",
      "No. of Galaxies without reported errors is 0\n",
      "No. of Galaxies with reported errors is 1\n",
      "No. of Galaxies with more than 1 measurements is 0\n",
      "No. of Galaxies without reported errors is 0\n",
      "No. of Galaxies with reported errors is 1\n",
      "No. of Galaxies with more than 1 measurements is 0\n",
      "No. of Galaxies without reported errors is 0\n",
      "No. of Galaxies with reported errors is 1\n",
      "No. of Galaxies with more than 1 measurements is 0\n",
      "No. of Galaxies without reported errors is 5\n",
      "No. of Galaxies with reported errors is 1\n",
      "No. of Galaxies with more than 1 measurements is 0\n",
      "No. of Galaxies without reported errors is 0\n",
      "No. of Galaxies with reported errors is 1\n",
      "No. of Galaxies with more than 1 measurements is 0\n",
      "No. of Galaxies without reported errors is 0\n",
      "No. of Galaxies with reported errors is 1\n",
      "No. of Galaxies with more than 1 measurements is 0\n",
      "No. of Galaxies without reported errors is 0\n",
      "No. of Galaxies with reported errors is 1\n",
      "No. of Galaxies with more than 1 measurements is 0\n",
      "No. of Galaxies without reported errors is 0\n"
     ]
    }
   ],
   "source": [
    "meas=[]\n",
    "for i in dfmeth.method:\n",
    "    ulist,dfs,nulista,dista,dfmeth,*mma=selectdata(i,df);\n",
    "    meas+=[mma]"
   ]
  },
  {
   "cell_type": "code",
   "execution_count": 11,
   "metadata": {
    "collapsed": true
   },
   "outputs": [],
   "source": [
    "meas=np.array(meas)\n",
    "dfmeth['empty']=meas[:,0]\n",
    "dfmeth['useful']=meas[:,1]\n",
    "dfmeth['total']=meas[:,2]\n",
    "dfmeth['e/u']=dfmeth['empty']/dfmeth['useful']*100\n",
    "dfmeth['e/t']=dfmeth['empty']/dfmeth['total']*100"
   ]
  },
  {
   "cell_type": "code",
   "execution_count": 12,
   "metadata": {
    "collapsed": false
   },
   "outputs": [
    {
     "data": {
      "text/html": [
       "<div>\n",
       "<table border=\"1\" class=\"dataframe\">\n",
       "  <thead>\n",
       "    <tr style=\"text-align: right;\">\n",
       "      <th></th>\n",
       "      <th>method</th>\n",
       "      <th>count</th>\n",
       "      <th>empty</th>\n",
       "      <th>useful</th>\n",
       "      <th>total</th>\n",
       "      <th>e/u</th>\n",
       "      <th>e/t</th>\n",
       "    </tr>\n",
       "  </thead>\n",
       "  <tbody>\n",
       "    <tr>\n",
       "      <th>1</th>\n",
       "      <td>Tully-Fisher</td>\n",
       "      <td>56397</td>\n",
       "      <td>818</td>\n",
       "      <td>9100</td>\n",
       "      <td>11376</td>\n",
       "      <td>8.989011</td>\n",
       "      <td>7.190577</td>\n",
       "    </tr>\n",
       "    <tr>\n",
       "      <th>22</th>\n",
       "      <td>RR Lyrae</td>\n",
       "      <td>46152</td>\n",
       "      <td>54</td>\n",
       "      <td>40</td>\n",
       "      <td>22930</td>\n",
       "      <td>135.000000</td>\n",
       "      <td>0.235499</td>\n",
       "    </tr>\n",
       "    <tr>\n",
       "      <th>11</th>\n",
       "      <td>TRGB</td>\n",
       "      <td>1710</td>\n",
       "      <td>22</td>\n",
       "      <td>308</td>\n",
       "      <td>462</td>\n",
       "      <td>7.142857</td>\n",
       "      <td>4.761905</td>\n",
       "    </tr>\n",
       "    <tr>\n",
       "      <th>8</th>\n",
       "      <td>CMD</td>\n",
       "      <td>1209</td>\n",
       "      <td>105</td>\n",
       "      <td>113</td>\n",
       "      <td>405</td>\n",
       "      <td>92.920354</td>\n",
       "      <td>25.925926</td>\n",
       "    </tr>\n",
       "    <tr>\n",
       "      <th>38</th>\n",
       "      <td>Eclipsing Binary</td>\n",
       "      <td>256</td>\n",
       "      <td>46</td>\n",
       "      <td>47</td>\n",
       "      <td>58</td>\n",
       "      <td>97.872340</td>\n",
       "      <td>79.310345</td>\n",
       "    </tr>\n",
       "    <tr>\n",
       "      <th>33</th>\n",
       "      <td>Red Clump</td>\n",
       "      <td>230</td>\n",
       "      <td>12</td>\n",
       "      <td>23</td>\n",
       "      <td>38</td>\n",
       "      <td>52.173913</td>\n",
       "      <td>31.578947</td>\n",
       "    </tr>\n",
       "    <tr>\n",
       "      <th>10</th>\n",
       "      <td>PNLF</td>\n",
       "      <td>198</td>\n",
       "      <td>8</td>\n",
       "      <td>45</td>\n",
       "      <td>69</td>\n",
       "      <td>17.777778</td>\n",
       "      <td>11.594203</td>\n",
       "    </tr>\n",
       "    <tr>\n",
       "      <th>23</th>\n",
       "      <td>SZ effect</td>\n",
       "      <td>137</td>\n",
       "      <td>10</td>\n",
       "      <td>38</td>\n",
       "      <td>40</td>\n",
       "      <td>26.315789</td>\n",
       "      <td>25.000000</td>\n",
       "    </tr>\n",
       "    <tr>\n",
       "      <th>6</th>\n",
       "      <td>Brightest Stars</td>\n",
       "      <td>128</td>\n",
       "      <td>92</td>\n",
       "      <td>21</td>\n",
       "      <td>82</td>\n",
       "      <td>438.095238</td>\n",
       "      <td>112.195122</td>\n",
       "    </tr>\n",
       "    <tr>\n",
       "      <th>29</th>\n",
       "      <td>Horizontal Branch</td>\n",
       "      <td>96</td>\n",
       "      <td>9</td>\n",
       "      <td>21</td>\n",
       "      <td>50</td>\n",
       "      <td>42.857143</td>\n",
       "      <td>18.000000</td>\n",
       "    </tr>\n",
       "  </tbody>\n",
       "</table>\n",
       "</div>"
      ],
      "text/plain": [
       "               method  count  empty  useful  total         e/u         e/t\n",
       "1        Tully-Fisher  56397    818    9100  11376    8.989011    7.190577\n",
       "22           RR Lyrae  46152     54      40  22930  135.000000    0.235499\n",
       "11               TRGB   1710     22     308    462    7.142857    4.761905\n",
       "8                 CMD   1209    105     113    405   92.920354   25.925926\n",
       "38   Eclipsing Binary    256     46      47     58   97.872340   79.310345\n",
       "33          Red Clump    230     12      23     38   52.173913   31.578947\n",
       "10               PNLF    198      8      45     69   17.777778   11.594203\n",
       "23          SZ effect    137     10      38     40   26.315789   25.000000\n",
       "6     Brightest Stars    128     92      21     82  438.095238  112.195122\n",
       "29  Horizontal Branch     96      9      21     50   42.857143   18.000000"
      ]
     },
     "execution_count": 12,
     "metadata": {},
     "output_type": "execute_result"
    }
   ],
   "source": [
    "dfmeth[(dfmeth['e/u']>5)&(dfmeth['useful']>20)]\n",
    "# que el porcentaje del numero de galaxias sin error reportado respecto a las galaxias con más de una medida\n",
    "# sea mas que el 5%\n",
    "# y que haya más de 20 galaxias con más de una medida"
   ]
  },
  {
   "cell_type": "code",
   "execution_count": 13,
   "metadata": {
    "collapsed": false
   },
   "outputs": [
    {
     "name": "stdout",
     "output_type": "stream",
     "text": [
      "No. of Galaxies with reported errors is 11376\n",
      "No. of Galaxies with more than 1 measurements is 9100\n"
     ]
    },
    {
     "name": "stderr",
     "output_type": "stream",
     "text": [
      "/home/ecci/miniconda3/envs/py3/lib/python3.6/site-packages/ipykernel_launcher.py:28: SettingWithCopyWarning: \n",
      "A value is trying to be set on a copy of a slice from a DataFrame\n",
      "\n",
      "See the caveats in the documentation: http://pandas.pydata.org/pandas-docs/stable/indexing.html#indexing-view-versus-copy\n"
     ]
    },
    {
     "name": "stdout",
     "output_type": "stream",
     "text": [
      "No. of Galaxies without reported errors is 818\n"
     ]
    }
   ],
   "source": [
    "# number of galaxies with no reported errors for this method\n",
    "mymethod='Tully-Fisher'\n",
    "ulist,dfs,nulista,dista,dfmeth,*mma=selectdata(mymethod,df)"
   ]
  },
  {
   "cell_type": "code",
   "execution_count": 18,
   "metadata": {
    "collapsed": false,
    "scrolled": true
   },
   "outputs": [
    {
     "data": {
      "text/plain": [
       "[818, 9100, 11376]"
      ]
     },
     "execution_count": 18,
     "metadata": {},
     "output_type": "execute_result"
    }
   ],
   "source": [
    "mma"
   ]
  },
  {
   "cell_type": "code",
   "execution_count": null,
   "metadata": {
    "collapsed": true
   },
   "outputs": [],
   "source": [
    "# en nulista estan las que no tienen error"
   ]
  },
  {
   "cell_type": "code",
   "execution_count": 28,
   "metadata": {
    "collapsed": false
   },
   "outputs": [],
   "source": [
    "dfempty=df[np.in1d(df['Galaxy ID'],nulista)]"
   ]
  },
  {
   "cell_type": "code",
   "execution_count": 35,
   "metadata": {
    "collapsed": false
   },
   "outputs": [],
   "source": [
    "counter=collections.Counter(dfempty['Galaxy ID'])"
   ]
  },
  {
   "cell_type": "code",
   "execution_count": 63,
   "metadata": {
    "collapsed": false
   },
   "outputs": [],
   "source": [
    "dfempme=pd.DataFrame(list(counter.items()),columns=['gal','meas'])"
   ]
  },
  {
   "cell_type": "code",
   "execution_count": 66,
   "metadata": {
    "collapsed": false
   },
   "outputs": [
    {
     "data": {
      "text/plain": [
       "357"
      ]
     },
     "execution_count": 66,
     "metadata": {},
     "output_type": "execute_result"
    }
   ],
   "source": [
    "(dfempme.meas==1).sum() # number of single-measurement TF reported distances without error"
   ]
  },
  {
   "cell_type": "code",
   "execution_count": 92,
   "metadata": {
    "collapsed": false
   },
   "outputs": [],
   "source": [
    "methn=[]\n",
    "for i in nulista:\n",
    "    methn+=[len(dfempty.Method[(dfempty['Galaxy ID']==i)&(dfempty.Method=='Tully-Fisher')])]\n",
    "    "
   ]
  },
  {
   "cell_type": "code",
   "execution_count": 93,
   "metadata": {
    "collapsed": false
   },
   "outputs": [
    {
     "data": {
      "text/plain": [
       "383"
      ]
     },
     "execution_count": 93,
     "metadata": {},
     "output_type": "execute_result"
    }
   ],
   "source": [
    "(np.array(methn)>1).sum() # number of galaxies with no tf error but with more than one TF measurement "
   ]
  },
  {
   "cell_type": "code",
   "execution_count": 101,
   "metadata": {
    "collapsed": false
   },
   "outputs": [
    {
     "data": {
      "text/plain": [
       "99"
      ]
     },
     "execution_count": 101,
     "metadata": {},
     "output_type": "execute_result"
    }
   ],
   "source": [
    "methnt=[]\n",
    "for i in nulista:\n",
    "    methnt+=[len(np.unique(dfempty.Method[(dfempty['Galaxy ID']==i)&(dfempty.Method!='Tully-Fisher')]))]\n",
    "(np.array(methnt)>0).sum()    \n",
    "# number of galaxies with no tf error but with more than one measurement using other methods"
   ]
  },
  {
   "cell_type": "code",
   "execution_count": 103,
   "metadata": {
    "collapsed": false
   },
   "outputs": [
    {
     "data": {
      "text/plain": [
       "435"
      ]
     },
     "execution_count": 103,
     "metadata": {},
     "output_type": "execute_result"
    }
   ],
   "source": [
    "(np.array(methn)==1).sum() #"
   ]
  },
  {
   "cell_type": "code",
   "execution_count": 104,
   "metadata": {
    "collapsed": false
   },
   "outputs": [
    {
     "data": {
      "text/plain": [
       "818"
      ]
     },
     "execution_count": 104,
     "metadata": {},
     "output_type": "execute_result"
    }
   ],
   "source": [
    "435+383"
   ]
  },
  {
   "cell_type": "code",
   "execution_count": 110,
   "metadata": {
    "collapsed": true
   },
   "outputs": [],
   "source": [
    "dftf=dfempty[dfempty.Method=='Tully-Fisher']"
   ]
  },
  {
   "cell_type": "code",
   "execution_count": 115,
   "metadata": {
    "collapsed": false
   },
   "outputs": [
    {
     "data": {
      "text/plain": [
       "(array([    2.,   103.,     0.,    18.,     2.,   329.,     6.,     9.,\n",
       "         1071.,   341.]),\n",
       " array([ 1980. ,  1983.6,  1987.2,  1990.8,  1994.4,  1998. ,  2001.6,\n",
       "         2005.2,  2008.8,  2012.4,  2016. ]),\n",
       " <a list of 10 Patch objects>)"
      ]
     },
     "execution_count": 115,
     "metadata": {},
     "output_type": "execute_result"
    },
    {
     "data": {
      "image/png": "[encoded data removed]",
      "text/plain": [
       "<matplotlib.figure.Figure at 0x7ff50ef79e80>"
      ]
     },
     "metadata": {},
     "output_type": "display_data"
    }
   ],
   "source": [
    "plt.hist(dftf['Date (Yr. - 1980)']+1980)"
   ]
  },
  {
   "cell_type": "code",
   "execution_count": 120,
   "metadata": {
    "collapsed": false
   },
   "outputs": [
    {
     "data": {
      "text/plain": [
       "47        2013AJ....145..101K\n",
       "871       2013AJ....145..101K\n",
       "1260      2013AJ....145..101K\n",
       "5108      2013AJ....145..101K\n",
       "30135     2013AJ....145..101K\n",
       "35548     2014A&A...562A..49M\n",
       "49274     2013AJ....145..101K\n",
       "50062     2013AJ....145..101K\n",
       "53174     2013AJ....145..101K\n",
       "60321     2013AJ....145..101K\n",
       "60470     2013AJ....145..101K\n",
       "61238     2013AJ....145..101K\n",
       "62963     2013AJ....145..101K\n",
       "63767     2013AJ....145..101K\n",
       "116664    2013AJ....145..101K\n",
       "117164    2013AJ....145..101K\n",
       "117606    2013AJ....145..101K\n",
       "118134    2015AstBu..70....1K\n",
       "118195    2013AJ....145..101K\n",
       "118494    2015AstBu..70....1K\n",
       "119526    2015AstBu..70....1K\n",
       "120486    2013AJ....145..101K\n",
       "121152    2015AstBu..70....1K\n",
       "122829    2015AstBu..70....1K\n",
       "124602    2015AstBu..70....1K\n",
       "125704    2015AstBu..70....1K\n",
       "128402    2013AJ....145..101K\n",
       "128562    2015AstBu..70....1K\n",
       "128723    2015AstBu..70....1K\n",
       "129499    2013AJ....145..101K\n",
       "                 ...         \n",
       "258391    2014Ap.....57..457K\n",
       "260191    2014Ap.....57..457K\n",
       "260784    2014Ap.....57..457K\n",
       "261677    2014Ap.....57..457K\n",
       "264322    2014Ap.....57..457K\n",
       "265937    2014Ap.....57..457K\n",
       "268397    2014Ap.....57..457K\n",
       "270083    2014Ap.....57..457K\n",
       "271461    2014Ap.....57..457K\n",
       "271464    2014Ap.....57..457K\n",
       "272231    2014Ap.....57..457K\n",
       "273716    2014Ap.....57..457K\n",
       "273856    2014Ap.....57..457K\n",
       "274005    2014Ap.....57..457K\n",
       "275312    2014Ap.....57..457K\n",
       "276751    2014Ap.....57..457K\n",
       "281174    2014Ap.....57..457K\n",
       "282170    2014Ap.....57..457K\n",
       "282548    2013AJ....145..101K\n",
       "287499    2013AJ....145..101K\n",
       "287725    2013AJ....145..101K\n",
       "288923    2013AJ....145..101K\n",
       "304518    2013AJ....145..101K\n",
       "305570    2014A&A...562A..49M\n",
       "309709    2014MNRAS.442L..46T\n",
       "309710    2014MNRAS.442L..46T\n",
       "310125    2014A&A...562A..49M\n",
       "314509    2013AJ....145..101K\n",
       "318126    2013AJ....145..101K\n",
       "318527    2013AJ....145..101K\n",
       "Name: REFCODE, dtype: object"
      ]
     },
     "execution_count": 120,
     "metadata": {},
     "output_type": "execute_result"
    }
   ],
   "source": [
    "dftf[dftf['Date (Yr. - 1980)']>30].REFCODE"
   ]
  },
  {
   "cell_type": "code",
   "execution_count": 102,
   "metadata": {
    "collapsed": false
   },
   "outputs": [],
   "source": [
    "dedd=pd.read_csv('EDDtable14Mar2018170435.txt',low_memory=False,header=0,skiprows=[0,2,3,4])"
   ]
  },
  {
   "cell_type": "code",
   "execution_count": 32,
   "metadata": {
    "collapsed": false
   },
   "outputs": [],
   "source": [
    "ledd=np.unique(dedd.Name.astype('str'))[:-1]"
   ]
  },
  {
   "cell_type": "code",
   "execution_count": 20,
   "metadata": {
    "collapsed": false
   },
   "outputs": [
    {
     "data": {
      "text/plain": [
       "array(['+00-04-045', '+00-04-056', '+03-38-030', ..., 'XJ23490014',\n",
       "       'XJ23491554', 'd0958+66'], dtype=object)"
      ]
     },
     "execution_count": 20,
     "metadata": {},
     "output_type": "execute_result"
    }
   ],
   "source": [
    "ledd"
   ]
  },
  {
   "cell_type": "code",
   "execution_count": 36,
   "metadata": {
    "collapsed": false
   },
   "outputs": [],
   "source": [
    "lned=np.loadtxt('calculated.txt',dtype='str')"
   ]
  },
  {
   "cell_type": "code",
   "execution_count": 39,
   "metadata": {
    "collapsed": false
   },
   "outputs": [],
   "source": [
    "lned=np.array([i[2:-1] for i in lned])"
   ]
  },
  {
   "cell_type": "code",
   "execution_count": 40,
   "metadata": {
    "collapsed": false
   },
   "outputs": [
    {
     "data": {
      "text/plain": [
       "array(['UGC12889', 'KUG2357+228', '2MFGC00003', ..., 'NGC7800',\n",
       "       '2MASXJ23594628+0452385', 'AGC332118'], \n",
       "      dtype='<U24')"
      ]
     },
     "execution_count": 40,
     "metadata": {},
     "output_type": "execute_result"
    }
   ],
   "source": [
    "lned"
   ]
  },
  {
   "cell_type": "code",
   "execution_count": 41,
   "metadata": {
    "collapsed": false
   },
   "outputs": [
    {
     "data": {
      "text/plain": [
       "9100"
      ]
     },
     "execution_count": 41,
     "metadata": {},
     "output_type": "execute_result"
    }
   ],
   "source": [
    "len(lned)"
   ]
  },
  {
   "cell_type": "code",
   "execution_count": 42,
   "metadata": {
    "collapsed": false
   },
   "outputs": [
    {
     "data": {
      "text/plain": [
       "10616"
      ]
     },
     "execution_count": 42,
     "metadata": {},
     "output_type": "execute_result"
    }
   ],
   "source": [
    "len(ledd)"
   ]
  },
  {
   "cell_type": "code",
   "execution_count": 47,
   "metadata": {
    "collapsed": false
   },
   "outputs": [],
   "source": [
    "coinc=lned[np.in1d(lned,ledd)]"
   ]
  },
  {
   "cell_type": "code",
   "execution_count": 48,
   "metadata": {
    "collapsed": false
   },
   "outputs": [
    {
     "data": {
      "text/plain": [
       "2380"
      ]
     },
     "execution_count": 48,
     "metadata": {},
     "output_type": "execute_result"
    }
   ],
   "source": [
    "len(coinc)"
   ]
  },
  {
   "cell_type": "code",
   "execution_count": 49,
   "metadata": {
    "collapsed": false
   },
   "outputs": [
    {
     "data": {
      "text/plain": [
       "array(['UGC12898', 'UGC12900', 'UGC12901', ..., 'UGC12882', 'UGC12886',\n",
       "       'NGC7800'], \n",
       "      dtype='<U24')"
      ]
     },
     "execution_count": 49,
     "metadata": {},
     "output_type": "execute_result"
    }
   ],
   "source": [
    "coinc"
   ]
  },
  {
   "cell_type": "code",
   "execution_count": 103,
   "metadata": {
    "collapsed": false
   },
   "outputs": [
    {
     "data": {
      "text/plain": [
       "Index(['pgc', 'Dist', 'Nd', 'DM', 'eDM', 'C', 'T', 'L', 'M', 'S', 'N', 'H',\n",
       "       'I', 'F', 'DM2', 'eD2', 'SNIa', 'Ns', 'DMsn', 'DMsp', 'eDsp', 'DM6d',\n",
       "       'eD6d', 'Mt', 'RAJ', 'DeJ', 'Glon', 'Glat', 'SGL', 'SGB', 'Ty', 'Asf',\n",
       "       'Btot', 'Ks', 'Vhel', 'Vgsr', 'Vls', 'Vcmb', 'Vmod', 'Name', 'Nest',\n",
       "       'Ndgp', 'DMgp', 'eDgp', 'Dgp', 'Abell', 'GroupName', 'NV', 'PGC1',\n",
       "       'Glongp', 'Glatgp', 'SGLgp', 'SGBgp', 'lgLgp', 'cf', 'sigp', 'R2t',\n",
       "       'Vhgp', 'Vggp', 'Vlsgp', 'Vcgp', 'Vmgp', 'Vrms', 'bwMass12', 'L_Mass12',\n",
       "       'LDC', 'HDC', '2M++', 'MKgp', 'Icnt'],\n",
       "      dtype='object')"
      ]
     },
     "execution_count": 103,
     "metadata": {},
     "output_type": "execute_result"
    }
   ],
   "source": [
    "dedd.columns"
   ]
  },
  {
   "cell_type": "code",
   "execution_count": 104,
   "metadata": {
    "collapsed": false
   },
   "outputs": [
    {
     "data": {
      "text/plain": [
       "(array([  1.72300000e+03,   0.00000000e+00,   2.04000000e+02,\n",
       "          0.00000000e+00,   3.40000000e+01,   0.00000000e+00,\n",
       "          3.00000000e+00,   0.00000000e+00,   0.00000000e+00,\n",
       "          1.00000000e+00]),\n",
       " array([ 2. ,  2.5,  3. ,  3.5,  4. ,  4.5,  5. ,  5.5,  6. ,  6.5,  7. ]),\n",
       " <a list of 10 Patch objects>)"
      ]
     },
     "execution_count": 104,
     "metadata": {},
     "output_type": "execute_result"
    },
    {
     "data": {
      "image/png": "[encoded data removed]",
      "text/plain": [
       "<matplotlib.figure.Figure at 0x7f3a03c38630>"
      ]
     },
     "metadata": {},
     "output_type": "display_data"
    }
   ],
   "source": [
    "plt.hist(dedd.Nd[dedd.Nd>1])"
   ]
  },
  {
   "cell_type": "code",
   "execution_count": 107,
   "metadata": {
    "collapsed": false
   },
   "outputs": [
    {
     "data": {
      "text/html": [
       "<div>\n",
       "<table border=\"1\" class=\"dataframe\">\n",
       "  <thead>\n",
       "    <tr style=\"text-align: right;\">\n",
       "      <th></th>\n",
       "      <th>5265</th>\n",
       "    </tr>\n",
       "  </thead>\n",
       "  <tbody>\n",
       "    <tr>\n",
       "      <th>pgc</th>\n",
       "      <td>39600</td>\n",
       "    </tr>\n",
       "    <tr>\n",
       "      <th>Dist</th>\n",
       "      <td>7.31</td>\n",
       "    </tr>\n",
       "    <tr>\n",
       "      <th>Nd</th>\n",
       "      <td>7</td>\n",
       "    </tr>\n",
       "    <tr>\n",
       "      <th>DM</th>\n",
       "      <td>29.32</td>\n",
       "    </tr>\n",
       "    <tr>\n",
       "      <th>eDM</th>\n",
       "      <td>0.1</td>\n",
       "    </tr>\n",
       "    <tr>\n",
       "      <th>C</th>\n",
       "      <td>C</td>\n",
       "    </tr>\n",
       "    <tr>\n",
       "      <th>T</th>\n",
       "      <td>T</td>\n",
       "    </tr>\n",
       "    <tr>\n",
       "      <th>L</th>\n",
       "      <td>L</td>\n",
       "    </tr>\n",
       "    <tr>\n",
       "      <th>M</th>\n",
       "      <td>M</td>\n",
       "    </tr>\n",
       "    <tr>\n",
       "      <th>S</th>\n",
       "      <td>S</td>\n",
       "    </tr>\n",
       "    <tr>\n",
       "      <th>N</th>\n",
       "      <td>NaN</td>\n",
       "    </tr>\n",
       "    <tr>\n",
       "      <th>H</th>\n",
       "      <td>H</td>\n",
       "    </tr>\n",
       "    <tr>\n",
       "      <th>I</th>\n",
       "      <td>I</td>\n",
       "    </tr>\n",
       "    <tr>\n",
       "      <th>F</th>\n",
       "      <td>NaN</td>\n",
       "    </tr>\n",
       "    <tr>\n",
       "      <th>DM2</th>\n",
       "      <td>29.32</td>\n",
       "    </tr>\n",
       "    <tr>\n",
       "      <th>eD2</th>\n",
       "      <td>0.1</td>\n",
       "    </tr>\n",
       "    <tr>\n",
       "      <th>SNIa</th>\n",
       "      <td>NaN</td>\n",
       "    </tr>\n",
       "    <tr>\n",
       "      <th>Ns</th>\n",
       "      <td>0</td>\n",
       "    </tr>\n",
       "    <tr>\n",
       "      <th>DMsn</th>\n",
       "      <td>0</td>\n",
       "    </tr>\n",
       "    <tr>\n",
       "      <th>DMsp</th>\n",
       "      <td>29.25</td>\n",
       "    </tr>\n",
       "    <tr>\n",
       "      <th>eDsp</th>\n",
       "      <td>0.45</td>\n",
       "    </tr>\n",
       "    <tr>\n",
       "      <th>DM6d</th>\n",
       "      <td>0</td>\n",
       "    </tr>\n",
       "    <tr>\n",
       "      <th>eD6d</th>\n",
       "      <td>0</td>\n",
       "    </tr>\n",
       "    <tr>\n",
       "      <th>Mt</th>\n",
       "      <td>NaN</td>\n",
       "    </tr>\n",
       "    <tr>\n",
       "      <th>RAJ</th>\n",
       "      <td>121858</td>\n",
       "    </tr>\n",
       "    <tr>\n",
       "      <th>DeJ</th>\n",
       "      <td>471813</td>\n",
       "    </tr>\n",
       "    <tr>\n",
       "      <th>Glon</th>\n",
       "      <td>138.32</td>\n",
       "    </tr>\n",
       "    <tr>\n",
       "      <th>Glat</th>\n",
       "      <td>68.8425</td>\n",
       "    </tr>\n",
       "    <tr>\n",
       "      <th>SGL</th>\n",
       "      <td>68.7411</td>\n",
       "    </tr>\n",
       "    <tr>\n",
       "      <th>SGB</th>\n",
       "      <td>5.55</td>\n",
       "    </tr>\n",
       "    <tr>\n",
       "      <th>...</th>\n",
       "      <td>...</td>\n",
       "    </tr>\n",
       "    <tr>\n",
       "      <th>Nest</th>\n",
       "      <td>120008</td>\n",
       "    </tr>\n",
       "    <tr>\n",
       "      <th>Ndgp</th>\n",
       "      <td>7</td>\n",
       "    </tr>\n",
       "    <tr>\n",
       "      <th>DMgp</th>\n",
       "      <td>29.28</td>\n",
       "    </tr>\n",
       "    <tr>\n",
       "      <th>eDgp</th>\n",
       "      <td>0.06</td>\n",
       "    </tr>\n",
       "    <tr>\n",
       "      <th>Dgp</th>\n",
       "      <td>7.2</td>\n",
       "    </tr>\n",
       "    <tr>\n",
       "      <th>Abell</th>\n",
       "      <td>NaN</td>\n",
       "    </tr>\n",
       "    <tr>\n",
       "      <th>GroupName</th>\n",
       "      <td>NaN</td>\n",
       "    </tr>\n",
       "    <tr>\n",
       "      <th>NV</th>\n",
       "      <td>7</td>\n",
       "    </tr>\n",
       "    <tr>\n",
       "      <th>PGC1</th>\n",
       "      <td>39600</td>\n",
       "    </tr>\n",
       "    <tr>\n",
       "      <th>Glongp</th>\n",
       "      <td>138.78</td>\n",
       "    </tr>\n",
       "    <tr>\n",
       "      <th>Glatgp</th>\n",
       "      <td>69.65</td>\n",
       "    </tr>\n",
       "    <tr>\n",
       "      <th>SGLgp</th>\n",
       "      <td>69.5609</td>\n",
       "    </tr>\n",
       "    <tr>\n",
       "      <th>SGBgp</th>\n",
       "      <td>5.4349</td>\n",
       "    </tr>\n",
       "    <tr>\n",
       "      <th>lgLgp</th>\n",
       "      <td>11.56</td>\n",
       "    </tr>\n",
       "    <tr>\n",
       "      <th>cf</th>\n",
       "      <td>1</td>\n",
       "    </tr>\n",
       "    <tr>\n",
       "      <th>sigp</th>\n",
       "      <td>210</td>\n",
       "    </tr>\n",
       "    <tr>\n",
       "      <th>R2t</th>\n",
       "      <td>0.571</td>\n",
       "    </tr>\n",
       "    <tr>\n",
       "      <th>Vhgp</th>\n",
       "      <td>514</td>\n",
       "    </tr>\n",
       "    <tr>\n",
       "      <th>Vggp</th>\n",
       "      <td>575</td>\n",
       "    </tr>\n",
       "    <tr>\n",
       "      <th>Vlsgp</th>\n",
       "      <td>586</td>\n",
       "    </tr>\n",
       "    <tr>\n",
       "      <th>Vcgp</th>\n",
       "      <td>724</td>\n",
       "    </tr>\n",
       "    <tr>\n",
       "      <th>Vmgp</th>\n",
       "      <td>725</td>\n",
       "    </tr>\n",
       "    <tr>\n",
       "      <th>Vrms</th>\n",
       "      <td>47</td>\n",
       "    </tr>\n",
       "    <tr>\n",
       "      <th>bwMass12</th>\n",
       "      <td>0</td>\n",
       "    </tr>\n",
       "    <tr>\n",
       "      <th>L_Mass12</th>\n",
       "      <td>18.533</td>\n",
       "    </tr>\n",
       "    <tr>\n",
       "      <th>LDC</th>\n",
       "      <td>852</td>\n",
       "    </tr>\n",
       "    <tr>\n",
       "      <th>HDC</th>\n",
       "      <td>699</td>\n",
       "    </tr>\n",
       "    <tr>\n",
       "      <th>2M++</th>\n",
       "      <td>0</td>\n",
       "    </tr>\n",
       "    <tr>\n",
       "      <th>MKgp</th>\n",
       "      <td>5066875</td>\n",
       "    </tr>\n",
       "    <tr>\n",
       "      <th>Icnt</th>\n",
       "      <td>209</td>\n",
       "    </tr>\n",
       "  </tbody>\n",
       "</table>\n",
       "<p>70 rows × 1 columns</p>\n",
       "</div>"
      ],
      "text/plain": [
       "              5265\n",
       "pgc          39600\n",
       "Dist          7.31\n",
       "Nd               7\n",
       "DM           29.32\n",
       "eDM            0.1\n",
       "C                C\n",
       "T                T\n",
       "L                L\n",
       "M                M\n",
       "S                S\n",
       "N              NaN\n",
       "H                H\n",
       "I                I\n",
       "F              NaN\n",
       "DM2          29.32\n",
       "eD2            0.1\n",
       "SNIa           NaN\n",
       "Ns               0\n",
       "DMsn             0\n",
       "DMsp         29.25\n",
       "eDsp          0.45\n",
       "DM6d             0\n",
       "eD6d             0\n",
       "Mt             NaN\n",
       "RAJ         121858\n",
       "DeJ         471813\n",
       "Glon        138.32\n",
       "Glat       68.8425\n",
       "SGL        68.7411\n",
       "SGB           5.55\n",
       "...            ...\n",
       "Nest        120008\n",
       "Ndgp             7\n",
       "DMgp         29.28\n",
       "eDgp          0.06\n",
       "Dgp            7.2\n",
       "Abell          NaN\n",
       "GroupName      NaN\n",
       "NV               7\n",
       "PGC1         39600\n",
       "Glongp      138.78\n",
       "Glatgp       69.65\n",
       "SGLgp      69.5609\n",
       "SGBgp       5.4349\n",
       "lgLgp        11.56\n",
       "cf               1\n",
       "sigp           210\n",
       "R2t          0.571\n",
       "Vhgp           514\n",
       "Vggp           575\n",
       "Vlsgp          586\n",
       "Vcgp           724\n",
       "Vmgp           725\n",
       "Vrms            47\n",
       "bwMass12         0\n",
       "L_Mass12    18.533\n",
       "LDC            852\n",
       "HDC            699\n",
       "2M++             0\n",
       "MKgp       5066875\n",
       "Icnt           209\n",
       "\n",
       "[70 rows x 1 columns]"
      ]
     },
     "execution_count": 107,
     "metadata": {},
     "output_type": "execute_result"
    }
   ],
   "source": [
    "dedd[dedd.Nd==7].T"
   ]
  },
  {
   "cell_type": "code",
   "execution_count": null,
   "metadata": {
    "collapsed": true
   },
   "outputs": [],
   "source": []
  },
  {
   "cell_type": "code",
   "execution_count": 57,
   "metadata": {
    "collapsed": false
   },
   "outputs": [
    {
     "data": {
      "text/html": [
       "<div>\n",
       "<table border=\"1\" class=\"dataframe\">\n",
       "  <thead>\n",
       "    <tr style=\"text-align: right;\">\n",
       "      <th></th>\n",
       "      <th>pgc</th>\n",
       "      <th>Dist</th>\n",
       "      <th>Nd</th>\n",
       "      <th>DM</th>\n",
       "      <th>eDM</th>\n",
       "      <th>C</th>\n",
       "      <th>T</th>\n",
       "      <th>L</th>\n",
       "      <th>M</th>\n",
       "      <th>S</th>\n",
       "      <th>...</th>\n",
       "      <th>Vcgp</th>\n",
       "      <th>Vmgp</th>\n",
       "      <th>Vrms</th>\n",
       "      <th>bwMass12</th>\n",
       "      <th>L_Mass12</th>\n",
       "      <th>LDC</th>\n",
       "      <th>HDC</th>\n",
       "      <th>2M++</th>\n",
       "      <th>MKgp</th>\n",
       "      <th>Icnt</th>\n",
       "    </tr>\n",
       "  </thead>\n",
       "  <tbody>\n",
       "    <tr>\n",
       "      <th>0</th>\n",
       "      <td>4</td>\n",
       "      <td>50.58</td>\n",
       "      <td>1</td>\n",
       "      <td>33.52</td>\n",
       "      <td>0.4</td>\n",
       "      <td>NaN</td>\n",
       "      <td>NaN</td>\n",
       "      <td>NaN</td>\n",
       "      <td>NaN</td>\n",
       "      <td>NaN</td>\n",
       "      <td>...</td>\n",
       "      <td>4005</td>\n",
       "      <td>4048</td>\n",
       "      <td>25.0</td>\n",
       "      <td>0.0</td>\n",
       "      <td>9.747</td>\n",
       "      <td>0</td>\n",
       "      <td>0</td>\n",
       "      <td>0</td>\n",
       "      <td>0</td>\n",
       "      <td>0</td>\n",
       "    </tr>\n",
       "    <tr>\n",
       "      <th>1</th>\n",
       "      <td>27</td>\n",
       "      <td>150.66</td>\n",
       "      <td>1</td>\n",
       "      <td>35.89</td>\n",
       "      <td>0.5</td>\n",
       "      <td>NaN</td>\n",
       "      <td>NaN</td>\n",
       "      <td>NaN</td>\n",
       "      <td>NaN</td>\n",
       "      <td>NaN</td>\n",
       "      <td>...</td>\n",
       "      <td>10959</td>\n",
       "      <td>11275</td>\n",
       "      <td>NaN</td>\n",
       "      <td>0.0</td>\n",
       "      <td>0.000</td>\n",
       "      <td>0</td>\n",
       "      <td>0</td>\n",
       "      <td>0</td>\n",
       "      <td>0</td>\n",
       "      <td>0</td>\n",
       "    </tr>\n",
       "    <tr>\n",
       "      <th>2</th>\n",
       "      <td>40</td>\n",
       "      <td>116.95</td>\n",
       "      <td>1</td>\n",
       "      <td>35.34</td>\n",
       "      <td>0.5</td>\n",
       "      <td>NaN</td>\n",
       "      <td>NaN</td>\n",
       "      <td>NaN</td>\n",
       "      <td>NaN</td>\n",
       "      <td>NaN</td>\n",
       "      <td>...</td>\n",
       "      <td>6919</td>\n",
       "      <td>7045</td>\n",
       "      <td>0.0</td>\n",
       "      <td>0.0</td>\n",
       "      <td>3.960</td>\n",
       "      <td>0</td>\n",
       "      <td>0</td>\n",
       "      <td>0</td>\n",
       "      <td>0</td>\n",
       "      <td>0</td>\n",
       "    </tr>\n",
       "    <tr>\n",
       "      <th>3</th>\n",
       "      <td>51</td>\n",
       "      <td>240.99</td>\n",
       "      <td>1</td>\n",
       "      <td>36.91</td>\n",
       "      <td>0.5</td>\n",
       "      <td>NaN</td>\n",
       "      <td>NaN</td>\n",
       "      <td>NaN</td>\n",
       "      <td>NaN</td>\n",
       "      <td>NaN</td>\n",
       "      <td>...</td>\n",
       "      <td>14743</td>\n",
       "      <td>15315</td>\n",
       "      <td>132.0</td>\n",
       "      <td>0.0</td>\n",
       "      <td>253.333</td>\n",
       "      <td>0</td>\n",
       "      <td>0</td>\n",
       "      <td>0</td>\n",
       "      <td>0</td>\n",
       "      <td>0</td>\n",
       "    </tr>\n",
       "    <tr>\n",
       "      <th>4</th>\n",
       "      <td>55</td>\n",
       "      <td>73.79</td>\n",
       "      <td>1</td>\n",
       "      <td>34.34</td>\n",
       "      <td>0.4</td>\n",
       "      <td>NaN</td>\n",
       "      <td>NaN</td>\n",
       "      <td>NaN</td>\n",
       "      <td>NaN</td>\n",
       "      <td>NaN</td>\n",
       "      <td>...</td>\n",
       "      <td>4454</td>\n",
       "      <td>4507</td>\n",
       "      <td>NaN</td>\n",
       "      <td>0.0</td>\n",
       "      <td>0.000</td>\n",
       "      <td>0</td>\n",
       "      <td>0</td>\n",
       "      <td>0</td>\n",
       "      <td>0</td>\n",
       "      <td>0</td>\n",
       "    </tr>\n",
       "  </tbody>\n",
       "</table>\n",
       "<p>5 rows × 70 columns</p>\n",
       "</div>"
      ],
      "text/plain": [
       "   pgc    Dist  Nd     DM  eDM    C    T    L    M    S  ...    Vcgp   Vmgp  \\\n",
       "0    4   50.58   1  33.52  0.4  NaN  NaN  NaN  NaN  NaN  ...    4005   4048   \n",
       "1   27  150.66   1  35.89  0.5  NaN  NaN  NaN  NaN  NaN  ...   10959  11275   \n",
       "2   40  116.95   1  35.34  0.5  NaN  NaN  NaN  NaN  NaN  ...    6919   7045   \n",
       "3   51  240.99   1  36.91  0.5  NaN  NaN  NaN  NaN  NaN  ...   14743  15315   \n",
       "4   55   73.79   1  34.34  0.4  NaN  NaN  NaN  NaN  NaN  ...    4454   4507   \n",
       "\n",
       "    Vrms bwMass12  L_Mass12  LDC HDC  2M++  MKgp  Icnt  \n",
       "0   25.0      0.0     9.747    0   0     0     0     0  \n",
       "1    NaN      0.0     0.000    0   0     0     0     0  \n",
       "2    0.0      0.0     3.960    0   0     0     0     0  \n",
       "3  132.0      0.0   253.333    0   0     0     0     0  \n",
       "4    NaN      0.0     0.000    0   0     0     0     0  \n",
       "\n",
       "[5 rows x 70 columns]"
      ]
     },
     "execution_count": 57,
     "metadata": {},
     "output_type": "execute_result"
    }
   ],
   "source": [
    "dedd.head()"
   ]
  },
  {
   "cell_type": "code",
   "execution_count": 88,
   "metadata": {
    "collapsed": false
   },
   "outputs": [],
   "source": [
    "clist=list(dedd.columns[5:14])\n",
    "clist.remove('H')\n",
    "clist.remove('I')"
   ]
  },
  {
   "cell_type": "code",
   "execution_count": 93,
   "metadata": {
    "collapsed": false
   },
   "outputs": [],
   "source": [
    "boo=(dedd.H=='H')\n",
    "\n",
    "for c in clist:\n",
    "    boo&=dedd[c]!=c"
   ]
  },
  {
   "cell_type": "code",
   "execution_count": 95,
   "metadata": {
    "collapsed": false
   },
   "outputs": [
    {
     "data": {
      "text/plain": [
       "array([1, 2])"
      ]
     },
     "execution_count": 95,
     "metadata": {},
     "output_type": "execute_result"
    }
   ],
   "source": [
    "np.unique(dedd.Nd[boo])"
   ]
  },
  {
   "cell_type": "code",
   "execution_count": 96,
   "metadata": {
    "collapsed": false
   },
   "outputs": [
    {
     "data": {
      "text/plain": [
       "Index(['pgc', 'Dist', 'Nd', 'DM', 'eDM', 'C', 'T', 'L', 'M', 'S', 'N', 'H',\n",
       "       'I', 'F', 'DM2', 'eD2', 'SNIa', 'Ns', 'DMsn', 'DMsp', 'eDsp', 'DM6d',\n",
       "       'eD6d', 'Mt', 'RAJ', 'DeJ', 'Glon', 'Glat', 'SGL', 'SGB', 'Ty', 'Asf',\n",
       "       'Btot', 'Ks', 'Vhel', 'Vgsr', 'Vls', 'Vcmb', 'Vmod', 'Name', 'Nest',\n",
       "       'Ndgp', 'DMgp', 'eDgp', 'Dgp', 'Abell', 'GroupName', 'NV', 'PGC1',\n",
       "       'Glongp', 'Glatgp', 'SGLgp', 'SGBgp', 'lgLgp', 'cf', 'sigp', 'R2t',\n",
       "       'Vhgp', 'Vggp', 'Vlsgp', 'Vcgp', 'Vmgp', 'Vrms', 'bwMass12', 'L_Mass12',\n",
       "       'LDC', 'HDC', '2M++', 'MKgp', 'Icnt'],\n",
       "      dtype='object')"
      ]
     },
     "execution_count": 96,
     "metadata": {},
     "output_type": "execute_result"
    }
   ],
   "source": [
    "dedd.columns"
   ]
  },
  {
   "cell_type": "code",
   "execution_count": 101,
   "metadata": {
    "collapsed": false
   },
   "outputs": [
    {
     "ename": "SyntaxError",
     "evalue": "invalid syntax (<ipython-input-101-125bd88c0d95>, line 1)",
     "output_type": "error",
     "traceback": [
      "\u001b[0;36m  File \u001b[0;32m\"<ipython-input-101-125bd88c0d95>\"\u001b[0;36m, line \u001b[0;32m1\u001b[0m\n\u001b[0;31m    dedd[cols=['pgc', 'Dist']]\u001b[0m\n\u001b[0m             ^\u001b[0m\n\u001b[0;31mSyntaxError\u001b[0m\u001b[0;31m:\u001b[0m invalid syntax\n"
     ]
    }
   ],
   "source": [
    "dedd[cols=['pgc', 'Dist']]"
   ]
  },
  {
   "cell_type": "code",
   "execution_count": null,
   "metadata": {
    "collapsed": true
   },
   "outputs": [],
   "source": []
  }
 ],
 "metadata": {
  "kernelspec": {
   "display_name": "Python 3",
   "language": "python",
   "name": "python3"
  },
  "language_info": {
   "codemirror_mode": {
    "name": "ipython",
    "version": 3
   },
   "file_extension": ".py",
   "mimetype": "text/x-python",
   "name": "python",
   "nbconvert_exporter": "python",
   "pygments_lexer": "ipython3",
   "version": "3.6.1"
  }
 },
 "nbformat": 4,
 "nbformat_minor": 0
}
