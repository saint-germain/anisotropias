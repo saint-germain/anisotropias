{
 "cells": [
  {
   "cell_type": "markdown",
   "metadata": {},
   "source": [
    "# Código en Python - Anisotropías en H_0 para datos de NED"
   ]
  },
  {
   "cell_type": "markdown",
   "metadata": {},
   "source": [
    "## Análisis de chi-cuadrado según el paper\n",
    "\n",
    "En esta parte hallaremos las coordenadas del vector dipolo que minimiza el chi-cuadrado, para hallar la variación máxima entre valores de $\\Delta H_{0i}$.\n",
    "\n",
    "$$\\chi^2=\\sum_i\\left(\\frac{\\left(\\frac{V_i}{D_i}-H_0\\right)-(n_{xi}D_x+n_{yi}D_y+n_{zi}D_z)}{\\sigma_{i,sw}}\\right)^2$$\n",
    "\n",
    "Aquí $\\sigma_{i,sw}$ es el peso estadístico."
   ]
  },
  {
   "cell_type": "code",
   "execution_count": 1,
   "metadata": {
    "collapsed": true
   },
   "outputs": [],
   "source": [
    "import numpy as np\n",
    "import pandas as pd\n",
    "from scipy.optimize import minimize\n",
    "from scipy import optimize"
   ]
  },
  {
   "cell_type": "markdown",
   "metadata": {},
   "source": [
    "Definimos la función chi-cuadrado. La variable b0 es el $H_0$ de referencia."
   ]
  },
  {
   "cell_type": "code",
   "execution_count": 2,
   "metadata": {
    "collapsed": true
   },
   "outputs": [],
   "source": [
    "def chi2(x):\n",
    "    dp2=nx*x[0]+ny*x[1]+nz*x[2]\n",
    "    return np.sum(((h0-b0-dp2)/eps)**2.) "
   ]
  },
  {
   "cell_type": "markdown",
   "metadata": {
    "collapsed": true
   },
   "source": [
    "Definimos el gradiente del chi-cuadrado, que es requerido por uno de los métodos de minimización."
   ]
  },
  {
   "cell_type": "code",
   "execution_count": 3,
   "metadata": {
    "collapsed": true
   },
   "outputs": [],
   "source": [
    "def chi2grad(x):\n",
    "    dp2=nx*x[0]+ny*x[1]+nz*x[2]\n",
    "    dpchi=(h0-b0-dp2)/eps\n",
    "    return np.array((-2.*np.sum(dpchi*nx/eps),-2.*np.sum(dpchi*ny/eps),-2.*np.sum(dpchi*nz/eps)))"
   ]
  },
  {
   "cell_type": "markdown",
   "metadata": {},
   "source": [
    "Definimos algunos parámetros"
   ]
  },
  {
   "cell_type": "code",
   "execution_count": 4,
   "metadata": {
    "collapsed": true
   },
   "outputs": [],
   "source": [
    "r2d = 57.295779513082321\n",
    "c_kmsec = 299792.458"
   ]
  },
  {
   "cell_type": "markdown",
   "metadata": {},
   "source": [
    "Alistamos el archivo de salida, y con pandas abrimos los datos originales de NED (del query4.txt con $d>35$ Mpc).\n"
   ]
  },
  {
   "cell_type": "code",
   "execution_count": 5,
   "metadata": {
    "collapsed": false
   },
   "outputs": [],
   "source": [
    "df = pd.read_csv('nedq4.csv', index_col=0)"
   ]
  },
  {
   "cell_type": "markdown",
   "metadata": {},
   "source": [
    "Hacemos el cambio de marco de referencia de Heliocéntrico a CMB."
   ]
  },
  {
   "cell_type": "code",
   "execution_count": 6,
   "metadata": {
    "collapsed": false
   },
   "outputs": [],
   "source": [
    "Vcbr = 371.0\n",
    "ell_cbr = 264.14/r2d\n",
    "bb_cbr  = 48.26/r2d\n",
    "ell = df.Glon/r2d\n",
    "bb  = df.Glat/r2d\n",
    "Vnew=c_kmsec*df.zz+Vcbr*(np.sin(bb)*np.sin(bb_cbr) + np.cos(bb)*np.cos(bb_cbr)*np.cos(ell - ell_cbr))"
   ]
  },
  {
   "cell_type": "markdown",
   "metadata": {
    "collapsed": true
   },
   "source": [
    "Cambio de coordenadas galácticas a $\\theta,\\phi$. Definición del vector unitario de cada galaxia, de $H_{0i}$ y de $H_0=70$ km/(s Mpc)"
   ]
  },
  {
   "cell_type": "code",
   "execution_count": 8,
   "metadata": {
    "collapsed": false
   },
   "outputs": [],
   "source": [
    "theta=(90.-df.Glat)/r2d\n",
    "phi=df.Glon/r2d\n",
    "nx=np.sin(theta)*np.cos(phi)\n",
    "ny=np.sin(theta)*np.sin(phi)\n",
    "nz=np.cos(theta)\n",
    "h0=Vnew/df.dis\n",
    "b0=70."
   ]
  },
  {
   "cell_type": "markdown",
   "metadata": {},
   "source": [
    "El peso estadístico del ajuste inicial lo definimos según la propagación del error para $!H_0i=z_i/D_i$. Esto es válido sólo si la distribución de $!H_0$ es gaussiana. Hay que tener en cuenta que a esta propagación del error le falta la incertidumbre en el $H_0$ de referencia.\n",
    "\n",
    "$$\\sigma_{i,sw}=\\sqrt{\\left(\\frac{\\sigma_{V,i}}{D_i}\\right)^2+\\left(\\frac{\\sigma_{D,i}\\cdot V_i}{D_i^2}\\right)^2}$$\n",
    "\n",
    "Según el análisis original, el error en $V$ y $D$ es del 2% y del 6% respectivamente."
   ]
  },
  {
   "cell_type": "code",
   "execution_count": 9,
   "metadata": {
    "collapsed": false
   },
   "outputs": [],
   "source": [
    "sigx,sigy=(0.06*df.dis),(0.02*Vnew)\n",
    "eps=np.sqrt((sigy/df.dis)**2+(sigx*Vnew/(df.dis**2))**2)"
   ]
  },
  {
   "cell_type": "markdown",
   "metadata": {},
   "source": [
    "Ahora minimizamos el chi-cuadrado con un método Cuasi-Newton que requiere el gradiente de la función."
   ]
  },
  {
   "cell_type": "code",
   "execution_count": 10,
   "metadata": {
    "collapsed": false
   },
   "outputs": [
    {
     "data": {
      "text/plain": [
       "(array([ 6.18007611, -5.66958151, -2.213605  ]),\n",
       " 1906.2920117201679,\n",
       " {'funcalls': 7,\n",
       "  'grad': array([  6.18525675e-10,  -1.89940508e-09,  -3.53196938e-09]),\n",
       "  'nit': 6,\n",
       "  'task': 'CONVERGENCE: NORM_OF_PROJECTED_GRADIENT_<=_PGTOL',\n",
       "  'warnflag': 0})"
      ]
     },
     "execution_count": 10,
     "metadata": {},
     "output_type": "execute_result"
    }
   ],
   "source": [
    "x0 = np.array([1., 1., 1.])\n",
    "res=optimize.fmin_l_bfgs_b(chi2, x0,chi2grad)\n",
    "res"
   ]
  },
  {
   "cell_type": "markdown",
   "metadata": {},
   "source": [
    "Obtenemos el chi-cuadrado de esta minimización (el obtenido en el paper es 263) y la magnitud del vector dipolo."
   ]
  },
  {
   "cell_type": "code",
   "execution_count": 59,
   "metadata": {
    "collapsed": false
   },
   "outputs": [
    {
     "data": {
      "text/plain": [
       "(1906.2920117202671, 8.6739560955359991)"
      ]
     },
     "execution_count": 59,
     "metadata": {},
     "output_type": "execute_result"
    }
   ],
   "source": [
    "res[1],np.linalg.norm(res[0])"
   ]
  },
  {
   "cell_type": "markdown",
   "metadata": {},
   "source": [
    "La magnitud del vector dipolo es el doble que el valor obtenido en el paper."
   ]
  },
  {
   "cell_type": "code",
   "execution_count": 61,
   "metadata": {
    "collapsed": false
   },
   "outputs": [
    {
     "data": {
      "text/plain": [
       "4.313930922024598"
      ]
     },
     "execution_count": 61,
     "metadata": {},
     "output_type": "execute_result"
    }
   ],
   "source": [
    "dhpaper=np.linalg.norm(np.array([3.3, -2.4, -1.4]))\n",
    "dhpaper"
   ]
  },
  {
   "cell_type": "markdown",
   "metadata": {},
   "source": [
    "Para el mismo método, le damos la opción que no use nuestro gradiente sino que lo aproxime. Obtenemos el chi-cuadrado y la magnitud del vector dipolo."
   ]
  },
  {
   "cell_type": "code",
   "execution_count": 58,
   "metadata": {
    "collapsed": false
   },
   "outputs": [
    {
     "data": {
      "text/plain": [
       "(1906.2920117202671, 8.6739560955359991)"
      ]
     },
     "execution_count": 58,
     "metadata": {},
     "output_type": "execute_result"
    }
   ],
   "source": [
    "x0 = np.array([1., 1., 1.])\n",
    "res=optimize.fmin_l_bfgs_b(chi2, x0,approx_grad=1)\n",
    "res[1],np.linalg.norm(res[0])"
   ]
  },
  {
   "cell_type": "markdown",
   "metadata": {},
   "source": [
    "Probamos otro método Cuasi-Newton que no requiere el gradiente. Obtenemos el chi-cuadrado y la magnitud del vector dipolo."
   ]
  },
  {
   "cell_type": "code",
   "execution_count": 57,
   "metadata": {
    "collapsed": false
   },
   "outputs": [
    {
     "name": "stdout",
     "output_type": "stream",
     "text": [
      "Optimization terminated successfully.\n",
      "         Current function value: 1906.292012\n",
      "         Iterations: 4\n",
      "         Function evaluations: 45\n",
      "         Gradient evaluations: 9\n"
     ]
    },
    {
     "data": {
      "text/plain": [
       "(1906.2920117201709, 8.6739577847853475)"
      ]
     },
     "execution_count": 57,
     "metadata": {},
     "output_type": "execute_result"
    }
   ],
   "source": [
    "x0 = np.array([1., 1., 1.])\n",
    "res=optimize.fmin_bfgs(chi2, x0)\n",
    "chi2(res),np.linalg.norm(res)"
   ]
  },
  {
   "cell_type": "markdown",
   "metadata": {},
   "source": [
    "Finalmente probamos el método Simplex (Nelder Mead) que aparece en [el análisis anterior](anisotropiaschi2.ipynb). Obtenemos el chi-cuadrado y la magnitud del vector dipolo."
   ]
  },
  {
   "cell_type": "code",
   "execution_count": 56,
   "metadata": {
    "collapsed": false
   },
   "outputs": [
    {
     "name": "stdout",
     "output_type": "stream",
     "text": [
      "Optimization terminated successfully.\n",
      "         Current function value: 1906.292012\n",
      "         Iterations: 169\n",
      "         Function evaluations: 334\n"
     ]
    },
    {
     "data": {
      "text/plain": [
       "(1906.2920117201679, 8.6739577137733512)"
      ]
     },
     "execution_count": 56,
     "metadata": {},
     "output_type": "execute_result"
    }
   ],
   "source": [
    "x0 = np.array([1., 1., 1.])\n",
    "res = minimize(chi2, x0, method='nelder-mead',options={'xtol': 1e-10, 'disp': True})\n",
    "x0=res.x\n",
    "chi2(x0),np.linalg.norm(x0)"
   ]
  },
  {
   "cell_type": "markdown",
   "metadata": {},
   "source": [
    "Graficamos la ubicación angular del vector dipolo (paper=azul), (este análisis=negro)"
   ]
  },
  {
   "cell_type": "code",
   "execution_count": 55,
   "metadata": {
    "collapsed": false
   },
   "outputs": [
    {
     "name": "stdout",
     "output_type": "stream",
     "text": [
      "Using matplotlib backend: MacOSX\n",
      "Populating the interactive namespace from numpy and matplotlib\n"
     ]
    },
    {
     "data": {
      "image/png": "[encoded data removed]",
      "text/plain": [
       "<matplotlib.figure.Figure at 0x1043a00d0>"
      ]
     },
     "metadata": {},
     "output_type": "display_data"
    }
   ],
   "source": [
    "DSx=3.3\n",
    "DSy=-2.4\n",
    "DSz=-1.4\n",
    "angledelta=np.arccos((x0[0]*DSx+x0[1]*DSy+x0[2]*DSz)/(np.linalg.norm(x0)*dhpaper))*r2d\n",
    "%pylab\n",
    "%matplotlib inline\n",
    "pylab.rcParams['figure.figsize'] = 12, 8\n",
    "thangle=np.arccos(x0[2]/np.linalg.norm(x0))*r2d\n",
    "phangle=np.arctan2(x0[1],x0[0])*r2d\n",
    "thpaper=np.arccos(DSz/dhpaper)*r2d\n",
    "phpaper=np.arctan2(DSy,DSx)*r2d\n",
    "plt.scatter(theta*r2d,phi*r2d-180,color='red') # Ver la distribución angular de las galaxias\n",
    "plt.scatter(thangle,phangle,color='black',s=200,marker='*') # Ver el promedio de los ángulos\n",
    "plt.scatter(thpaper,phpaper,color='blue',s=200,marker='*')\n",
    "plt.xlabel(r\"$\\theta$\")\n",
    "plt.ylabel(r\"$\\phi$\")\n",
    "plt.title(\"Dipole angle delta=%d.1 deg\" % (angledelta))\n",
    "xlim([0, 180])\n",
    "ylim([-180, 180])\n",
    "plt.show()"
   ]
  },
  {
   "cell_type": "markdown",
   "metadata": {},
   "source": [
    "Oscar me sugirió que hiciera el mismo ajuste pero sin hacer el cambio de marco de referencia al CMB.  "
   ]
  },
  {
   "cell_type": "code",
   "execution_count": 63,
   "metadata": {
    "collapsed": false
   },
   "outputs": [
    {
     "name": "stdout",
     "output_type": "stream",
     "text": [
      "Optimization terminated successfully.\n",
      "         Current function value: 1990.002842\n",
      "         Iterations: 180\n",
      "         Function evaluations: 357\n"
     ]
    }
   ],
   "source": [
    "Vnew=c_kmsec*df.zz\n",
    "sigx,sigy=(0.06*df.dis),(0.02*Vnew)\n",
    "eps=np.sqrt((sigy/df.dis)**2+(sigx*Vnew/(df.dis**2))**2)\n",
    "x0 = np.array([1., 1., 1.])\n",
    "res = minimize(chi2, x0, method='nelder-mead',options={'xtol': 1e-10, 'disp': True})\n",
    "x0=res.x"
   ]
  },
  {
   "cell_type": "markdown",
   "metadata": {},
   "source": [
    "Graficamos la ubicación angular del vector dipolo (paper=azul), (este análisis sin V_CMB=negro)"
   ]
  },
  {
   "cell_type": "code",
   "execution_count": 64,
   "metadata": {
    "collapsed": false
   },
   "outputs": [
    {
     "data": {
      "image/png": "[encoded data removed]",
      "text/plain": [
       "<matplotlib.figure.Figure at 0x108f92e50>"
      ]
     },
     "metadata": {},
     "output_type": "display_data"
    }
   ],
   "source": [
    "angledelta=np.arccos((x0[0]*DSx+x0[1]*DSy+x0[2]*DSz)/(np.linalg.norm(x0)*dhpaper))*r2d\n",
    "thangle=np.arccos(x0[2]/np.linalg.norm(x0))*r2d\n",
    "phangle=np.arctan2(x0[1],x0[0])*r2d\n",
    "plt.scatter(theta*r2d,phi*r2d-180,color='red') # Ver la distribución angular de las galaxias\n",
    "plt.scatter(thangle,phangle,color='black',s=200,marker='*') # Ver el promedio de los ángulos\n",
    "plt.scatter(thpaper,phpaper,color='blue',s=200,marker='*')\n",
    "plt.xlabel(r\"$\\theta$\")\n",
    "plt.ylabel(r\"$\\phi$\")\n",
    "plt.title(\"Dipole angle delta=%d.1 deg\" % (angledelta))\n",
    "xlim([0, 180])\n",
    "ylim([-180, 180])\n",
    "plt.show()"
   ]
  },
  {
   "cell_type": "markdown",
   "metadata": {},
   "source": [
    "¡Francamente no sé qué pensar!"
   ]
  }
 ],
 "metadata": {
  "kernelspec": {
   "display_name": "Python 2",
   "language": "python",
   "name": "python2"
  },
  "language_info": {
   "codemirror_mode": {
    "name": "ipython",
    "version": 2
   },
   "file_extension": ".py",
   "mimetype": "text/x-python",
   "name": "python",
   "nbconvert_exporter": "python",
   "pygments_lexer": "ipython2",
   "version": "2.7.6"
  }
 },
 "nbformat": 4,
 "nbformat_minor": 0
}
