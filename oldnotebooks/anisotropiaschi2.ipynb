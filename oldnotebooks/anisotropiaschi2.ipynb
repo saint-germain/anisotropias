{
 "cells": [
  {
   "cell_type": "markdown",
   "metadata": {},
   "source": [
    "# Código en Python - Anisotropías en H_0 para datos de NED"
   ]
  },
  {
   "cell_type": "markdown",
   "metadata": {},
   "source": [
    "## Análisis de chi-cuadrado/Monte Carlo\n",
    "\n",
    "En esta parte hallaremos las coordenadas del vector dipolo que minimiza el chi-cuadrado, para hallar la variación máxima entre valores de $!H_{0i}$. $!H_0$ es el valor medio encontrado con el [ajuste lineal inicial](anisotropias.ipynb).\n",
    "\n",
    "\n",
    "$$\\chi^2=\\sum_i\\left(\\frac{\\left(\\frac{z_i}{D_i}-!H_0\\right)-(n_{xi}D_x+n_{yi}D_y+n_{zi}D_z)}{\\sigma_{i,sw}}\\right)^2$$\n",
    "\n",
    "Aquí $\\sigma_{i,sw}$ es el peso estadístico."
   ]
  },
  {
   "cell_type": "code",
   "execution_count": 1,
   "metadata": {
    "collapsed": true
   },
   "outputs": [],
   "source": [
    "import numpy as np\n",
    "import pandas as pd\n",
    "from scipy.optimize import minimize"
   ]
  },
  {
   "cell_type": "markdown",
   "metadata": {},
   "source": [
    "Definimos la función chi-cuadrado."
   ]
  },
  {
   "cell_type": "code",
   "execution_count": 29,
   "metadata": {
    "collapsed": true
   },
   "outputs": [],
   "source": [
    "def chi2(x):\n",
    "    dp2=nx*x[0]+ny*x[1]+nz*x[2]\n",
    "    return np.sum(((h0-b0-dp2)/eps)**2.) "
   ]
  },
  {
   "cell_type": "code",
   "execution_count": 30,
   "metadata": {
    "collapsed": true
   },
   "outputs": [],
   "source": [
    "r2d = 57.295779513082321\n",
    "c_kmsec = 299792.458\n",
    "niter=10000 # Iteraciones"
   ]
  },
  {
   "cell_type": "markdown",
   "metadata": {},
   "source": [
    "Alistamos el archivo de salida, y con pandas abrimos los datos originales de NED y los del ajuste lineal [Monte Carlo](anisotropias).\n"
   ]
  },
  {
   "cell_type": "code",
   "execution_count": 31,
   "metadata": {
    "collapsed": true
   },
   "outputs": [],
   "source": [
    "fout = open(\"optimization.txt\",\"w\")\n",
    "fout.write(\"%s,%s,%s,%s\\n\" % ('Col','Dx','Dy','Dz'))\n",
    "df = pd.read_csv('nedpaper.csv', index_col=0)\n",
    "dfmc=pd.read_csv('fitresults.txt', index_col=0)"
   ]
  },
  {
   "cell_type": "markdown",
   "metadata": {},
   "source": [
    "Cambio de coordenadas galácticas a $\\theta,\\phi$."
   ]
  },
  {
   "cell_type": "code",
   "execution_count": 32,
   "metadata": {
    "collapsed": true
   },
   "outputs": [],
   "source": [
    "theta=(90.-df.Glat)/r2d\n",
    "phi=df.Glon/r2d"
   ]
  },
  {
   "cell_type": "markdown",
   "metadata": {},
   "source": [
    "Errores para Monte Carlo."
   ]
  },
  {
   "cell_type": "code",
   "execution_count": 33,
   "metadata": {
    "collapsed": true
   },
   "outputs": [],
   "source": [
    "sigx=df.dis_d\n",
    "sigy=df.zz_d"
   ]
  },
  {
   "cell_type": "markdown",
   "metadata": {},
   "source": [
    "Construimos el vector unitario de cada galaxia"
   ]
  },
  {
   "cell_type": "code",
   "execution_count": 34,
   "metadata": {
    "collapsed": true
   },
   "outputs": [],
   "source": [
    "nx=np.sin(theta)*np.cos(phi)\n",
    "ny=np.sin(theta)*np.sin(phi)\n",
    "nz=np.cos(theta)"
   ]
  },
  {
   "cell_type": "markdown",
   "metadata": {},
   "source": [
    "Leemos los parámetros del ajuste lineal Monte Carlo."
   ]
  },
  {
   "cell_type": "code",
   "execution_count": 35,
   "metadata": {
    "collapsed": true
   },
   "outputs": [],
   "source": [
    "b0=np.mean(dfmc.BMC)\n",
    "a0=np.mean(dfmc.AMC)"
   ]
  },
  {
   "cell_type": "markdown",
   "metadata": {},
   "source": [
    "El peso estadístico del ajuste inicial lo definimos según la propagación del error para $!H_0i=z_i/D_i$. Esto es válido sólo si la distribución de $!H_0$ es gaussiana. \n",
    "\n",
    "$$\\sigma_{i,sw}=\\sqrt{\\left(\\frac{\\sigma_{z,i}}{D_i}\\right)^2+\\left(\\frac{\\sigma_{D,i}\\cdot z_i}{D_i^2}\\right)^2}$$"
   ]
  },
  {
   "cell_type": "code",
   "execution_count": 36,
   "metadata": {
    "collapsed": true
   },
   "outputs": [],
   "source": [
    "eps=np.sqrt((sigy/df.dis)**2+(sigx*df.zz/(df.dis**2))**2)\n",
    "znew=df.zz # Aquí iría una posible corrección por un bias, p. ej. el punto de corte en el ajuste\n",
    "h0=znew/df.dis"
   ]
  },
  {
   "cell_type": "markdown",
   "metadata": {},
   "source": [
    "Damos una primera estimación para las coordenadas del dipolo (x0) y hacemos una primera minimización del chi-cuadrado con el método Nelder-Mead, que no es particularmente eficiente pero es robusto. El resultado de la primera minimización (res.x) lo usamos como estimación para los siguientes ajustes."
   ]
  },
  {
   "cell_type": "code",
   "execution_count": 37,
   "metadata": {
    "collapsed": false
   },
   "outputs": [
    {
     "name": "stdout",
     "output_type": "stream",
     "text": [
      "Optimization terminated successfully.\n",
      "         Current function value: 631.805904\n",
      "         Iterations: 134\n",
      "         Function evaluations: 245\n"
     ]
    }
   ],
   "source": [
    "x0 = np.array([1., 1., 1.])\n",
    "res = minimize(chi2, x0, method='nelder-mead',options={'xtol': 1e-8, 'disp': True})\n",
    "# Help subsequent optimization calls with initial guess (before 2nd Monte Carlo)\n",
    "x0=res.x"
   ]
  },
  {
   "cell_type": "markdown",
   "metadata": {},
   "source": [
    "La minimización del chi-cuadrado con Monte Carlo se basa en aleatorizar el valor de $!H_0$ en base a los errores en z,D. Las opciones para la elección del peso estadístico están comentadas. Este procedimiento puede tomar de 30-90 minutos."
   ]
  },
  {
   "cell_type": "code",
   "execution_count": null,
   "metadata": {
    "collapsed": false
   },
   "outputs": [],
   "source": [
    "for k in range (1,niter):\n",
    "    zzran = np.random.normal(df.zz,df.zz_d)\n",
    "    disran=np.random.normal(df.dis,df.dis_d)\n",
    "    x=disran\n",
    "    y=zzran\n",
    "    h0=y/x\n",
    "#    Opciones para el peso estadístico    \n",
    "#    eps=np.sqrt((sigy/x)**2+(sigx*y/(x**2))**2) # Usando valores Monte Carlo de z,D\n",
    "#    eps=1. # Sin peso estadístico\n",
    "#    sigx,sigy=(0.06*df.dis),(0.02*df.zz) # Ajustando los errores según el paper. Esta línea se usa junto con la siguiente.\n",
    "    eps=np.sqrt((sigy/df.dis)**2+(sigx*df.zz/(df.dis**2))**2) # Usando directamente los valores de z,D\n",
    "    res = minimize(chi2, x0, method='nelder-mead',options={'xtol': 1e-8})\n",
    "    fout.write(\"%d, %s, %s, %s\\n\" % (k,res.x[0],res.x[1],res.x[2]))\n",
    "    print k,res.fun # Se deja esta opción para que muestre el progreso del programa.\n",
    "fout.close()"
   ]
  },
  {
   "cell_type": "markdown",
   "metadata": {},
   "source": [
    "Ahora vamos a visualizar los resultados con ayuda de pylab."
   ]
  },
  {
   "cell_type": "code",
   "execution_count": 2,
   "metadata": {
    "collapsed": false
   },
   "outputs": [
    {
     "name": "stdout",
     "output_type": "stream",
     "text": [
      "Using matplotlib backend: MacOSX\n",
      "Populating the interactive namespace from numpy and matplotlib\n"
     ]
    }
   ],
   "source": [
    "%pylab\n",
    "%matplotlib inline\n",
    "pylab.rcParams['figure.figsize'] = 12, 8"
   ]
  },
  {
   "cell_type": "markdown",
   "metadata": {},
   "source": [
    "Abrimos el archivo con los resultados de la minimización Monte Carlo, y obtenemos la dirección del dipolo de cada ajuste. Este ángulo lo podemos comparar con el ángulo del dipolo obtenido en el paper, cuyas coordenadas son DSx, DSy, DSz. Una medida de la dispersión que produce el método es $\\sigma_q$, que es la desviación estándar angular por cuadratura."
   ]
  },
  {
   "cell_type": "code",
   "execution_count": 5,
   "metadata": {
    "collapsed": false
   },
   "outputs": [],
   "source": [
    "dfopt=pd.read_csv('optimization_mc_errors_bias_Dh_35Mpc.txt', index_col=0)\n",
    "dhip=np.sqrt(dfopt.Dx**2+dfopt.Dy**2+dfopt.Dz**2)\n",
    "thangle=np.arccos(dfopt.Dz/dhip)*r2d\n",
    "phangle=np.arctan2(dfopt.Dy,dfopt.Dx)*r2d\n",
    "sigmaq=np.sqrt(np.std(thangle)**2+np.std(phangle)**2)\n",
    "DSx=3.3\n",
    "DSy=-2.4\n",
    "DSz=-1.4\n",
    "dhpaper=np.sqrt(DSx**2+DSy**2+DSz**2)\n",
    "thpaper=np.arccos(DSz/dhpaper)*r2d\n",
    "phpaper=np.arctan2(DSy,DSx)*r2d"
   ]
  },
  {
   "cell_type": "markdown",
   "metadata": {},
   "source": [
    "Graficamos el histograma 2D para la dirección del dipolo de cada ajuste."
   ]
  },
  {
   "cell_type": "code",
   "execution_count": 39,
   "metadata": {
    "collapsed": false
   },
   "outputs": [
    {
     "data": {
      "image/png": "[encoded data removed]",
      "text/plain": [
       "<matplotlib.figure.Figure at 0x10a02fd10>"
      ]
     },
     "metadata": {},
     "output_type": "display_data"
    }
   ],
   "source": [
    "range=np.array([(0,180),(-180,180)])\n",
    "plt.hist2d(thangle,phangle,bins=100,range=range)\n",
    "colorbar()\n",
    "plt.scatter(theta*r2d,phi*r2d-180,color='red') # Ver la distribución angular de las galaxias\n",
    "plt.scatter(mean(thangle),mean(phangle),color='black',s=200,marker='*') # Ver el promedio de los ángulos\n",
    "plt.scatter(thpaper,phpaper,color='white',s=200,marker='*')\n",
    "plt.xlabel(r\"$\\theta$\")\n",
    "plt.ylabel(r\"$\\phi$\")\n",
    "plt.title(\"2D Histogram w/ MC errors, $\\sigma_q$=%d.1 deg\" % (sigmaq))\n",
    "plt.show()"
   ]
  }
 ],
 "metadata": {
  "kernelspec": {
   "display_name": "Python 2",
   "language": "python",
   "name": "python2"
  },
  "language_info": {
   "codemirror_mode": {
    "name": "ipython",
    "version": 2
   },
   "file_extension": ".py",
   "mimetype": "text/x-python",
   "name": "python",
   "nbconvert_exporter": "python",
   "pygments_lexer": "ipython2",
   "version": "2.7.9"
  }
 },
 "nbformat": 4,
 "nbformat_minor": 0
}
