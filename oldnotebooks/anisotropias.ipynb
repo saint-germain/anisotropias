{
 "cells": [
  {
   "cell_type": "markdown",
   "metadata": {},
   "source": [
    "# Código en Python - Anisotropías en H_0 para datos de NED"
   ]
  },
  {
   "cell_type": "markdown",
   "metadata": {},
   "source": [
    "## Ajuste Monte Carlo para ajustar z vs. d a una función lineal\n",
    "\n",
    "Este ajuste sólo tiene que ser hecho una vez. Si se quiere saltar este paso e ir directamente a la búsqueda de las coordenadas del vector dipolo, [clic aquí](anisotropiaschi2.ipynb).\n",
    "\n",
    "La primera parte del código es hacer un ajuste lineal de z vs. D con un método Monte Carlo. Esto se hace para tener en cuenta los errores en z y D que aparecen en la base de datos.\n",
    "\n",
    "Lo primero es importar los paquetes numpy (operaciones numéricas básicas) y pandas (tratamiento de bases de datos)."
   ]
  },
  {
   "cell_type": "code",
   "execution_count": 25,
   "metadata": {
    "collapsed": true
   },
   "outputs": [],
   "source": [
    "import numpy as np\n",
    "import pandas as pd\n",
    "niter=100000 # Número de iteraciones\n",
    "fout = open(\"fitresults.txt\",\"w\") # Archivo de salida"
   ]
  },
  {
   "cell_type": "markdown",
   "metadata": {},
   "source": [
    "A continuación usamos pandas para leer la base de datos, que quedará almacenada en 'df'. Con los nombres de las columnas definimos las variables que vamos a usar. Los datos de 'nedpaper.csv' salen de 'query4.txt' con corte a 35 Mpc y tomando únicamente datos con errores (y que no sean muy grandes)."
   ]
  },
  {
   "cell_type": "code",
   "execution_count": 3,
   "metadata": {
    "collapsed": true
   },
   "outputs": [],
   "source": [
    "df = pd.read_csv('nedpaper.csv', index_col=0)\n",
    "x=df.dis\n",
    "sigx=df.dis_d\n",
    "y=df.zz\n",
    "sigy=df.zz_d"
   ]
  },
  {
   "cell_type": "markdown",
   "metadata": {},
   "source": [
    "Ahora hacemos el ajuste por mínimos cuadrados (sin peso estadístico) para obtener un valor preliminar para !H_0=z/d=b. "
   ]
  },
  {
   "cell_type": "code",
   "execution_count": 5,
   "metadata": {
    "collapsed": false
   },
   "outputs": [],
   "source": [
    "num=len(x) # contamos el número de filas\n",
    "sy=y.sum(axis=0)\n",
    "sx=x.sum(axis=0)\n",
    "xx=x*x\n",
    "sxx=xx.sum(axis=0)\n",
    "xy=x*y\n",
    "sxy=xy.sum(axis=0)\n",
    "delta=delta=num*sxx-(sx**2)\n",
    "# a=(sy*sxx-sx*sxy)/delta\n",
    "b=(num*sxy-sx*sy)/delta"
   ]
  },
  {
   "cell_type": "markdown",
   "metadata": {},
   "source": [
    "Hacemos un nuevo ajuste por mínimos cuadrados usando como peso estadístico el error en cuadratura, para obtener un mejor valor para !H_0"
   ]
  },
  {
   "cell_type": "code",
   "execution_count": 8,
   "metadata": {
    "collapsed": true
   },
   "outputs": [],
   "source": [
    "eps=np.sqrt(sigy**2+(b*sigx)**2)\n",
    "w=1/(eps**2)\n",
    "wy=y*w\n",
    "wx=x*w\n",
    "wx2=x*wx\n",
    "wxy=wx*y\n",
    "sw=w.sum(axis=0)\n",
    "swy=wy.sum(axis=0)\n",
    "swx=wx.sum(axis=0)\n",
    "swx2=wx2.sum(axis=0)\n",
    "swxy=wxy.sum(axis=0)\n",
    "delta=sw*swx2-(swx**2)\n",
    "# a1=(swy*swx2-swx*swxy)/delta\n",
    "b1=(sw*swxy-swx*swy)/delta"
   ]
  },
  {
   "cell_type": "markdown",
   "metadata": {},
   "source": [
    "Con el último ajuste mejoramos el error en cuadratura, que será el peso estadístico para los ajustes lineales que van en el método Monte Carlo."
   ]
  },
  {
   "cell_type": "code",
   "execution_count": 26,
   "metadata": {
    "collapsed": false
   },
   "outputs": [],
   "source": [
    "epsmc=np.sqrt(sigy**2+(b1*sigx)**2)\n",
    "w=1/(epsmc**2)\n",
    "fout.write(\"%s,%s,%s\\n\" % ('Col','AMC','BMC')) # columnas para la salida de cada ajuste MC"
   ]
  },
  {
   "cell_type": "markdown",
   "metadata": {},
   "source": [
    "La diferencia entre los errores iniciales y los actualizados es del orden del 4%"
   ]
  },
  {
   "cell_type": "code",
   "execution_count": 15,
   "metadata": {
    "collapsed": false
   },
   "outputs": [
    {
     "data": {
      "text/plain": [
       "4.0901084675093289"
      ]
     },
     "execution_count": 15,
     "metadata": {},
     "output_type": "execute_result"
    }
   ],
   "source": [
    "np.mean(100*np.abs(eps-epsmc)/eps)"
   ]
  },
  {
   "cell_type": "markdown",
   "metadata": {},
   "source": [
    "El método Monte Carlo usado aquí se basa en aleatorizar los valores de z y d con ayuda de los errores que proveen los datos. Esto lo hace la función de numpy llamada random.normal. Esto puede tomar un rato."
   ]
  },
  {
   "cell_type": "code",
   "execution_count": 27,
   "metadata": {
    "collapsed": true
   },
   "outputs": [],
   "source": [
    "for k in range (1,niter):\n",
    "    zzran = np.random.normal(df.zz,df.zz_d)\n",
    "    disran=np.random.normal(df.dis,df.dis_d)\n",
    "    x=disran\n",
    "    y=zzran\n",
    "    wy=y*w\n",
    "    wx=x*w\n",
    "    wx2=x*wx\n",
    "    wxy=wx*y\n",
    "    sw=w.sum(axis=0)\n",
    "    swy=wy.sum(axis=0)\n",
    "    swx=wx.sum(axis=0)\n",
    "    swx2=wx2.sum(axis=0)\n",
    "    swxy=wxy.sum(axis=0)\n",
    "    delta=sw*swx2-(swx**2)\n",
    "    amc=(swy*swx2-swx*swxy)/delta\n",
    "    bmc=(sw*swxy-swx*swy)/delta\n",
    "    fout.write(\"%d, %s, %s\\n\" % (k,amc,bmc))"
   ]
  },
  {
   "cell_type": "markdown",
   "metadata": {},
   "source": [
    "Los datos quedan listos para ser leídos en dfmc."
   ]
  },
  {
   "cell_type": "code",
   "execution_count": 28,
   "metadata": {
    "collapsed": true
   },
   "outputs": [],
   "source": [
    "fout.close()\n",
    "dfmc=pd.read_csv('fitresults.txt', index_col=0)"
   ]
  },
  {
   "cell_type": "markdown",
   "metadata": {},
   "source": [
    "Ahora usaremos pylab, un ambiente que nos permite usar muchas funciones numéricas y también graficar."
   ]
  },
  {
   "cell_type": "code",
   "execution_count": 43,
   "metadata": {
    "collapsed": false
   },
   "outputs": [
    {
     "name": "stdout",
     "output_type": "stream",
     "text": [
      "Using matplotlib backend: MacOSX\n",
      "Populating the interactive namespace from numpy and matplotlib\n"
     ]
    }
   ],
   "source": [
    "%pylab\n",
    "%matplotlib inline\n",
    "pylab.rcParams['figure.figsize'] = 12, 8"
   ]
  },
  {
   "cell_type": "code",
   "execution_count": 45,
   "metadata": {
    "collapsed": false
   },
   "outputs": [
    {
     "data": {
      "image/png": "[encoded data removed]",
      "text/plain": [
       "<matplotlib.figure.Figure at 0x1133e4ed0>"
      ]
     },
     "metadata": {},
     "output_type": "display_data"
    }
   ],
   "source": [
    "plt.title(\"Histograma 2D para el ajuste lineal de !H_0\")\n",
    "plt.xlabel(\"Punto de corte\")\n",
    "plt.ylabel(\"Pendiente (!H_0)\")\n",
    "plt.hist2d(dfmc.AMC,dfmc.BMC,bins=50)\n",
    "colorbar()\n",
    "plt.show()"
   ]
  },
  {
   "cell_type": "markdown",
   "metadata": {},
   "source": [
    "Con lo anterior, pasamos a la búsqueda del vector dipolo [aquí](anisotropiaschi2.ipynb)"
   ]
  }
 ],
 "metadata": {
  "kernelspec": {
   "display_name": "Python 2",
   "language": "python",
   "name": "python2"
  },
  "language_info": {
   "codemirror_mode": {
    "name": "ipython",
    "version": 2
   },
   "file_extension": ".py",
   "mimetype": "text/x-python",
   "name": "python",
   "nbconvert_exporter": "python",
   "pygments_lexer": "ipython2",
   "version": "2.7.9"
  }
 },
 "nbformat": 4,
 "nbformat_minor": 0
}
