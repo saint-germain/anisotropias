{
 "cells": [
  {
   "cell_type": "code",
   "execution_count": 1,
   "metadata": {
    "collapsed": false
   },
   "outputs": [
    {
     "name": "stderr",
     "output_type": "stream",
     "text": [
      "/usr/local/lib/python2.7/dist-packages/IPython/html.py:14: ShimWarning: The `IPython.html` package has been deprecated. You should import from `notebook` instead. `IPython.html.widgets` has moved to `ipywidgets`.\n",
      "  \"`IPython.html.widgets` has moved to `ipywidgets`.\", ShimWarning)\n"
     ]
    }
   ],
   "source": [
    "import pandas as pd\n",
    "import numpy as np\n",
    "import matplotlib.pyplot as plt\n",
    "import seaborn as sns\n",
    "import scipy.optimize as op\n",
    "from scipy import stats\n",
    "import emcee\n",
    "import corner\n",
    "from scipy.stats import chisquare\n",
    "%matplotlib inline"
   ]
  },
  {
   "cell_type": "code",
   "execution_count": 2,
   "metadata": {
    "collapsed": true
   },
   "outputs": [],
   "source": [
    "df=pd.read_csv(\"NED26.05.1-D-12.1.0-20160501.csv\",skiprows=12)\n",
    "df=df[np.isnan(df['redshift (z)'])]\n",
    "df=df[df['D (Mpc)']<500]\n",
    "df=df[np.isfinite(df.err)]\n",
    "df=df[df['D (Mpc)']>35]"
   ]
  },
  {
   "cell_type": "code",
   "execution_count": 3,
   "metadata": {
    "collapsed": false
   },
   "outputs": [
    {
     "name": "stdout",
     "output_type": "stream",
     "text": [
      "AGN time lag (24, 15)\n",
      "Black Hole (12, 15)\n",
      "CMD (3, 15)\n",
      "Cepheids (4, 15)\n",
      "D-Sigma (815, 15)\n",
      "Dwarf Galaxy Diameter (6, 15)\n",
      "FP (11038, 15)\n",
      "Faber-Jackson (527, 15)\n",
      "GCLF (36, 15)\n",
      "GeV TeV ratio (3, 15)\n",
      "H I + optical distribution (1, 15)\n",
      "HII region diameter (1, 15)\n",
      "IRAS (2089, 15)\n",
      "Maser (6, 15)\n",
      "Ring Diameter (71, 15)\n",
      "SBF (236, 15)\n",
      "SGRB (5, 15)\n",
      "SNII optical (319, 15)\n",
      "SNII radio (6, 15)\n",
      "SNIa (1988, 15)\n",
      "SZ effect (5, 15)\n",
      "Sosies (129, 15)\n",
      "Tertiary (92, 15)\n",
      "Tully est (264, 15)\n",
      "Tully-Fisher (36718, 15)\n"
     ]
    }
   ],
   "source": [
    "for i in np.unique(df.Method):\n",
    "    df1=df[df.Method==i]\n",
    "    print i,df1.shape"
   ]
  },
  {
   "cell_type": "code",
   "execution_count": 4,
   "metadata": {
    "collapsed": false
   },
   "outputs": [
    {
     "data": {
      "text/plain": [
       "array(['2MASX J00024069+0846251', '2MASX J00041398-5113247',\n",
       "       '2MASX J00062236-5010027', ..., 'WISEP J041245.99+294612.5',\n",
       "       'WKK 2029', 'ZwCl 1115.2+3013 03'], dtype=object)"
      ]
     },
     "execution_count": 4,
     "metadata": {},
     "output_type": "execute_result"
    }
   ],
   "source": [
    "listcut=np.unique(df1['Galaxy ID'])\n",
    "listcut"
   ]
  },
  {
   "cell_type": "code",
   "execution_count": 9,
   "metadata": {
    "collapsed": false
   },
   "outputs": [
    {
     "name": "stdout",
     "output_type": "stream",
     "text": [
      "CPU times: user 220 ms, sys: 0 ns, total: 220 ms\n",
      "Wall time: 219 ms\n"
     ]
    }
   ],
   "source": [
    "%%time\n",
    "errlist=np.zeros((len(listcut),8))\n",
    "k=0\n",
    "ncutoff=10\n",
    "nbins=1\n",
    "for i in listcut[:100]:\n",
    "    dfilter=(df1['Galaxy ID']==i)\n",
    "    if(len(df1[dfilter])>ncutoff): # Select galaxies which have more than n measurements\n",
    "        data=np.array([])\n",
    "        dummy=df1[dfilter]\n",
    "        for i in dummy.D:\n",
    "            otherfilter=(dummy.D==i)\n",
    "            # generate distance distribution for each distance modulus/ distance modulus error measurement\n",
    "            AA=10**(np.random.normal(dummy['m-M'][otherfilter],dummy['err'][otherfilter],nbins)/5.+1)\n",
    "            data=np.hstack((data,AA))            \n",
    "        dumerr=disterr[dfilter]\n",
    "        em=len(df1[dfilter])\n",
    "        r = gmm.fit(data[:, np.newaxis])\n",
    "        # Distances in Mpc\n",
    "        errlist[k,0]=r.means_[0, 0]/1e6 # Centroid of the GMM-fitted distribution\n",
    "        errlist[k,1]=em # Number of measurements for each galaxy\n",
    "        errlist[k,2]=np.sqrt(r.covars_[0, 0])/1e6 # Variance of the GMM-fitted distribution\n",
    "        errlist[k,3]=np.percentile(data, 50)/1e6 # Percentiles of the combined distance distributions (50, 84, 16):\n",
    "        errlist[k,4]=np.percentile(data, 84)/1e6-errlist[k,3]\n",
    "        errlist[k,5]=errlist[k,3]-np.percentile(data, 16)/1e6\n",
    "        errlist[k,6]=dumerr.mean() # average reported error (Delta)\n",
    "        errlist[k,7]=dummy['D (Mpc)'].mean() # average reported distance (D)\n",
    "    k+=1\n"
   ]
  },
  {
   "cell_type": "code",
   "execution_count": 8,
   "metadata": {
    "collapsed": false
   },
   "outputs": [
    {
     "data": {
      "text/plain": [
       "(9123, 8)"
      ]
     },
     "execution_count": 8,
     "metadata": {},
     "output_type": "execute_result"
    }
   ],
   "source": [
    "errlist.shape"
   ]
  },
  {
   "cell_type": "code",
   "execution_count": null,
   "metadata": {
    "collapsed": true
   },
   "outputs": [],
   "source": []
  }
 ],
 "metadata": {
  "kernelspec": {
   "display_name": "Python 2",
   "language": "python",
   "name": "python2"
  },
  "language_info": {
   "codemirror_mode": {
    "name": "ipython",
    "version": 2
   },
   "file_extension": ".py",
   "mimetype": "text/x-python",
   "name": "python",
   "nbconvert_exporter": "python",
   "pygments_lexer": "ipython2",
   "version": "2.7.6"
  }
 },
 "nbformat": 4,
 "nbformat_minor": 0
}
