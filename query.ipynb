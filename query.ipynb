{
 "cells": [
  {
   "cell_type": "markdown",
   "metadata": {},
   "source": [
    "# Get redshift data from NED based on the tabulated NED-D file\n",
    "\n",
    "\n",
    "https://ned.ipac.caltech.edu/Library/Distances/NED26.05.1-D-12.1.0-20160501.csv"
   ]
  },
  {
   "cell_type": "code",
   "execution_count": 1,
   "metadata": {
    "collapsed": true
   },
   "outputs": [],
   "source": [
    "import pandas as pd\n",
    "import numpy as np"
   ]
  },
  {
   "cell_type": "code",
   "execution_count": 2,
   "metadata": {
    "collapsed": false
   },
   "outputs": [],
   "source": [
    "df=pd.read_csv(\"NED26.05.1-D-12.1.0-20160501.csv\",skiprows=12)"
   ]
  },
  {
   "cell_type": "code",
   "execution_count": 3,
   "metadata": {
    "collapsed": false,
    "scrolled": true
   },
   "outputs": [
    {
     "data": {
      "text/html": [
       "<div>\n",
       "<table border=\"1\" class=\"dataframe\">\n",
       "  <thead>\n",
       "    <tr style=\"text-align: right;\">\n",
       "      <th></th>\n",
       "      <th>Exclusion Code</th>\n",
       "      <th>D</th>\n",
       "      <th>G</th>\n",
       "      <th>Galaxy ID</th>\n",
       "      <th>m-M</th>\n",
       "      <th>err</th>\n",
       "      <th>D (Mpc)</th>\n",
       "      <th>Method</th>\n",
       "      <th>REFCODE</th>\n",
       "      <th>SN ID</th>\n",
       "      <th>redshift (z)</th>\n",
       "      <th>Hubble const.</th>\n",
       "      <th>Adopted LMC modulus</th>\n",
       "      <th>Date (Yr. - 1980)</th>\n",
       "      <th>Notes</th>\n",
       "    </tr>\n",
       "  </thead>\n",
       "  <tbody>\n",
       "    <tr>\n",
       "      <th>0</th>\n",
       "      <td>RN</td>\n",
       "      <td>1</td>\n",
       "      <td>1</td>\n",
       "      <td>SDSS-II SN 13651</td>\n",
       "      <td>41.64</td>\n",
       "      <td>0.17</td>\n",
       "      <td>1700</td>\n",
       "      <td>SNIa SDSS</td>\n",
       "      <td>2014arXiv1401.3317S</td>\n",
       "      <td>SDSS-II SN 13651</td>\n",
       "      <td>0.249917</td>\n",
       "      <td>70</td>\n",
       "      <td>NaN</td>\n",
       "      <td>34</td>\n",
       "      <td>SDSS CAND. AGN; MLCS2K2</td>\n",
       "    </tr>\n",
       "    <tr>\n",
       "      <th>1</th>\n",
       "      <td>RN</td>\n",
       "      <td>2</td>\n",
       "      <td>1</td>\n",
       "      <td>SDSS-II SN 13651</td>\n",
       "      <td>42.10</td>\n",
       "      <td>0.21</td>\n",
       "      <td>2110</td>\n",
       "      <td>SNIa SDSS</td>\n",
       "      <td>2014arXiv1401.3317S</td>\n",
       "      <td>SDSS-II SN 13651</td>\n",
       "      <td>0.249917</td>\n",
       "      <td>70</td>\n",
       "      <td>NaN</td>\n",
       "      <td>34</td>\n",
       "      <td>SDSS CAND. AGN; SALT 2</td>\n",
       "    </tr>\n",
       "    <tr>\n",
       "      <th>2</th>\n",
       "      <td>RN</td>\n",
       "      <td>999999</td>\n",
       "      <td>1</td>\n",
       "      <td>SDSS-II SN 13651</td>\n",
       "      <td>41.64</td>\n",
       "      <td>0.17</td>\n",
       "      <td>1700</td>\n",
       "      <td>SNIa SDSS</td>\n",
       "      <td>2014arXiv1401.3317S</td>\n",
       "      <td>SDSS-II SN 13651</td>\n",
       "      <td>0.249917</td>\n",
       "      <td>70</td>\n",
       "      <td>NaN</td>\n",
       "      <td>34</td>\n",
       "      <td>SDSS-II SN 13651, SDSS CAND. AGN; MLCS2K2</td>\n",
       "    </tr>\n",
       "    <tr>\n",
       "      <th>3</th>\n",
       "      <td>RN</td>\n",
       "      <td>999999</td>\n",
       "      <td>1</td>\n",
       "      <td>SDSS-II SN 13651</td>\n",
       "      <td>42.10</td>\n",
       "      <td>0.21</td>\n",
       "      <td>2110</td>\n",
       "      <td>SNIa SDSS</td>\n",
       "      <td>2014arXiv1401.3317S</td>\n",
       "      <td>SDSS-II SN 13651</td>\n",
       "      <td>0.249917</td>\n",
       "      <td>70</td>\n",
       "      <td>NaN</td>\n",
       "      <td>34</td>\n",
       "      <td>SDSS-II SN 13651, SDSS CAND. AGN; SALT 2</td>\n",
       "    </tr>\n",
       "    <tr>\n",
       "      <th>4</th>\n",
       "      <td>NaN</td>\n",
       "      <td>3</td>\n",
       "      <td>2</td>\n",
       "      <td>UGC 12889</td>\n",
       "      <td>34.16</td>\n",
       "      <td>0.40</td>\n",
       "      <td>68</td>\n",
       "      <td>Tully-Fisher</td>\n",
       "      <td>2007A&amp;A...465...71T</td>\n",
       "      <td>NaN</td>\n",
       "      <td>NaN</td>\n",
       "      <td>NaN</td>\n",
       "      <td>NaN</td>\n",
       "      <td>27</td>\n",
       "      <td>mean</td>\n",
       "    </tr>\n",
       "  </tbody>\n",
       "</table>\n",
       "</div>"
      ],
      "text/plain": [
       "  Exclusion Code       D  G         Galaxy ID    m-M   err  D (Mpc)  \\\n",
       "0             RN       1  1  SDSS-II SN 13651  41.64  0.17     1700   \n",
       "1             RN       2  1  SDSS-II SN 13651  42.10  0.21     2110   \n",
       "2             RN  999999  1  SDSS-II SN 13651  41.64  0.17     1700   \n",
       "3             RN  999999  1  SDSS-II SN 13651  42.10  0.21     2110   \n",
       "4            NaN       3  2         UGC 12889  34.16  0.40       68   \n",
       "\n",
       "         Method              REFCODE             SN ID  redshift (z)  \\\n",
       "0     SNIa SDSS  2014arXiv1401.3317S  SDSS-II SN 13651      0.249917   \n",
       "1     SNIa SDSS  2014arXiv1401.3317S  SDSS-II SN 13651      0.249917   \n",
       "2     SNIa SDSS  2014arXiv1401.3317S  SDSS-II SN 13651      0.249917   \n",
       "3     SNIa SDSS  2014arXiv1401.3317S  SDSS-II SN 13651      0.249917   \n",
       "4  Tully-Fisher  2007A&A...465...71T               NaN           NaN   \n",
       "\n",
       "   Hubble const.  Adopted LMC modulus  Date (Yr. - 1980)  \\\n",
       "0             70                  NaN                 34   \n",
       "1             70                  NaN                 34   \n",
       "2             70                  NaN                 34   \n",
       "3             70                  NaN                 34   \n",
       "4            NaN                  NaN                 27   \n",
       "\n",
       "                                       Notes  \n",
       "0                    SDSS CAND. AGN; MLCS2K2  \n",
       "1                     SDSS CAND. AGN; SALT 2  \n",
       "2  SDSS-II SN 13651, SDSS CAND. AGN; MLCS2K2  \n",
       "3   SDSS-II SN 13651, SDSS CAND. AGN; SALT 2  \n",
       "4                                       mean  "
      ]
     },
     "execution_count": 3,
     "metadata": {},
     "output_type": "execute_result"
    }
   ],
   "source": [
    "df.head()"
   ]
  },
  {
   "cell_type": "code",
   "execution_count": 4,
   "metadata": {
    "collapsed": false
   },
   "outputs": [],
   "source": [
    "# find sources with NaN values for redshift, those are the ones we're interested in\n",
    "# create a list with those names\n",
    "listrs=np.unique(df['Galaxy ID'][np.isnan(df['redshift (z)'])])"
   ]
  },
  {
   "cell_type": "code",
   "execution_count": 5,
   "metadata": {
    "collapsed": false
   },
   "outputs": [],
   "source": [
    "from astroquery.ned import Ned"
   ]
  },
  {
   "cell_type": "code",
   "execution_count": 154,
   "metadata": {
    "collapsed": false
   },
   "outputs": [
    {
     "data": {
      "text/plain": [
       "<TableColumns names=('No.','Object Name','RA(deg)','DEC(deg)','Type','Velocity','Redshift','Redshift Flag','Magnitude and Filter','Distance (arcmin)','References','Notes','Photometry Points','Positions','Redshift Points','Diameter Points','Associations')>"
      ]
     },
     "execution_count": 154,
     "metadata": {},
     "output_type": "execute_result"
    }
   ],
   "source": [
    "result_table.columns"
   ]
  },
  {
   "cell_type": "code",
   "execution_count": 63,
   "metadata": {
    "collapsed": false,
    "scrolled": true
   },
   "outputs": [
    {
     "name": "stdout",
     "output_type": "stream",
     "text": [
      "100 AGC 211465 0.035581 170.08417 34.30519\n",
      "200 AGC 749315 0.002151 157.28375 26.90417\n",
      "400 ARK 459 0.029494 221.61538 11.50735\n",
      "500 Bol 225 -0.00055 11.12421 41.35704\n",
      "600 CGCG 014-054 0.003686 187.7659 1.6757\n",
      "700 CGCG 059-051 0.019654 122.86277 8.94103\n",
      "800 CGCG 073-051 0.003889 204.18262 8.54688\n",
      "900 CGCG 080-042 0.017152 247.43378 11.84712\n",
      "1000 CGCG 121-025 0.038568 137.34293 24.24539\n",
      "1100 CGCG 161-130 0.04405 205.7026 29.70575\n",
      "1200 CGCG 313-029 0.022538 159.3833 65.01828\n",
      "1300 CGCG 406-042 0.011888 349.27304 7.12283\n",
      "1400 CGCG 452-010 0.02953 336.58192 19.58189\n",
      "1500 CGCG 497-003 0.031105 350.00504 32.92286\n",
      "1600 DDO 032 0.007397 48.65967 -4.77392\n",
      "1800 ESO 027- G 017 0.026685 342.99779 -80.83583\n",
      "1900 ESO 059- G 024 0.028073 120.61504 -72.42492\n",
      "2000 ESO 091- G 010 0.015217 140.86721 -62.88225\n",
      "2100 ESO 121- G 006 0.004039 91.87442 -61.80758\n",
      "2200 ESO 148- G 020 0.010696 354.0864 -57.62934\n",
      "2300 ESO 185- G 005 0.045165 294.56496 -52.82108\n",
      "2400 ESO 206- G 019 0.036875 100.339 -51.41275\n",
      "2500 ESO 234- G 013 0.015963 305.63525 -50.75289\n",
      "2600 ESO 249- G 035 0.003436 59.73579 -45.85891\n",
      "2700 ESO 269- G 031 0.023189 195.13325 -45.41467\n",
      "2800 ESO 286- G 042 0.026502 316.37908 -47.04569\n",
      "2900 ESO 308- G 005 0.031875 96.31992 -37.80114\n",
      "3000 ESO 323- G 097 0.016712 198.49104 -39.25964\n",
      "3100 ESO 346- G 021 0.028526 344.57021 -38.94739\n",
      "3200 ESO 364-IG 042 NED01 0.038417 92.77582 -33.29956\n",
      "3300 ESO 381- G 018 0.002083 191.17663 -35.96672\n",
      "3400 ESO 386- G 041 0.013696 224.25158 -35.88483\n",
      "3500 ESO 414- G 025 0.016591 30.55013 -28.65744\n",
      "3600 ESO 434- G 010 0.008483 142.80004 -30.21425\n",
      "3700 ESO 443- G 043 0.012082 196.00258 -30.36903\n",
      "3800 ESO 459- G 006 0.019163 288.03671 -32.1265\n",
      "3900 ESO 477- G 001 0.030094 25.90021 -26.94794\n",
      "4000 ESO 489- G 043 0.03796 95.52875 -23.37067\n",
      "4100 ESO 502- G 024 0.003926 168.164 -23.46217\n",
      "4200 ESO 510- G 066 0.024333 211.81535 -27.158\n",
      "4300 ESO 534- G 030 0.026418 343.54915 -25.25207\n",
      "4400 ESO 551- G 025 0.031228 69.82788 -22.21161\n",
      "4500 ESO 563- G 031 0.005654 133.07639 -17.74454\n",
      "4600 ESO 575- G 026 0.02929 193.91146 -22.51814\n",
      "4700 ESO 584- G 005 0.022422 241.68254 -18.21328\n",
      "4800 FAIRALL 0131 0.040415 338.18583 -59.47158\n",
      "5000 FGC 0429 0.037976 51.89433 8.99517\n",
      "5100 FGC 0811 0.02413 133.64392 40.02714\n",
      "5200 FGC 1565 0.036423 197.06008 43.92458\n",
      "5300 FGC 2126 0.036038 259.63387 41.66844\n",
      "5400 FGCE 0527 0.01914 86.58792 -17.38306\n",
      "5500 GIN 095 0.041355 24.11516 -9.47861\n",
      "5600 GIN 268 0.042716 86.89463 -25.54569\n",
      "5700 GIN 494 0.034144 241.27673 23.86499\n",
      "5800 GIN 762 0.016968 194.84424 27.89688\n",
      "6200 IC 0090 0.018519 19.12648 -7.97714\n",
      "6300 IC 0416 0.010644 80.98492 -17.26042\n",
      "6400 IC 0756 0.020931 180.74088 4.84585\n",
      "6500 IC 1162 0.044454 240.31804 17.67783\n",
      "6600 IC 1545 0.018806 5.33712 21.98345\n",
      "6700 IC 1870 0.005134 44.47304 -2.34708\n",
      "6800 IC 2409 0.021111 132.10274 18.33113\n",
      "6900 IC 3074 0.006601 183.94246 10.69919\n",
      "7000 IC 3693 0.005577 190.74175 10.68181\n",
      "7100 IC 4350 0.020681 209.308 -25.24581\n",
      "7200 IC 4769 0.015124 281.93354 -63.157\n",
      "7300 IC 5089 0.031432 317.7272 -3.86279\n",
      "7400 II Zw 017 0.032449 68.82237 -1.73122\n",
      "7500 KUG 0825+222 0.021518 127.06808 22.03475\n",
      "7600 KUG 1621+393 0.030041 245.86692 39.19141\n",
      "7700 LCRS B100742.4-054242 0.049888 152.55258 -5.95862\n",
      "7800 LCRS B144441.3-061451 0.032719 221.83246 -6.45553\n",
      "7900 LSBG F358-045 0.004266 54.32492 -35.69856\n",
      "8000 MCG +00-11-030 0.028727 63.79799 -0.84814\n",
      "8100 MCG -01-01-052 0.018026 3.39333 -5.09311\n",
      "8200 MCG -01-23-003 0.031175 132.35454 -6.68053\n",
      "8300 MCG -01-52-016 0.013009 309.72704 -5.64\n",
      "8400 MCG -02-07-041 0.015431 38.93575 -13.65486\n",
      "8500 MCG -02-29-027 0.017979 171.2205 -13.57239\n",
      "8600 MCG -03-04-038 0.044834 19.34926 -16.06248\n",
      "8700 MCG -03-57-016 0.024887 337.8054 -17.32802\n",
      "8800 MESSIER 032 -0.000667 10.6743 40.86529\n",
      "8900 MRK 1044 0.016451 37.52302 -8.99814\n",
      "9000 NGC 0148 0.005057 8.56458 -31.786\n",
      "9100 NGC 0363 0.037499 16.5658 -16.54275\n",
      "9200 NGC 0565 0.015117 22.04242 -1.30603\n",
      "9300 NGC 0770 0.008483 29.80683 18.95467\n",
      "9400 NGC 0986 0.006585 38.39312 -39.04506\n",
      "9500 NGC 1192 0.032059 45.89429 -15.67883\n",
      "9600 NGC 1377 0.005977 54.16283 -20.90225\n",
      "9700 NGC 1553 0.003602 64.04363 -55.78014\n",
      "9800 NGC 1800 0.002692 76.60717 -31.95422\n",
      "10000 NGC 2573B 0.008533 346.88675 -89.1165\n",
      "10100 NGC 2787 0.002322 139.82749 69.20325\n",
      "10200 NGC 2990 0.0103 146.5715 5.7088\n",
      "10300 NGC 3165 0.00447 153.3804 3.37501\n",
      "10400 NGC 3329 0.006498 161.16404 76.80944\n",
      "10500 NGC 3511 0.003699 165.84904 -23.08678\n",
      "10600 NGC 3703 0.037563 172.28899 -8.44645\n",
      "10700 NGC 3905 0.01926 177.27045 -9.72983\n",
      "10800 NGC 4110 0.02404 181.76438 18.53172\n",
      "10900 NGC 4262 0.004533 184.8774 14.87765\n",
      "11000 NGC 4425 0.006364 186.80555 12.73472\n",
      "11100 NGC 4564 0.003809 189.11243 11.43928\n",
      "11200 NGC 4696 0.009867 192.20521 -41.31083\n",
      "11300 NGC 4843 0.016398 194.50342 -3.62114\n",
      "11400 NGC 5004C 0.02419 197.75709 29.57828\n",
      "11500 NGC 5193 0.012379 202.97304 -33.23422\n",
      "11600 NGC 5387 0.017305 209.60329 6.07128\n",
      "11700 NGC 5610 0.016888 216.09558 24.61413\n",
      "11800 NGC 5786 0.01 224.73442 -42.01336\n",
      "11900 NGC 6021 0.015818 239.37787 15.95605\n",
      "12000 NGC 6339 0.007032 259.27708 40.84497\n",
      "12100 NGC 6753 0.01057 287.8485 -57.04956\n",
      "12200 NGC 6915 0.018903 306.94192 -3.07706\n",
      "12300 NGC 7163 0.009186 329.83517 -31.88317\n",
      "12400 NGC 7349 0.01495 340.31208 -21.7985\n",
      "12500 NGC 7594 0.036178 349.558 10.29831\n",
      "12600 NGC 7796 0.011221 359.74906 -55.45832\n",
      "12700 PKS 0447-439 0.107 72.35287 -43.83581\n",
      "12800 SDSS J000502.85+010847.0 0.181307 1.26188 1.1464\n",
      "12900 SDSS J013032.21+001311.2 0.368 22.63411 0.221\n",
      "13100 SDSS J141853.47+091728.6 0.003966 214.72282 9.29131\n",
      "13200 SDSS J220046.28+005541.4 0.2174 330.19285 0.92818\n",
      "13400 SDSS-II SN 04078 0.5 25.31376 0.64449\n",
      "13500 SDSS-II SN 06660 0.185 326.38801 -0.25224\n",
      "13700 SDSS-II SN 13593 0.461 317.84609 0.21238\n",
      "13800 SDSS-II SN 14470 0.205 44.2149 -0.35178\n",
      "13900 SDSS-II SN 15259 HOST 0.21003 337.54419 -0.40779\n",
      "14100 SDSS-II SN 16727 0.304 339.00473 0.13203\n",
      "14200 SDSS-II SN 18626 0.352 339.76609 -0.27258\n",
      "14300 SDSS-II SN 19689 0.245 17.02687 -0.08246\n",
      "14400 SDSS-II SN 20870 0.23 14.49778 -0.68633\n",
      "14500 SKHV 323 -0.000991 11.63975 40.73718\n",
      "15400 UGC 00179 0.01496 4.75237 23.47653\n",
      "15500 UGC 00488 0.039317 11.83087 14.70354\n",
      "15600 UGC 00876 0.016982 20.19096 4.18006\n",
      "15700 UGC 01244 0.010414 26.70638 24.46525\n",
      "15800 UGC 01593 0.024787 31.52488 13.28523\n",
      "15900 UGC 01938 0.021248 37.09221 23.21467\n",
      "16000 UGC 02327 0.021031 42.66253 20.6827\n",
      "16100 UGC 02659 0.020541 49.72237 40.59583\n",
      "16200 UGC 02962 0.018076 61.92658 25.77269\n",
      "16300 UGC 03236 0.0284 75.88837 6.65736\n",
      "16400 UGC 03489 0.018209 98.38962 21.03711\n",
      "16500 UGC 03802 0.015838 109.94487 30.91553\n",
      "16600 UGC 04115 0.001137 119.2575 14.39083\n",
      "16700 UGC 04499 0.002305 129.42285 51.6524\n",
      "16800 UGC 04922 0.006641 139.65222 47.87243\n",
      "16900 UGC 05349 0.004607 149.52583 37.29261\n",
      "17000 UGC 05738 0.005057 158.62423 35.25677\n",
      "17100 UGC 06199 0.015938 167.4656 62.29183\n",
      "17200 UGC 06670 0.003075 175.62258 18.33278\n",
      "17300 UGC 07164 0.007085 182.59167 70.51528\n",
      "17400 UGC 07854 0.003236 190.46658 9.40289\n",
      "17500 UGC 08333 0.003119 198.97461 25.43546\n",
      "17600 UGC 08801 0.023676 208.38325 -1.19447\n",
      "17700 UGC 09214 0.034234 215.73071 32.85074\n",
      "17800 UGC 09558 0.044998 222.79128 17.18892\n",
      "17900 UGC 09958 0.041779 234.91269 21.78272\n",
      "18000 UGC 10285 0.049524 243.31176 30.90254\n",
      "18100 UGC 10683 NED01 0.030341 256.23696 -1.53044\n",
      "18200 UGC 11182 0.014337 273.69221 56.49836\n",
      "18300 UGC 11580 0.014647 307.71146 8.09139\n",
      "18400 UGC 11873 0.02476 330.16946 19.66794\n",
      "18500 UGC 12194 0.03344 342.21188 27.96264\n",
      "18600 UGC 12495 0.008726 349.70221 16.62733\n",
      "18700 UGC 12753 0.039557 355.86971 13.20967\n",
      "18800 UGCA 103 0.003242 77.69571 -31.59711\n",
      "18900 UGCA 307 0.002739 193.48871 -12.10582\n",
      "19000 VCC 0513 0.006179 185.49083 2.34508\n",
      "19100 WHL J002844.3-000547 0.2248 7.18458 -0.09639\n"
     ]
    }
   ],
   "source": [
    "# Here we request z, RA, DEC data from NED for each source in listrs\n",
    "# this part skips errors due to NED not recognizing some names in listrs (weird)\n",
    "# this will take > 2 hours\n",
    "names=[]\n",
    "rshifts=[]\n",
    "RAlist=[]\n",
    "DEClist=[]\n",
    "k=0\n",
    "for i in listrs[]:\n",
    "    k=k+1\n",
    "    try:\n",
    "        result_table = Ned.query_object(i)\n",
    "        if(not(result_table['Redshift'][0] is np.ma.masked)):\n",
    "            if(np.mod(k,100)==0):\n",
    "                print k,i, result_table['Redshift'][0],result_table['RA(deg)'][0],result_table['DEC(deg)'][0]\n",
    "            names.append(i)\n",
    "            rshifts.append(result_table['Redshift'][0])\n",
    "            RAlist.append(result_table['RA(deg)'][0])\n",
    "            DEClist.append(result_table['DEC(deg)'][0])\n",
    "    except:\n",
    "        pass"
   ]
  },
  {
   "cell_type": "code",
   "execution_count": 86,
   "metadata": {
    "collapsed": true
   },
   "outputs": [],
   "source": [
    "# set up dataframe\n",
    "# this is usually done by defining a dictionary-type object with our lists\n",
    "diction={'Names' : names, 'Redshift': rshifts, 'RA': RAlist, 'DEC': DEClist}"
   ]
  },
  {
   "cell_type": "code",
   "execution_count": 87,
   "metadata": {
    "collapsed": false
   },
   "outputs": [],
   "source": [
    "df5=pd.DataFrame(diction)"
   ]
  },
  {
   "cell_type": "code",
   "execution_count": 100,
   "metadata": {
    "collapsed": true
   },
   "outputs": [],
   "source": [
    "# rearrange column order because for some reason the dictionary-to-dataframe step doesn't preserve order\n",
    "cols=['Names', 'RA','DEC', 'Redshift']"
   ]
  },
  {
   "cell_type": "code",
   "execution_count": 102,
   "metadata": {
    "collapsed": false
   },
   "outputs": [],
   "source": [
    "df5=df5[cols]"
   ]
  },
  {
   "cell_type": "code",
   "execution_count": 103,
   "metadata": {
    "collapsed": true
   },
   "outputs": [],
   "source": [
    "df5.to_csv('redshiftdata.csv')"
   ]
  },
  {
   "cell_type": "code",
   "execution_count": 95,
   "metadata": {
    "collapsed": false
   },
   "outputs": [],
   "source": [
    "# no need for this, but it's good to know\n",
    "df5=pd.concat([df3,df4])\n",
    "df5.index = np.arange(len(df5))"
   ]
  },
  {
   "cell_type": "code",
   "execution_count": null,
   "metadata": {
    "collapsed": true
   },
   "outputs": [],
   "source": []
  }
 ],
 "metadata": {
  "kernelspec": {
   "display_name": "Python 2",
   "language": "python",
   "name": "python2"
  },
  "language_info": {
   "codemirror_mode": {
    "name": "ipython",
    "version": 2
   },
   "file_extension": ".py",
   "mimetype": "text/x-python",
   "name": "python",
   "nbconvert_exporter": "python",
   "pygments_lexer": "ipython2",
   "version": "2.7.6"
  }
 },
 "nbformat": 4,
 "nbformat_minor": 0
}
